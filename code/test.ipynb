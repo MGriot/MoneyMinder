{
 "cells": [
  {
   "cell_type": "code",
   "execution_count": 1,
   "metadata": {},
   "outputs": [],
   "source": [
    "import pandas as pd"
   ]
  },
  {
   "cell_type": "markdown",
   "metadata": {},
   "source": [
    "# Lettura dati"
   ]
  },
  {
   "cell_type": "code",
   "execution_count": 22,
   "metadata": {},
   "outputs": [
    {
     "data": {
      "text/html": [
       "<div>\n",
       "<style scoped>\n",
       "    .dataframe tbody tr th:only-of-type {\n",
       "        vertical-align: middle;\n",
       "    }\n",
       "\n",
       "    .dataframe tbody tr th {\n",
       "        vertical-align: top;\n",
       "    }\n",
       "\n",
       "    .dataframe thead th {\n",
       "        text-align: right;\n",
       "    }\n",
       "</style>\n",
       "<table border=\"1\" class=\"dataframe\">\n",
       "  <thead>\n",
       "    <tr style=\"text-align: right;\">\n",
       "      <th></th>\n",
       "      <th>Unnamed: 0</th>\n",
       "      <th>Data</th>\n",
       "      <th>Operazione</th>\n",
       "      <th>Dettagli</th>\n",
       "      <th>Conto o carta</th>\n",
       "      <th>Contabilizzazione</th>\n",
       "      <th>Categoria banca</th>\n",
       "      <th>Valuta</th>\n",
       "      <th>Importo</th>\n",
       "      <th>Categoria</th>\n",
       "      <th>Subcategoria</th>\n",
       "      <th>Commento</th>\n",
       "    </tr>\n",
       "  </thead>\n",
       "  <tbody>\n",
       "    <tr>\n",
       "      <th>0</th>\n",
       "      <td>103.0</td>\n",
       "      <td>2022-11-02</td>\n",
       "      <td>Trenit S721130bstazione Pinerolo</td>\n",
       "      <td>Effettuato Il 02/11/2022 Alle Ore 0740 Mediant...</td>\n",
       "      <td>Conto 1000/00071615</td>\n",
       "      <td>CONTABILIZZATO</td>\n",
       "      <td>Trasporti, noleggi, taxi e parcheggi</td>\n",
       "      <td>EUR</td>\n",
       "      <td>-42.00</td>\n",
       "      <td>NaN</td>\n",
       "      <td>NaN</td>\n",
       "      <td>NaN</td>\n",
       "    </tr>\n",
       "    <tr>\n",
       "      <th>1</th>\n",
       "      <td>102.0</td>\n",
       "      <td>2022-11-05</td>\n",
       "      <td>Lappetito Corso Torino 48 P</td>\n",
       "      <td>LAPPETITO CORSO TORINO 48 P05/112058 Carta N.5...</td>\n",
       "      <td>Conto 1000/00071615</td>\n",
       "      <td>CONTABILIZZATO</td>\n",
       "      <td>Ristoranti e bar</td>\n",
       "      <td>EUR</td>\n",
       "      <td>-14.00</td>\n",
       "      <td>NaN</td>\n",
       "      <td>NaN</td>\n",
       "      <td>NaN</td>\n",
       "    </tr>\n",
       "    <tr>\n",
       "      <th>2</th>\n",
       "      <td>101.0</td>\n",
       "      <td>2022-11-12</td>\n",
       "      <td>ILIAD ITALIA Roma</td>\n",
       "      <td>EFFETTUATO IL 12/11/2022 ALLE ORE 0209 MEDIANT...</td>\n",
       "      <td>Conto 1000/00071615</td>\n",
       "      <td>CONTABILIZZATO</td>\n",
       "      <td>Cellulare</td>\n",
       "      <td>EUR</td>\n",
       "      <td>-5.99</td>\n",
       "      <td>NaN</td>\n",
       "      <td>NaN</td>\n",
       "      <td>NaN</td>\n",
       "    </tr>\n",
       "    <tr>\n",
       "      <th>3</th>\n",
       "      <td>100.0</td>\n",
       "      <td>2022-12-01</td>\n",
       "      <td>Trenit S721130bstazione Pinerolo</td>\n",
       "      <td>Effettuato Il 01/12/2022 Alle Ore 0806 Mediant...</td>\n",
       "      <td>Conto 1000/00071615</td>\n",
       "      <td>CONTABILIZZATO</td>\n",
       "      <td>Trasporti, noleggi, taxi e parcheggi</td>\n",
       "      <td>EUR</td>\n",
       "      <td>-42.00</td>\n",
       "      <td>NaN</td>\n",
       "      <td>NaN</td>\n",
       "      <td>NaN</td>\n",
       "    </tr>\n",
       "    <tr>\n",
       "      <th>4</th>\n",
       "      <td>99.0</td>\n",
       "      <td>2022-12-07</td>\n",
       "      <td>263806013007357#the Space Cinema Beinasco</td>\n",
       "      <td>Effettuato Il 07/12/2022 Alle Ore 1331 Mediant...</td>\n",
       "      <td>Conto 1000/00071615</td>\n",
       "      <td>CONTABILIZZATO</td>\n",
       "      <td>Spettacoli e musei</td>\n",
       "      <td>EUR</td>\n",
       "      <td>-71.40</td>\n",
       "      <td>NaN</td>\n",
       "      <td>NaN</td>\n",
       "      <td>NaN</td>\n",
       "    </tr>\n",
       "  </tbody>\n",
       "</table>\n",
       "</div>"
      ],
      "text/plain": [
       "   Unnamed: 0        Data                                 Operazione  \\\n",
       "0       103.0  2022-11-02           Trenit S721130bstazione Pinerolo   \n",
       "1       102.0  2022-11-05                Lappetito Corso Torino 48 P   \n",
       "2       101.0  2022-11-12                          ILIAD ITALIA Roma   \n",
       "3       100.0  2022-12-01           Trenit S721130bstazione Pinerolo   \n",
       "4        99.0  2022-12-07  263806013007357#the Space Cinema Beinasco   \n",
       "\n",
       "                                            Dettagli        Conto o carta  \\\n",
       "0  Effettuato Il 02/11/2022 Alle Ore 0740 Mediant...  Conto 1000/00071615   \n",
       "1  LAPPETITO CORSO TORINO 48 P05/112058 Carta N.5...  Conto 1000/00071615   \n",
       "2  EFFETTUATO IL 12/11/2022 ALLE ORE 0209 MEDIANT...  Conto 1000/00071615   \n",
       "3  Effettuato Il 01/12/2022 Alle Ore 0806 Mediant...  Conto 1000/00071615   \n",
       "4  Effettuato Il 07/12/2022 Alle Ore 1331 Mediant...  Conto 1000/00071615   \n",
       "\n",
       "  Contabilizzazione                        Categoria banca Valuta  Importo  \\\n",
       "0    CONTABILIZZATO  Trasporti, noleggi, taxi e parcheggi     EUR   -42.00   \n",
       "1    CONTABILIZZATO                       Ristoranti e bar    EUR   -14.00   \n",
       "2    CONTABILIZZATO                              Cellulare    EUR    -5.99   \n",
       "3    CONTABILIZZATO  Trasporti, noleggi, taxi e parcheggi     EUR   -42.00   \n",
       "4    CONTABILIZZATO                     Spettacoli e musei    EUR   -71.40   \n",
       "\n",
       "   Categoria  Subcategoria  Commento  \n",
       "0        NaN           NaN       NaN  \n",
       "1        NaN           NaN       NaN  \n",
       "2        NaN           NaN       NaN  \n",
       "3        NaN           NaN       NaN  \n",
       "4        NaN           NaN       NaN  "
      ]
     },
     "execution_count": 22,
     "metadata": {},
     "output_type": "execute_result"
    }
   ],
   "source": [
    "df = pd.read_csv(\n",
    "    \"C:/Users/Admin/Documents/GitHub/MoneyMinder/data/dataframe_20231202_194450.csv\"\n",
    ")\n",
    "df.head()"
   ]
  },
  {
   "cell_type": "code",
   "execution_count": 23,
   "metadata": {},
   "outputs": [
    {
     "name": "stdout",
     "output_type": "stream",
     "text": [
      "<class 'pandas.core.frame.DataFrame'>\n",
      "RangeIndex: 143 entries, 0 to 142\n",
      "Data columns (total 12 columns):\n",
      " #   Column             Non-Null Count  Dtype  \n",
      "---  ------             --------------  -----  \n",
      " 0   Unnamed: 0         104 non-null    float64\n",
      " 1   Data               143 non-null    object \n",
      " 2   Operazione         143 non-null    object \n",
      " 3   Dettagli           143 non-null    object \n",
      " 4   Conto o carta      143 non-null    object \n",
      " 5   Contabilizzazione  143 non-null    object \n",
      " 6   Categoria banca    143 non-null    object \n",
      " 7   Valuta             143 non-null    object \n",
      " 8   Importo            143 non-null    float64\n",
      " 9   Categoria          0 non-null      float64\n",
      " 10  Subcategoria       0 non-null      float64\n",
      " 11  Commento           0 non-null      float64\n",
      "dtypes: float64(5), object(7)\n",
      "memory usage: 13.5+ KB\n"
     ]
    }
   ],
   "source": [
    "df.info()"
   ]
  },
  {
   "cell_type": "code",
   "execution_count": null,
   "metadata": {},
   "outputs": [],
   "source": []
  },
  {
   "cell_type": "code",
   "execution_count": 24,
   "metadata": {},
   "outputs": [],
   "source": [
    "def process_data(df, date=df[\"Data\"]):\n",
    "    date = pd.to_datetime(date)\n",
    "    df[\"Data\"].fillna(pd.NaT, inplace=True)\n",
    "    df[\"UTC\"] = date.dt.tz_localize(\"Europe/Rome\").dt.tz_convert(\"UTC\")\n",
    "    df[\"UTC\"].apply(lambda x: x.timestamp()).astype(int)\n",
    "    # Converti la colonna 'Importo' in numeri\n",
    "    df[\"Importo\"] = pd.to_numeric(df[\"Importo\"], errors=\"coerce\")\n",
    "    # Calcola il saldo del conto dopo ogni transazione\n",
    "    df[\"Balance\"] = df[\"Importo\"].cumsum()\n",
    "    return df"
   ]
  },
  {
   "cell_type": "code",
   "execution_count": 25,
   "metadata": {},
   "outputs": [
    {
     "name": "stdout",
     "output_type": "stream",
     "text": [
      "<class 'pandas.core.frame.DataFrame'>\n",
      "RangeIndex: 143 entries, 0 to 142\n",
      "Data columns (total 14 columns):\n",
      " #   Column             Non-Null Count  Dtype              \n",
      "---  ------             --------------  -----              \n",
      " 0   Unnamed: 0         104 non-null    float64            \n",
      " 1   Data               143 non-null    object             \n",
      " 2   Operazione         143 non-null    object             \n",
      " 3   Dettagli           143 non-null    object             \n",
      " 4   Conto o carta      143 non-null    object             \n",
      " 5   Contabilizzazione  143 non-null    object             \n",
      " 6   Categoria banca    143 non-null    object             \n",
      " 7   Valuta             143 non-null    object             \n",
      " 8   Importo            143 non-null    float64            \n",
      " 9   Categoria          0 non-null      float64            \n",
      " 10  Subcategoria       0 non-null      float64            \n",
      " 11  Commento           0 non-null      float64            \n",
      " 12  UTC                143 non-null    datetime64[ns, UTC]\n",
      " 13  Balance            143 non-null    float64            \n",
      "dtypes: datetime64[ns, UTC](1), float64(6), object(7)\n",
      "memory usage: 15.8+ KB\n"
     ]
    }
   ],
   "source": [
    "df = process_data(df)\n",
    "df.info()"
   ]
  },
  {
   "cell_type": "markdown",
   "metadata": {},
   "source": [
    "Sì, è possibile utilizzare un sistema di riferimento diverso dal timestamp Unix (che ha come riferimento il 1 gennaio 1970). Tuttavia, dovrai definire il tuo sistema di riferimento. Ad esempio, potresti voler contare il numero di giorni a partire da una data specifica. Ecco un esempio di come potresti farlo:\n",
    "\n",
    "```python\n",
    "from datetime import datetime\n",
    "\n",
    "# Definisci la tua data di riferimento\n",
    "data_riferimento = datetime(2000, 1, 1)\n",
    "\n",
    "# Calcola il numero di giorni tra la data di riferimento e la data che vuoi convertire\n",
    "df['giorni'] = (df['Data'] - data_riferimento).dt.days\n",
    "```\n",
    "\n",
    "In questo esempio, `'Data'` è il nome della colonna con le date e `'giorni'` sarà la nuova colonna con il numero di giorni trascorsi dalla data di riferimento. Questo codice sottrae la data di riferimento da ogni data nella colonna 'Data' e calcola il numero di giorni tra le due date.\n",
    "\n",
    "Ricorda che questo è solo un esempio e potresti dover adattarlo in base alle tue esigenze specifiche. Ad esempio, potresti voler contare il numero di minuti, ore o secondi invece che di giorni. In tal caso, dovrai modificare il codice di conseguenza. Se hai bisogno di ulteriori dettagli o hai altre domande, non esitare a chiedere!"
   ]
  },
  {
   "cell_type": "code",
   "execution_count": 18,
   "metadata": {},
   "outputs": [],
   "source": [
    "# UTC to datetime\n",
    "def UTC_to_datetime(df, date=df[\"Data\"]):\n",
    "    date = pd.to_datetime(df[\"UTC\"], unit=\"s\")\n",
    "    return df"
   ]
  },
  {
   "cell_type": "code",
   "execution_count": 20,
   "metadata": {},
   "outputs": [
    {
     "data": {
      "text/html": [
       "<div>\n",
       "<style scoped>\n",
       "    .dataframe tbody tr th:only-of-type {\n",
       "        vertical-align: middle;\n",
       "    }\n",
       "\n",
       "    .dataframe tbody tr th {\n",
       "        vertical-align: top;\n",
       "    }\n",
       "\n",
       "    .dataframe thead th {\n",
       "        text-align: right;\n",
       "    }\n",
       "</style>\n",
       "<table border=\"1\" class=\"dataframe\">\n",
       "  <thead>\n",
       "    <tr style=\"text-align: right;\">\n",
       "      <th></th>\n",
       "      <th>Unnamed: 0</th>\n",
       "      <th>Data</th>\n",
       "      <th>Operazione</th>\n",
       "      <th>Dettagli</th>\n",
       "      <th>Conto o carta</th>\n",
       "      <th>Contabilizzazione</th>\n",
       "      <th>Categoria banca</th>\n",
       "      <th>Valuta</th>\n",
       "      <th>Importo</th>\n",
       "      <th>Categoria</th>\n",
       "      <th>Subcategoria</th>\n",
       "      <th>Commento</th>\n",
       "      <th>UTC</th>\n",
       "    </tr>\n",
       "  </thead>\n",
       "  <tbody>\n",
       "    <tr>\n",
       "      <th>0</th>\n",
       "      <td>103.0</td>\n",
       "      <td>2022-11-02</td>\n",
       "      <td>Trenit S721130bstazione Pinerolo</td>\n",
       "      <td>Effettuato Il 02/11/2022 Alle Ore 0740 Mediant...</td>\n",
       "      <td>Conto 1000/00071615</td>\n",
       "      <td>CONTABILIZZATO</td>\n",
       "      <td>Trasporti, noleggi, taxi e parcheggi</td>\n",
       "      <td>EUR</td>\n",
       "      <td>-42.00</td>\n",
       "      <td>NaN</td>\n",
       "      <td>NaN</td>\n",
       "      <td>NaN</td>\n",
       "      <td>2022-11-01 23:00:00+00:00</td>\n",
       "    </tr>\n",
       "    <tr>\n",
       "      <th>1</th>\n",
       "      <td>102.0</td>\n",
       "      <td>2022-11-05</td>\n",
       "      <td>Lappetito Corso Torino 48 P</td>\n",
       "      <td>LAPPETITO CORSO TORINO 48 P05/112058 Carta N.5...</td>\n",
       "      <td>Conto 1000/00071615</td>\n",
       "      <td>CONTABILIZZATO</td>\n",
       "      <td>Ristoranti e bar</td>\n",
       "      <td>EUR</td>\n",
       "      <td>-14.00</td>\n",
       "      <td>NaN</td>\n",
       "      <td>NaN</td>\n",
       "      <td>NaN</td>\n",
       "      <td>2022-11-04 23:00:00+00:00</td>\n",
       "    </tr>\n",
       "    <tr>\n",
       "      <th>2</th>\n",
       "      <td>101.0</td>\n",
       "      <td>2022-11-12</td>\n",
       "      <td>ILIAD ITALIA Roma</td>\n",
       "      <td>EFFETTUATO IL 12/11/2022 ALLE ORE 0209 MEDIANT...</td>\n",
       "      <td>Conto 1000/00071615</td>\n",
       "      <td>CONTABILIZZATO</td>\n",
       "      <td>Cellulare</td>\n",
       "      <td>EUR</td>\n",
       "      <td>-5.99</td>\n",
       "      <td>NaN</td>\n",
       "      <td>NaN</td>\n",
       "      <td>NaN</td>\n",
       "      <td>2022-11-11 23:00:00+00:00</td>\n",
       "    </tr>\n",
       "    <tr>\n",
       "      <th>3</th>\n",
       "      <td>100.0</td>\n",
       "      <td>2022-12-01</td>\n",
       "      <td>Trenit S721130bstazione Pinerolo</td>\n",
       "      <td>Effettuato Il 01/12/2022 Alle Ore 0806 Mediant...</td>\n",
       "      <td>Conto 1000/00071615</td>\n",
       "      <td>CONTABILIZZATO</td>\n",
       "      <td>Trasporti, noleggi, taxi e parcheggi</td>\n",
       "      <td>EUR</td>\n",
       "      <td>-42.00</td>\n",
       "      <td>NaN</td>\n",
       "      <td>NaN</td>\n",
       "      <td>NaN</td>\n",
       "      <td>2022-11-30 23:00:00+00:00</td>\n",
       "    </tr>\n",
       "    <tr>\n",
       "      <th>4</th>\n",
       "      <td>99.0</td>\n",
       "      <td>2022-12-07</td>\n",
       "      <td>263806013007357#the Space Cinema Beinasco</td>\n",
       "      <td>Effettuato Il 07/12/2022 Alle Ore 1331 Mediant...</td>\n",
       "      <td>Conto 1000/00071615</td>\n",
       "      <td>CONTABILIZZATO</td>\n",
       "      <td>Spettacoli e musei</td>\n",
       "      <td>EUR</td>\n",
       "      <td>-71.40</td>\n",
       "      <td>NaN</td>\n",
       "      <td>NaN</td>\n",
       "      <td>NaN</td>\n",
       "      <td>2022-12-06 23:00:00+00:00</td>\n",
       "    </tr>\n",
       "  </tbody>\n",
       "</table>\n",
       "</div>"
      ],
      "text/plain": [
       "   Unnamed: 0        Data                                 Operazione  \\\n",
       "0       103.0  2022-11-02           Trenit S721130bstazione Pinerolo   \n",
       "1       102.0  2022-11-05                Lappetito Corso Torino 48 P   \n",
       "2       101.0  2022-11-12                          ILIAD ITALIA Roma   \n",
       "3       100.0  2022-12-01           Trenit S721130bstazione Pinerolo   \n",
       "4        99.0  2022-12-07  263806013007357#the Space Cinema Beinasco   \n",
       "\n",
       "                                            Dettagli        Conto o carta  \\\n",
       "0  Effettuato Il 02/11/2022 Alle Ore 0740 Mediant...  Conto 1000/00071615   \n",
       "1  LAPPETITO CORSO TORINO 48 P05/112058 Carta N.5...  Conto 1000/00071615   \n",
       "2  EFFETTUATO IL 12/11/2022 ALLE ORE 0209 MEDIANT...  Conto 1000/00071615   \n",
       "3  Effettuato Il 01/12/2022 Alle Ore 0806 Mediant...  Conto 1000/00071615   \n",
       "4  Effettuato Il 07/12/2022 Alle Ore 1331 Mediant...  Conto 1000/00071615   \n",
       "\n",
       "  Contabilizzazione                        Categoria banca Valuta  Importo  \\\n",
       "0    CONTABILIZZATO  Trasporti, noleggi, taxi e parcheggi     EUR   -42.00   \n",
       "1    CONTABILIZZATO                       Ristoranti e bar    EUR   -14.00   \n",
       "2    CONTABILIZZATO                              Cellulare    EUR    -5.99   \n",
       "3    CONTABILIZZATO  Trasporti, noleggi, taxi e parcheggi     EUR   -42.00   \n",
       "4    CONTABILIZZATO                     Spettacoli e musei    EUR   -71.40   \n",
       "\n",
       "   Categoria  Subcategoria  Commento                       UTC  \n",
       "0        NaN           NaN       NaN 2022-11-01 23:00:00+00:00  \n",
       "1        NaN           NaN       NaN 2022-11-04 23:00:00+00:00  \n",
       "2        NaN           NaN       NaN 2022-11-11 23:00:00+00:00  \n",
       "3        NaN           NaN       NaN 2022-11-30 23:00:00+00:00  \n",
       "4        NaN           NaN       NaN 2022-12-06 23:00:00+00:00  "
      ]
     },
     "execution_count": 20,
     "metadata": {},
     "output_type": "execute_result"
    }
   ],
   "source": [
    "df=UTC_to_datetime(df)\n",
    "df.head()"
   ]
  },
  {
   "cell_type": "markdown",
   "metadata": {},
   "source": [
    "# Prevvisione"
   ]
  },
  {
   "cell_type": "code",
   "execution_count": 69,
   "metadata": {},
   "outputs": [],
   "source": [
    "import matplotlib.pyplot as plt\n",
    "import numpy as np"
   ]
  },
  {
   "cell_type": "code",
   "execution_count": 28,
   "metadata": {},
   "outputs": [],
   "source": [
    "from sklearn.model_selection import train_test_split\n",
    "from sklearn.linear_model import LinearRegression\n",
    "from sklearn import metrics"
   ]
  },
  {
   "cell_type": "code",
   "execution_count": 33,
   "metadata": {},
   "outputs": [
    {
     "data": {
      "text/html": [
       "<style>#sk-container-id-1 {color: black;}#sk-container-id-1 pre{padding: 0;}#sk-container-id-1 div.sk-toggleable {background-color: white;}#sk-container-id-1 label.sk-toggleable__label {cursor: pointer;display: block;width: 100%;margin-bottom: 0;padding: 0.3em;box-sizing: border-box;text-align: center;}#sk-container-id-1 label.sk-toggleable__label-arrow:before {content: \"▸\";float: left;margin-right: 0.25em;color: #696969;}#sk-container-id-1 label.sk-toggleable__label-arrow:hover:before {color: black;}#sk-container-id-1 div.sk-estimator:hover label.sk-toggleable__label-arrow:before {color: black;}#sk-container-id-1 div.sk-toggleable__content {max-height: 0;max-width: 0;overflow: hidden;text-align: left;background-color: #f0f8ff;}#sk-container-id-1 div.sk-toggleable__content pre {margin: 0.2em;color: black;border-radius: 0.25em;background-color: #f0f8ff;}#sk-container-id-1 input.sk-toggleable__control:checked~div.sk-toggleable__content {max-height: 200px;max-width: 100%;overflow: auto;}#sk-container-id-1 input.sk-toggleable__control:checked~label.sk-toggleable__label-arrow:before {content: \"▾\";}#sk-container-id-1 div.sk-estimator input.sk-toggleable__control:checked~label.sk-toggleable__label {background-color: #d4ebff;}#sk-container-id-1 div.sk-label input.sk-toggleable__control:checked~label.sk-toggleable__label {background-color: #d4ebff;}#sk-container-id-1 input.sk-hidden--visually {border: 0;clip: rect(1px 1px 1px 1px);clip: rect(1px, 1px, 1px, 1px);height: 1px;margin: -1px;overflow: hidden;padding: 0;position: absolute;width: 1px;}#sk-container-id-1 div.sk-estimator {font-family: monospace;background-color: #f0f8ff;border: 1px dotted black;border-radius: 0.25em;box-sizing: border-box;margin-bottom: 0.5em;}#sk-container-id-1 div.sk-estimator:hover {background-color: #d4ebff;}#sk-container-id-1 div.sk-parallel-item::after {content: \"\";width: 100%;border-bottom: 1px solid gray;flex-grow: 1;}#sk-container-id-1 div.sk-label:hover label.sk-toggleable__label {background-color: #d4ebff;}#sk-container-id-1 div.sk-serial::before {content: \"\";position: absolute;border-left: 1px solid gray;box-sizing: border-box;top: 0;bottom: 0;left: 50%;z-index: 0;}#sk-container-id-1 div.sk-serial {display: flex;flex-direction: column;align-items: center;background-color: white;padding-right: 0.2em;padding-left: 0.2em;position: relative;}#sk-container-id-1 div.sk-item {position: relative;z-index: 1;}#sk-container-id-1 div.sk-parallel {display: flex;align-items: stretch;justify-content: center;background-color: white;position: relative;}#sk-container-id-1 div.sk-item::before, #sk-container-id-1 div.sk-parallel-item::before {content: \"\";position: absolute;border-left: 1px solid gray;box-sizing: border-box;top: 0;bottom: 0;left: 50%;z-index: -1;}#sk-container-id-1 div.sk-parallel-item {display: flex;flex-direction: column;z-index: 1;position: relative;background-color: white;}#sk-container-id-1 div.sk-parallel-item:first-child::after {align-self: flex-end;width: 50%;}#sk-container-id-1 div.sk-parallel-item:last-child::after {align-self: flex-start;width: 50%;}#sk-container-id-1 div.sk-parallel-item:only-child::after {width: 0;}#sk-container-id-1 div.sk-dashed-wrapped {border: 1px dashed gray;margin: 0 0.4em 0.5em 0.4em;box-sizing: border-box;padding-bottom: 0.4em;background-color: white;}#sk-container-id-1 div.sk-label label {font-family: monospace;font-weight: bold;display: inline-block;line-height: 1.2em;}#sk-container-id-1 div.sk-label-container {text-align: center;}#sk-container-id-1 div.sk-container {/* jupyter's `normalize.less` sets `[hidden] { display: none; }` but bootstrap.min.css set `[hidden] { display: none !important; }` so we also need the `!important` here to be able to override the default hidden behavior on the sphinx rendered scikit-learn.org. See: https://github.com/scikit-learn/scikit-learn/issues/21755 */display: inline-block !important;position: relative;}#sk-container-id-1 div.sk-text-repr-fallback {display: none;}</style><div id=\"sk-container-id-1\" class=\"sk-top-container\"><div class=\"sk-text-repr-fallback\"><pre>LinearRegression()</pre><b>In a Jupyter environment, please rerun this cell to show the HTML representation or trust the notebook. <br />On GitHub, the HTML representation is unable to render, please try loading this page with nbviewer.org.</b></div><div class=\"sk-container\" hidden><div class=\"sk-item\"><div class=\"sk-estimator sk-toggleable\"><input class=\"sk-toggleable__control sk-hidden--visually\" id=\"sk-estimator-id-1\" type=\"checkbox\" checked><label for=\"sk-estimator-id-1\" class=\"sk-toggleable__label sk-toggleable__label-arrow\">LinearRegression</label><div class=\"sk-toggleable__content\"><pre>LinearRegression()</pre></div></div></div></div></div>"
      ],
      "text/plain": [
       "LinearRegression()"
      ]
     },
     "execution_count": 33,
     "metadata": {},
     "output_type": "execute_result"
    }
   ],
   "source": [
    "df = process_data(df)\n",
    "\n",
    "X = df[\"UTC\"].values.reshape(-1, 1)\n",
    "y = df[\"Balance\"].values.reshape(-1, 1)\n",
    "X_train, X_test, y_train, y_test = train_test_split(X, y, test_size=0.2, random_state=0)\n",
    "regressor = LinearRegression()\n",
    "regressor.fit(X_train, y_train)  # addestramento del modello\n"
   ]
  },
  {
   "cell_type": "code",
   "execution_count": 34,
   "metadata": {},
   "outputs": [
    {
     "data": {
      "text/plain": [
       "[<matplotlib.lines.Line2D at 0x206b04becd0>]"
      ]
     },
     "execution_count": 34,
     "metadata": {},
     "output_type": "execute_result"
    },
    {
     "data": {
      "image/png": "[encoded data removed]",
      "text/plain": [
       "<Figure size 640x480 with 1 Axes>"
      ]
     },
     "metadata": {},
     "output_type": "display_data"
    }
   ],
   "source": [
    "plt.plot(X,y)"
   ]
  },
  {
   "cell_type": "code",
   "execution_count": 117,
   "metadata": {},
   "outputs": [],
   "source": [
    "n=365"
   ]
  },
  {
   "cell_type": "code",
   "execution_count": 118,
   "metadata": {},
   "outputs": [],
   "source": [
    "_df = pd.DataFrame()\n",
    "_df[\"Date\"] = pd.date_range(start=df[\"Data\"].max(), periods=n, freq=\"D\")\n"
   ]
  },
  {
   "cell_type": "code",
   "execution_count": 119,
   "metadata": {},
   "outputs": [],
   "source": [
    "_df[\"UTC\"] = (\n",
    "    _df[\"Date\"]\n",
    "    .dt.tz_localize(\"Europe/Rome\")\n",
    "    .dt.tz_convert(\"UTC\")\n",
    "    .apply(lambda x: x.timestamp())\n",
    "    .astype(int)\n",
    ")\n"
   ]
  },
  {
   "cell_type": "code",
   "execution_count": 120,
   "metadata": {},
   "outputs": [
    {
     "data": {
      "text/html": [
       "<div>\n",
       "<style scoped>\n",
       "    .dataframe tbody tr th:only-of-type {\n",
       "        vertical-align: middle;\n",
       "    }\n",
       "\n",
       "    .dataframe tbody tr th {\n",
       "        vertical-align: top;\n",
       "    }\n",
       "\n",
       "    .dataframe thead th {\n",
       "        text-align: right;\n",
       "    }\n",
       "</style>\n",
       "<table border=\"1\" class=\"dataframe\">\n",
       "  <thead>\n",
       "    <tr style=\"text-align: right;\">\n",
       "      <th></th>\n",
       "      <th>Date</th>\n",
       "      <th>UTC</th>\n",
       "    </tr>\n",
       "  </thead>\n",
       "  <tbody>\n",
       "    <tr>\n",
       "      <th>0</th>\n",
       "      <td>2023-11-14</td>\n",
       "      <td>1699916400</td>\n",
       "    </tr>\n",
       "    <tr>\n",
       "      <th>1</th>\n",
       "      <td>2023-11-15</td>\n",
       "      <td>1700002800</td>\n",
       "    </tr>\n",
       "    <tr>\n",
       "      <th>2</th>\n",
       "      <td>2023-11-16</td>\n",
       "      <td>1700089200</td>\n",
       "    </tr>\n",
       "    <tr>\n",
       "      <th>3</th>\n",
       "      <td>2023-11-17</td>\n",
       "      <td>1700175600</td>\n",
       "    </tr>\n",
       "    <tr>\n",
       "      <th>4</th>\n",
       "      <td>2023-11-18</td>\n",
       "      <td>1700262000</td>\n",
       "    </tr>\n",
       "    <tr>\n",
       "      <th>...</th>\n",
       "      <td>...</td>\n",
       "      <td>...</td>\n",
       "    </tr>\n",
       "    <tr>\n",
       "      <th>360</th>\n",
       "      <td>2024-11-08</td>\n",
       "      <td>1731020400</td>\n",
       "    </tr>\n",
       "    <tr>\n",
       "      <th>361</th>\n",
       "      <td>2024-11-09</td>\n",
       "      <td>1731106800</td>\n",
       "    </tr>\n",
       "    <tr>\n",
       "      <th>362</th>\n",
       "      <td>2024-11-10</td>\n",
       "      <td>1731193200</td>\n",
       "    </tr>\n",
       "    <tr>\n",
       "      <th>363</th>\n",
       "      <td>2024-11-11</td>\n",
       "      <td>1731279600</td>\n",
       "    </tr>\n",
       "    <tr>\n",
       "      <th>364</th>\n",
       "      <td>2024-11-12</td>\n",
       "      <td>1731366000</td>\n",
       "    </tr>\n",
       "  </tbody>\n",
       "</table>\n",
       "<p>365 rows × 2 columns</p>\n",
       "</div>"
      ],
      "text/plain": [
       "          Date         UTC\n",
       "0   2023-11-14  1699916400\n",
       "1   2023-11-15  1700002800\n",
       "2   2023-11-16  1700089200\n",
       "3   2023-11-17  1700175600\n",
       "4   2023-11-18  1700262000\n",
       "..         ...         ...\n",
       "360 2024-11-08  1731020400\n",
       "361 2024-11-09  1731106800\n",
       "362 2024-11-10  1731193200\n",
       "363 2024-11-11  1731279600\n",
       "364 2024-11-12  1731366000\n",
       "\n",
       "[365 rows x 2 columns]"
      ]
     },
     "execution_count": 120,
     "metadata": {},
     "output_type": "execute_result"
    }
   ],
   "source": [
    "_df"
   ]
  },
  {
   "cell_type": "code",
   "execution_count": 93,
   "metadata": {},
   "outputs": [],
   "source": [
    "x_pred=_df[\"UTC\"]\n",
    "# Trasforma x_pred in un array numpy per l'uso con il tuo modello\n",
    "x_pred = np.array(x_pred).reshape(-1, 1)\n",
    "# Fai previsioni sul saldo del conto per i prossimi 30 giorni\n",
    "y_pred = regressor.predict(x_pred)"
   ]
  },
  {
   "cell_type": "code",
   "execution_count": 94,
   "metadata": {},
   "outputs": [
    {
     "data": {
      "text/plain": [
       "[<matplotlib.lines.Line2D at 0x206b9471e50>]"
      ]
     },
     "execution_count": 94,
     "metadata": {},
     "output_type": "execute_result"
    },
    {
     "data": {
      "image/png": "[encoded data removed]",
      "text/plain": [
       "<Figure size 640x480 with 1 Axes>"
      ]
     },
     "metadata": {},
     "output_type": "display_data"
    }
   ],
   "source": [
    "plt.plot(X, y)\n",
    "plt.plot(_df[\"Date\"], y_pred)"
   ]
  },
  {
   "cell_type": "code",
   "execution_count": 107,
   "metadata": {},
   "outputs": [
    {
     "data": {
      "image/png": "[encoded data removed]",
      "text/plain": [
       "<Figure size 1000x600 with 1 Axes>"
      ]
     },
     "metadata": {},
     "output_type": "display_data"
    }
   ],
   "source": [
    "import matplotlib.pyplot as plt\n",
    "from sklearn.tree import DecisionTreeRegressor\n",
    "\n",
    "\n",
    "def train_and_plot(X_train, y_train, X_test):\n",
    "    X_train = X_train.apply(lambda x: x.timestamp()).astype(int)\n",
    "\n",
    "    # Crea il modello\n",
    "    model = DecisionTreeRegressor(max_depth=5, min_samples_split=5, max_features=3)\n",
    "\n",
    "    # Addestra il modello\n",
    "    model.fit(np.array(X_train).reshape(-1, 1), y_train)\n",
    "\n",
    "    # Fai una previsione\n",
    "    y_pred = model.predict(np.array(X_test).reshape(-1, 1))\n",
    "\n",
    "    # Crea un grafico\n",
    "    plt.figure(figsize=(10, 6))\n",
    "    plt.plot(pd.to_datetime(X_train, unit=\"s\"), y_train, label=\"Valore reale\")\n",
    "    plt.plot(pd.to_datetime(X_test, unit=\"s\"), y_pred, label=\"Valore predetto\")\n",
    "    plt.legend()\n",
    "    plt.show()\n",
    "\n",
    "\n",
    "# Utilizza la funzione\n",
    "train_and_plot(df[\"UTC\"], df[\"Balance\"], _df[\"UTC\"])"
   ]
  },
  {
   "cell_type": "code",
   "execution_count": 121,
   "metadata": {},
   "outputs": [
    {
     "data": {
      "image/png": "[encoded data removed]",
      "text/plain": [
       "<Figure size 1000x600 with 1 Axes>"
      ]
     },
     "metadata": {},
     "output_type": "display_data"
    }
   ],
   "source": [
    "import numpy as np\n",
    "import matplotlib.pyplot as plt\n",
    "from sklearn.preprocessing import PolynomialFeatures\n",
    "from sklearn.linear_model import LinearRegression\n",
    "\n",
    "\n",
    "def train_and_plot(X_train, y_train, X_test):\n",
    "    X_train = X_train.apply(lambda x: x.timestamp()).astype(int)\n",
    "    # Crea il modello polinomiale\n",
    "    poly = PolynomialFeatures(degree=7)\n",
    "    X_poly = poly.fit_transform(X_train.values.reshape(-1, 1))\n",
    "    X_poly_test = poly.transform(X_test.values.reshape(-1, 1))\n",
    "\n",
    "    model = LinearRegression()\n",
    "    model.fit(X_poly, y_train)\n",
    "\n",
    "    # Fai una previsione\n",
    "    y_pred = model.predict(X_poly_test)\n",
    "\n",
    "    # Crea un grafico\n",
    "    plt.figure(figsize=(10, 6))\n",
    "    plt.plot(pd.to_datetime(X_train, unit=\"s\"), y_train, label=\"Valore reale\")\n",
    "    plt.plot(pd.to_datetime(X_test, unit=\"s\"), y_pred, label=\"Valore predetto\")\n",
    "    plt.legend()\n",
    "    plt.show()\n",
    "\n",
    "\n",
    "# Utilizza la funzione\n",
    "train_and_plot(df[\"UTC\"], df[\"Balance\"], _df[\"UTC\"])"
   ]
  },
  {
   "cell_type": "code",
   "execution_count": 123,
   "metadata": {},
   "outputs": [],
   "source": [
    "from sklearn.model_selection import train_test_split\n",
    "from sklearn.ensemble import AdaBoostRegressor"
   ]
  },
  {
   "cell_type": "code",
   "execution_count": 126,
   "metadata": {},
   "outputs": [
    {
     "data": {
      "text/html": [
       "<style>#sk-container-id-2 {color: black;}#sk-container-id-2 pre{padding: 0;}#sk-container-id-2 div.sk-toggleable {background-color: white;}#sk-container-id-2 label.sk-toggleable__label {cursor: pointer;display: block;width: 100%;margin-bottom: 0;padding: 0.3em;box-sizing: border-box;text-align: center;}#sk-container-id-2 label.sk-toggleable__label-arrow:before {content: \"▸\";float: left;margin-right: 0.25em;color: #696969;}#sk-container-id-2 label.sk-toggleable__label-arrow:hover:before {color: black;}#sk-container-id-2 div.sk-estimator:hover label.sk-toggleable__label-arrow:before {color: black;}#sk-container-id-2 div.sk-toggleable__content {max-height: 0;max-width: 0;overflow: hidden;text-align: left;background-color: #f0f8ff;}#sk-container-id-2 div.sk-toggleable__content pre {margin: 0.2em;color: black;border-radius: 0.25em;background-color: #f0f8ff;}#sk-container-id-2 input.sk-toggleable__control:checked~div.sk-toggleable__content {max-height: 200px;max-width: 100%;overflow: auto;}#sk-container-id-2 input.sk-toggleable__control:checked~label.sk-toggleable__label-arrow:before {content: \"▾\";}#sk-container-id-2 div.sk-estimator input.sk-toggleable__control:checked~label.sk-toggleable__label {background-color: #d4ebff;}#sk-container-id-2 div.sk-label input.sk-toggleable__control:checked~label.sk-toggleable__label {background-color: #d4ebff;}#sk-container-id-2 input.sk-hidden--visually {border: 0;clip: rect(1px 1px 1px 1px);clip: rect(1px, 1px, 1px, 1px);height: 1px;margin: -1px;overflow: hidden;padding: 0;position: absolute;width: 1px;}#sk-container-id-2 div.sk-estimator {font-family: monospace;background-color: #f0f8ff;border: 1px dotted black;border-radius: 0.25em;box-sizing: border-box;margin-bottom: 0.5em;}#sk-container-id-2 div.sk-estimator:hover {background-color: #d4ebff;}#sk-container-id-2 div.sk-parallel-item::after {content: \"\";width: 100%;border-bottom: 1px solid gray;flex-grow: 1;}#sk-container-id-2 div.sk-label:hover label.sk-toggleable__label {background-color: #d4ebff;}#sk-container-id-2 div.sk-serial::before {content: \"\";position: absolute;border-left: 1px solid gray;box-sizing: border-box;top: 0;bottom: 0;left: 50%;z-index: 0;}#sk-container-id-2 div.sk-serial {display: flex;flex-direction: column;align-items: center;background-color: white;padding-right: 0.2em;padding-left: 0.2em;position: relative;}#sk-container-id-2 div.sk-item {position: relative;z-index: 1;}#sk-container-id-2 div.sk-parallel {display: flex;align-items: stretch;justify-content: center;background-color: white;position: relative;}#sk-container-id-2 div.sk-item::before, #sk-container-id-2 div.sk-parallel-item::before {content: \"\";position: absolute;border-left: 1px solid gray;box-sizing: border-box;top: 0;bottom: 0;left: 50%;z-index: -1;}#sk-container-id-2 div.sk-parallel-item {display: flex;flex-direction: column;z-index: 1;position: relative;background-color: white;}#sk-container-id-2 div.sk-parallel-item:first-child::after {align-self: flex-end;width: 50%;}#sk-container-id-2 div.sk-parallel-item:last-child::after {align-self: flex-start;width: 50%;}#sk-container-id-2 div.sk-parallel-item:only-child::after {width: 0;}#sk-container-id-2 div.sk-dashed-wrapped {border: 1px dashed gray;margin: 0 0.4em 0.5em 0.4em;box-sizing: border-box;padding-bottom: 0.4em;background-color: white;}#sk-container-id-2 div.sk-label label {font-family: monospace;font-weight: bold;display: inline-block;line-height: 1.2em;}#sk-container-id-2 div.sk-label-container {text-align: center;}#sk-container-id-2 div.sk-container {/* jupyter's `normalize.less` sets `[hidden] { display: none; }` but bootstrap.min.css set `[hidden] { display: none !important; }` so we also need the `!important` here to be able to override the default hidden behavior on the sphinx rendered scikit-learn.org. See: https://github.com/scikit-learn/scikit-learn/issues/21755 */display: inline-block !important;position: relative;}#sk-container-id-2 div.sk-text-repr-fallback {display: none;}</style><div id=\"sk-container-id-2\" class=\"sk-top-container\"><div class=\"sk-text-repr-fallback\"><pre>AdaBoostRegressor(learning_rate=0.05, n_estimators=500)</pre><b>In a Jupyter environment, please rerun this cell to show the HTML representation or trust the notebook. <br />On GitHub, the HTML representation is unable to render, please try loading this page with nbviewer.org.</b></div><div class=\"sk-container\" hidden><div class=\"sk-item\"><div class=\"sk-estimator sk-toggleable\"><input class=\"sk-toggleable__control sk-hidden--visually\" id=\"sk-estimator-id-2\" type=\"checkbox\" checked><label for=\"sk-estimator-id-2\" class=\"sk-toggleable__label sk-toggleable__label-arrow\">AdaBoostRegressor</label><div class=\"sk-toggleable__content\"><pre>AdaBoostRegressor(learning_rate=0.05, n_estimators=500)</pre></div></div></div></div></div>"
      ],
      "text/plain": [
       "AdaBoostRegressor(learning_rate=0.05, n_estimators=500)"
      ]
     },
     "execution_count": 126,
     "metadata": {},
     "output_type": "execute_result"
    }
   ],
   "source": [
    "# Split in train-test\n",
    "X_train, X_test, Y_train, Y_test = train_test_split(\n",
    "    df[\"UTC\"].apply(lambda x: x.timestamp()).astype(int).values.reshape(-1, 1),\n",
    "    df[\"Balance\"],\n",
    "    test_size=0.2,\n",
    "    shuffle=False,\n",
    "    random_state=0,\n",
    ")\n",
    "\n",
    "# Initialize the estimator\n",
    "mdl_adaboost = AdaBoostRegressor(n_estimators=500, learning_rate=0.05)\n",
    "\n",
    "# Fit the data\n",
    "mdl_adaboost.fit(X_train, Y_train)"
   ]
  },
  {
   "cell_type": "code",
   "execution_count": 127,
   "metadata": {},
   "outputs": [],
   "source": [
    "# Make predictions\n",
    "pred = mdl_adaboost.predict(X_test)\n",
    "\n",
    "test_size = X_test.shape[0]"
   ]
  },
  {
   "cell_type": "code",
   "execution_count": 133,
   "metadata": {},
   "outputs": [
    {
     "data": {
      "text/plain": [
       "Text(0.5, 1.0, 'Predicted vs Real with log difference values')"
      ]
     },
     "execution_count": 133,
     "metadata": {},
     "output_type": "execute_result"
    },
    {
     "data": {
      "image/png": "[encoded data removed]",
      "text/plain": [
       "<Figure size 640x480 with 1 Axes>"
      ]
     },
     "metadata": {},
     "output_type": "display_data"
    }
   ],
   "source": [
    "test_size = X_test.shape[0]\n",
    "plt.plot(\n",
    "    X_train, Y_train,\n",
    "    label=\"predicted\",\n",
    "    color=\"red\",\n",
    ")\n",
    "plt.plot(X_test,Y_test, label=\"real\", color=\"blue\"\n",
    ")\n",
    "plt.legend(loc=\"best\")\n",
    "plt.title(\"Predicted vs Real with log difference values\")"
   ]
  },
  {
   "cell_type": "markdown",
   "metadata": {},
   "source": [
    "https://stackoverflow.com/questions/63517126/any-way-to-predict-monthly-time-series-with-scikit-learn-in-python"
   ]
  },
  {
   "cell_type": "code",
   "execution_count": null,
   "metadata": {},
   "outputs": [],
   "source": [
    "from sklearn.model_selection import train_test_split\n",
    "from sklearn.ensemble import AdaBoostRegressor\n",
    "import matplotlib.pyplot as plt\n",
    "\n",
    "\n",
    "def adaboost_prediction(df):\n",
    "    # Split in train-test\n",
    "    X_train, X_test, Y_train, Y_test = train_test_split(\n",
    "        df[\"UTC\"].apply(lambda x: x.timestamp()).astype(int).values.reshape(-1, 1),\n",
    "        df[\"Balance\"],\n",
    "        test_size=0.2,\n",
    "        shuffle=False,\n",
    "        random_state=0,\n",
    "    )\n",
    "\n",
    "    # Initialize the estimator\n",
    "    mdl_adaboost = AdaBoostRegressor(n_estimators=500, learning_rate=0.05)\n",
    "\n",
    "    # Fit the data\n",
    "    mdl_adaboost.fit(X_train, Y_train)\n",
    "\n",
    "    # Make predictions\n",
    "    pred = mdl_adaboost.predict(X_test)\n",
    "\n",
    "    test_size = X_test.shape[0]\n",
    "\n",
    "    plt.plot(\n",
    "        X_train,\n",
    "        Y_train,\n",
    "        label=\"predicted\",\n",
    "        color=\"red\",\n",
    "    )\n",
    "    plt.plot(X_test, Y_test, label=\"real\", color=\"blue\")\n",
    "    plt.legend(loc=\"best\")\n",
    "    plt.title(\"Predicted vs Real with log difference values\")\n",
    "    plt.show()\n",
    "\n",
    "    return pred"
   ]
  }
 ],
 "metadata": {
  "kernelspec": {
   "display_name": "chemtools",
   "language": "python",
   "name": "python3"
  },
  "language_info": {
   "codemirror_mode": {
    "name": "ipython",
    "version": 3
   },
   "file_extension": ".py",
   "mimetype": "text/x-python",
   "name": "python",
   "nbconvert_exporter": "python",
   "pygments_lexer": "ipython3",
   "version": "3.11.2"
  }
 },
 "nbformat": 4,
 "nbformat_minor": 2
}
