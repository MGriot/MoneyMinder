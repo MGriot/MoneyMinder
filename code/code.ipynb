{
 "cells": [
  {
   "cell_type": "code",
   "execution_count": 1,
   "metadata": {},
   "outputs": [],
   "source": [
    "import pandas as pd\n",
    "import os\n",
    "import numpy as np\n",
    "import matplotlib.pyplot as plt"
   ]
  },
  {
   "cell_type": "code",
   "execution_count": 2,
   "metadata": {},
   "outputs": [],
   "source": [
    "#funzione che prende i file excel, li controlla e aggiunge i nuovi record al database grosso, poi sposta i fiel"
   ]
  },
  {
   "cell_type": "code",
   "execution_count": 3,
   "metadata": {},
   "outputs": [],
   "source": [
    "dir=\"../data/lista_completa_13102023.xlsx\""
   ]
  },
  {
   "cell_type": "code",
   "execution_count": 28,
   "metadata": {},
   "outputs": [],
   "source": [
    "import datetime\n",
    "\n",
    "\n",
    "def process_data(file_path, source, name, save):\n",
    "    \"\"\"\n",
    "    Questa funzione processa un file di dati Excel e restituisce un DataFrame pandas.\n",
    "\n",
    "    Parametri:\n",
    "    - file_path (str): Il percorso del file Excel da processare.\n",
    "    - source (str): La fonte dei dati.\n",
    "    - name (str): Il nome della banca.\n",
    "\n",
    "    Ritorna:\n",
    "    - df (DataFrame): Il DataFrame processato.\n",
    "\n",
    "    La funzione esegue le seguenti operazioni solo se source è \"bank\" e name è \"san_paolo\":\n",
    "    1. Carica il file Excel in un DataFrame pandas.\n",
    "    2. Rimuove le prime righe fino alla prima cella non vuota nella prima colonna.\n",
    "    3. Imposta la prima riga come nuova intestazione del DataFrame.\n",
    "    4. Rimuove la prima riga dal DataFrame.\n",
    "    5. Rinomina gli indici del DataFrame con i valori della nuova intestazione.\n",
    "    6. Resetta gli indici del DataFrame.\n",
    "    7. Converte la colonna \"Data\" in formato datetime.\n",
    "    8. Rinomina la colonna 'Categoria' in 'Categoria banca'.\n",
    "    9. Aggiunge le nuove colonne 'Categoria', 'Subcategoria' e 'Commento', inizialmente impostate su None.\n",
    "    \"\"\"\n",
    "\n",
    "    if source == \"bank\" and name == \"san_paolo\":\n",
    "        df = pd.read_excel(file_path)\n",
    "\n",
    "        # Rimuovi le prime righe fino alla prima cella vuota nella prima colonna\n",
    "        df = df[df.iloc[:, 0].notna()]\n",
    "\n",
    "        # Imposta la prima riga come nuova intestazione\n",
    "        new_header = df.iloc[0]\n",
    "\n",
    "        # Rimuovi la prima riga dal DataFrame\n",
    "        df = df[1:]\n",
    "\n",
    "        # Rinomina gli indici del DataFrame con i valori della nuova intestazione\n",
    "        df = df.rename(columns=new_header)\n",
    "\n",
    "        # Resetta gli indici del DataFrame\n",
    "        df = df.reset_index(drop=True)\n",
    "\n",
    "        # Rinomina le colonne\n",
    "        df = df.rename(\n",
    "            columns={\n",
    "                \"Data\": \"Date\",\n",
    "                \"Categoria \": \"Bank Category\",\n",
    "                \"Operazione\": \"Operation\",\n",
    "                \"Dettagli\": \"Details\",\n",
    "                \"Conto o carta\": \"Account or Card\",\n",
    "                \"Contabilizzazione\": \"Accounting\",\n",
    "                \"Valuta \": \"Valute\",\n",
    "                \"Importo\": \"Import\",\n",
    "            }\n",
    "        )\n",
    "\n",
    "        # Converte la colonna \"Data\" in formato datetime\n",
    "        df[\"Date\"] = pd.to_datetime(df[\"Date\"])\n",
    "\n",
    "        # Aggiungi le nuove colonne 'Categoria', 'Subcategoria' e 'Commento'\n",
    "        df[[\"Category\", \"Subcategory\", \"Comment\"]] = None, None, None\n",
    "\n",
    "        # Converti le colonne 'Categoria', 'Subcategoria' e 'Commento' in formato stringa\n",
    "        df[[\"Category\", \"Subcategory\", \"Comment\"]] = df[\n",
    "            [\"Category\", \"Subcategory\", \"Comment\"]\n",
    "        ].astype(\"str\")\n",
    "        if save == True:\n",
    "            today = datetime.datetime.now()\n",
    "            df.to_csv(\n",
    "                f'C:/Users/Admin/Documents/GitHub/Banca/data/dataframe_{today.strftime(\"%Y%m%d_%H%M%S\")}.csv',\n",
    "                index=False,\n",
    "            )\n",
    "        else:\n",
    "            return df"
   ]
  },
  {
   "cell_type": "code",
   "execution_count": 29,
   "metadata": {},
   "outputs": [],
   "source": [
    "process_data(dir, \"bank\", \"san_paolo\", save=True)"
   ]
  },
  {
   "cell_type": "code",
   "execution_count": 4,
   "metadata": {},
   "outputs": [
    {
     "data": {
      "text/html": [
       "<div>\n",
       "<style scoped>\n",
       "    .dataframe tbody tr th:only-of-type {\n",
       "        vertical-align: middle;\n",
       "    }\n",
       "\n",
       "    .dataframe tbody tr th {\n",
       "        vertical-align: top;\n",
       "    }\n",
       "\n",
       "    .dataframe thead th {\n",
       "        text-align: right;\n",
       "    }\n",
       "</style>\n",
       "<table border=\"1\" class=\"dataframe\">\n",
       "  <thead>\n",
       "    <tr style=\"text-align: right;\">\n",
       "      <th></th>\n",
       "      <th>Unnamed: 0</th>\n",
       "      <th>Unnamed: 1</th>\n",
       "      <th>Unnamed: 2</th>\n",
       "      <th>Unnamed: 3</th>\n",
       "      <th>Unnamed: 4</th>\n",
       "      <th>Unnamed: 5</th>\n",
       "      <th>Unnamed: 6</th>\n",
       "      <th>Unnamed: 7</th>\n",
       "    </tr>\n",
       "  </thead>\n",
       "  <tbody>\n",
       "    <tr>\n",
       "      <th>0</th>\n",
       "      <td>NaN</td>\n",
       "      <td>NaN</td>\n",
       "      <td>NaN</td>\n",
       "      <td>NaN</td>\n",
       "      <td>NaN</td>\n",
       "      <td>NaN</td>\n",
       "      <td>NaN</td>\n",
       "      <td>NaN</td>\n",
       "    </tr>\n",
       "    <tr>\n",
       "      <th>1</th>\n",
       "      <td>NaN</td>\n",
       "      <td>NaN</td>\n",
       "      <td>NaN</td>\n",
       "      <td>NaN</td>\n",
       "      <td>NaN</td>\n",
       "      <td>NaN</td>\n",
       "      <td>NaN</td>\n",
       "      <td>NaN</td>\n",
       "    </tr>\n",
       "    <tr>\n",
       "      <th>2</th>\n",
       "      <td>NaN</td>\n",
       "      <td>NaN</td>\n",
       "      <td>NaN</td>\n",
       "      <td>NaN</td>\n",
       "      <td>NaN</td>\n",
       "      <td>NaN</td>\n",
       "      <td>NaN</td>\n",
       "      <td>NaN</td>\n",
       "    </tr>\n",
       "    <tr>\n",
       "      <th>3</th>\n",
       "      <td>NaN</td>\n",
       "      <td>NaN</td>\n",
       "      <td>NaN</td>\n",
       "      <td>NaN</td>\n",
       "      <td>NaN</td>\n",
       "      <td>NaN</td>\n",
       "      <td>NaN</td>\n",
       "      <td>NaN</td>\n",
       "    </tr>\n",
       "    <tr>\n",
       "      <th>4</th>\n",
       "      <td>NaN</td>\n",
       "      <td>NaN</td>\n",
       "      <td>NaN</td>\n",
       "      <td>NaN</td>\n",
       "      <td>NaN</td>\n",
       "      <td>NaN</td>\n",
       "      <td>NaN</td>\n",
       "      <td>NaN</td>\n",
       "    </tr>\n",
       "  </tbody>\n",
       "</table>\n",
       "</div>"
      ],
      "text/plain": [
       "  Unnamed: 0 Unnamed: 1 Unnamed: 2 Unnamed: 3 Unnamed: 4 Unnamed: 5  \\\n",
       "0        NaN        NaN        NaN        NaN        NaN        NaN   \n",
       "1        NaN        NaN        NaN        NaN        NaN        NaN   \n",
       "2        NaN        NaN        NaN        NaN        NaN        NaN   \n",
       "3        NaN        NaN        NaN        NaN        NaN        NaN   \n",
       "4        NaN        NaN        NaN        NaN        NaN        NaN   \n",
       "\n",
       "  Unnamed: 6 Unnamed: 7  \n",
       "0        NaN        NaN  \n",
       "1        NaN        NaN  \n",
       "2        NaN        NaN  \n",
       "3        NaN        NaN  \n",
       "4        NaN        NaN  "
      ]
     },
     "execution_count": 4,
     "metadata": {},
     "output_type": "execute_result"
    }
   ],
   "source": [
    "df = pd.read_excel(dir)\n",
    "df.head()"
   ]
  },
  {
   "cell_type": "code",
   "execution_count": 30,
   "metadata": {},
   "outputs": [
    {
     "data": {
      "text/html": [
       "<div>\n",
       "<style scoped>\n",
       "    .dataframe tbody tr th:only-of-type {\n",
       "        vertical-align: middle;\n",
       "    }\n",
       "\n",
       "    .dataframe tbody tr th {\n",
       "        vertical-align: top;\n",
       "    }\n",
       "\n",
       "    .dataframe thead th {\n",
       "        text-align: right;\n",
       "    }\n",
       "</style>\n",
       "<table border=\"1\" class=\"dataframe\">\n",
       "  <thead>\n",
       "    <tr style=\"text-align: right;\">\n",
       "      <th></th>\n",
       "      <th>Unnamed: 0</th>\n",
       "      <th>Unnamed: 1</th>\n",
       "      <th>Unnamed: 2</th>\n",
       "      <th>Unnamed: 3</th>\n",
       "      <th>Unnamed: 4</th>\n",
       "      <th>Unnamed: 5</th>\n",
       "      <th>Unnamed: 6</th>\n",
       "      <th>Unnamed: 7</th>\n",
       "    </tr>\n",
       "  </thead>\n",
       "  <tbody>\n",
       "    <tr>\n",
       "      <th>17</th>\n",
       "      <td>Data</td>\n",
       "      <td>Operazione</td>\n",
       "      <td>Dettagli</td>\n",
       "      <td>Conto o carta</td>\n",
       "      <td>Contabilizzazione</td>\n",
       "      <td>Categoria</td>\n",
       "      <td>Valuta</td>\n",
       "      <td>Importo</td>\n",
       "    </tr>\n",
       "    <tr>\n",
       "      <th>18</th>\n",
       "      <td>2023-10-13 00:00:00</td>\n",
       "      <td>Pagamento Effettuato Su Pos Estero</td>\n",
       "      <td>Apple.com/bill Itunes.com 13/10/2023 18.51</td>\n",
       "      <td>Conto 1000/00071615</td>\n",
       "      <td>NON CONTABILIZZATO</td>\n",
       "      <td>Altre uscite</td>\n",
       "      <td>EUR</td>\n",
       "      <td>-26.49</td>\n",
       "    </tr>\n",
       "    <tr>\n",
       "      <th>19</th>\n",
       "      <td>2023-10-13 00:00:00</td>\n",
       "      <td>Stipendio O Pensione</td>\n",
       "      <td>COD. DISP. 0123101219839164 SALA 00908454 STIP...</td>\n",
       "      <td>Conto 1000/00071615</td>\n",
       "      <td>CONTABILIZZATO</td>\n",
       "      <td>Stipendi e pensioni</td>\n",
       "      <td>EUR</td>\n",
       "      <td>1680.92</td>\n",
       "    </tr>\n",
       "    <tr>\n",
       "      <th>20</th>\n",
       "      <td>2023-10-12 00:00:00</td>\n",
       "      <td>Pagamento Pos</td>\n",
       "      <td>Lidl 2552 Pinerolo 12/10/2023 18.21</td>\n",
       "      <td>Conto 1000/00071615</td>\n",
       "      <td>NON CONTABILIZZATO</td>\n",
       "      <td>Altre uscite</td>\n",
       "      <td>EUR</td>\n",
       "      <td>-4.77</td>\n",
       "    </tr>\n",
       "    <tr>\n",
       "      <th>21</th>\n",
       "      <td>2023-10-12 00:00:00</td>\n",
       "      <td>Pagamento Pos</td>\n",
       "      <td>Iliad Italia Milano 12/10/2023 02.52</td>\n",
       "      <td>Conto 1000/00071615</td>\n",
       "      <td>NON CONTABILIZZATO</td>\n",
       "      <td>Altre uscite</td>\n",
       "      <td>EUR</td>\n",
       "      <td>-5.99</td>\n",
       "    </tr>\n",
       "    <tr>\n",
       "      <th>...</th>\n",
       "      <td>...</td>\n",
       "      <td>...</td>\n",
       "      <td>...</td>\n",
       "      <td>...</td>\n",
       "      <td>...</td>\n",
       "      <td>...</td>\n",
       "      <td>...</td>\n",
       "      <td>...</td>\n",
       "    </tr>\n",
       "    <tr>\n",
       "      <th>117</th>\n",
       "      <td>2022-12-07 00:00:00</td>\n",
       "      <td>263806013007357#the Space Cinema Beinasco</td>\n",
       "      <td>Effettuato Il 07/12/2022 Alle Ore 1331 Mediant...</td>\n",
       "      <td>Conto 1000/00071615</td>\n",
       "      <td>CONTABILIZZATO</td>\n",
       "      <td>Spettacoli e musei</td>\n",
       "      <td>EUR</td>\n",
       "      <td>-71.4</td>\n",
       "    </tr>\n",
       "    <tr>\n",
       "      <th>118</th>\n",
       "      <td>2022-12-01 00:00:00</td>\n",
       "      <td>Trenit S721130bstazione Pinerolo</td>\n",
       "      <td>Effettuato Il 01/12/2022 Alle Ore 0806 Mediant...</td>\n",
       "      <td>Conto 1000/00071615</td>\n",
       "      <td>CONTABILIZZATO</td>\n",
       "      <td>Trasporti, noleggi, taxi e parcheggi</td>\n",
       "      <td>EUR</td>\n",
       "      <td>-42</td>\n",
       "    </tr>\n",
       "    <tr>\n",
       "      <th>119</th>\n",
       "      <td>2022-11-12 00:00:00</td>\n",
       "      <td>ILIAD ITALIA Roma</td>\n",
       "      <td>EFFETTUATO IL 12/11/2022 ALLE ORE 0209 MEDIANT...</td>\n",
       "      <td>Conto 1000/00071615</td>\n",
       "      <td>CONTABILIZZATO</td>\n",
       "      <td>Cellulare</td>\n",
       "      <td>EUR</td>\n",
       "      <td>-5.99</td>\n",
       "    </tr>\n",
       "    <tr>\n",
       "      <th>120</th>\n",
       "      <td>2022-11-05 00:00:00</td>\n",
       "      <td>Lappetito Corso Torino 48 P</td>\n",
       "      <td>LAPPETITO CORSO TORINO 48 P05/112058 Carta N.5...</td>\n",
       "      <td>Conto 1000/00071615</td>\n",
       "      <td>CONTABILIZZATO</td>\n",
       "      <td>Ristoranti e bar</td>\n",
       "      <td>EUR</td>\n",
       "      <td>-14</td>\n",
       "    </tr>\n",
       "    <tr>\n",
       "      <th>121</th>\n",
       "      <td>2022-11-02 00:00:00</td>\n",
       "      <td>Trenit S721130bstazione Pinerolo</td>\n",
       "      <td>Effettuato Il 02/11/2022 Alle Ore 0740 Mediant...</td>\n",
       "      <td>Conto 1000/00071615</td>\n",
       "      <td>CONTABILIZZATO</td>\n",
       "      <td>Trasporti, noleggi, taxi e parcheggi</td>\n",
       "      <td>EUR</td>\n",
       "      <td>-42</td>\n",
       "    </tr>\n",
       "  </tbody>\n",
       "</table>\n",
       "<p>105 rows × 8 columns</p>\n",
       "</div>"
      ],
      "text/plain": [
       "              Unnamed: 0                                 Unnamed: 1  \\\n",
       "17                  Data                                 Operazione   \n",
       "18   2023-10-13 00:00:00         Pagamento Effettuato Su Pos Estero   \n",
       "19   2023-10-13 00:00:00                       Stipendio O Pensione   \n",
       "20   2023-10-12 00:00:00                              Pagamento Pos   \n",
       "21   2023-10-12 00:00:00                              Pagamento Pos   \n",
       "..                   ...                                        ...   \n",
       "117  2022-12-07 00:00:00  263806013007357#the Space Cinema Beinasco   \n",
       "118  2022-12-01 00:00:00           Trenit S721130bstazione Pinerolo   \n",
       "119  2022-11-12 00:00:00                          ILIAD ITALIA Roma   \n",
       "120  2022-11-05 00:00:00                Lappetito Corso Torino 48 P   \n",
       "121  2022-11-02 00:00:00           Trenit S721130bstazione Pinerolo   \n",
       "\n",
       "                                            Unnamed: 2           Unnamed: 3  \\\n",
       "17                                            Dettagli        Conto o carta   \n",
       "18          Apple.com/bill Itunes.com 13/10/2023 18.51  Conto 1000/00071615   \n",
       "19   COD. DISP. 0123101219839164 SALA 00908454 STIP...  Conto 1000/00071615   \n",
       "20                 Lidl 2552 Pinerolo 12/10/2023 18.21  Conto 1000/00071615   \n",
       "21                Iliad Italia Milano 12/10/2023 02.52  Conto 1000/00071615   \n",
       "..                                                 ...                  ...   \n",
       "117  Effettuato Il 07/12/2022 Alle Ore 1331 Mediant...  Conto 1000/00071615   \n",
       "118  Effettuato Il 01/12/2022 Alle Ore 0806 Mediant...  Conto 1000/00071615   \n",
       "119  EFFETTUATO IL 12/11/2022 ALLE ORE 0209 MEDIANT...  Conto 1000/00071615   \n",
       "120  LAPPETITO CORSO TORINO 48 P05/112058 Carta N.5...  Conto 1000/00071615   \n",
       "121  Effettuato Il 02/11/2022 Alle Ore 0740 Mediant...  Conto 1000/00071615   \n",
       "\n",
       "             Unnamed: 4                             Unnamed: 5 Unnamed: 6  \\\n",
       "17    Contabilizzazione                             Categoria      Valuta   \n",
       "18   NON CONTABILIZZATO                           Altre uscite        EUR   \n",
       "19       CONTABILIZZATO                    Stipendi e pensioni        EUR   \n",
       "20   NON CONTABILIZZATO                           Altre uscite        EUR   \n",
       "21   NON CONTABILIZZATO                           Altre uscite        EUR   \n",
       "..                  ...                                    ...        ...   \n",
       "117      CONTABILIZZATO                     Spettacoli e musei        EUR   \n",
       "118      CONTABILIZZATO  Trasporti, noleggi, taxi e parcheggi         EUR   \n",
       "119      CONTABILIZZATO                              Cellulare        EUR   \n",
       "120      CONTABILIZZATO                       Ristoranti e bar        EUR   \n",
       "121      CONTABILIZZATO  Trasporti, noleggi, taxi e parcheggi         EUR   \n",
       "\n",
       "    Unnamed: 7  \n",
       "17     Importo  \n",
       "18      -26.49  \n",
       "19     1680.92  \n",
       "20       -4.77  \n",
       "21       -5.99  \n",
       "..         ...  \n",
       "117      -71.4  \n",
       "118        -42  \n",
       "119      -5.99  \n",
       "120        -14  \n",
       "121        -42  \n",
       "\n",
       "[105 rows x 8 columns]"
      ]
     },
     "execution_count": 30,
     "metadata": {},
     "output_type": "execute_result"
    }
   ],
   "source": [
    "# Rimuovi le prime righe fino alla prima cella vuota nella prima colonna\n",
    "df = df[df.iloc[:, 0].notna()]\n",
    "df"
   ]
  },
  {
   "cell_type": "code",
   "execution_count": 31,
   "metadata": {},
   "outputs": [
    {
     "data": {
      "text/html": [
       "<div>\n",
       "<style scoped>\n",
       "    .dataframe tbody tr th:only-of-type {\n",
       "        vertical-align: middle;\n",
       "    }\n",
       "\n",
       "    .dataframe tbody tr th {\n",
       "        vertical-align: top;\n",
       "    }\n",
       "\n",
       "    .dataframe thead th {\n",
       "        text-align: right;\n",
       "    }\n",
       "</style>\n",
       "<table border=\"1\" class=\"dataframe\">\n",
       "  <thead>\n",
       "    <tr style=\"text-align: right;\">\n",
       "      <th></th>\n",
       "      <th>Data</th>\n",
       "      <th>Operazione</th>\n",
       "      <th>Dettagli</th>\n",
       "      <th>Conto o carta</th>\n",
       "      <th>Contabilizzazione</th>\n",
       "      <th>Categoria</th>\n",
       "      <th>Valuta</th>\n",
       "      <th>Importo</th>\n",
       "    </tr>\n",
       "  </thead>\n",
       "  <tbody>\n",
       "    <tr>\n",
       "      <th>0</th>\n",
       "      <td>2023-10-13 00:00:00</td>\n",
       "      <td>Pagamento Effettuato Su Pos Estero</td>\n",
       "      <td>Apple.com/bill Itunes.com 13/10/2023 18.51</td>\n",
       "      <td>Conto 1000/00071615</td>\n",
       "      <td>NON CONTABILIZZATO</td>\n",
       "      <td>Altre uscite</td>\n",
       "      <td>EUR</td>\n",
       "      <td>-26.49</td>\n",
       "    </tr>\n",
       "    <tr>\n",
       "      <th>1</th>\n",
       "      <td>2023-10-13 00:00:00</td>\n",
       "      <td>Stipendio O Pensione</td>\n",
       "      <td>COD. DISP. 0123101219839164 SALA 00908454 STIP...</td>\n",
       "      <td>Conto 1000/00071615</td>\n",
       "      <td>CONTABILIZZATO</td>\n",
       "      <td>Stipendi e pensioni</td>\n",
       "      <td>EUR</td>\n",
       "      <td>1680.92</td>\n",
       "    </tr>\n",
       "    <tr>\n",
       "      <th>2</th>\n",
       "      <td>2023-10-12 00:00:00</td>\n",
       "      <td>Pagamento Pos</td>\n",
       "      <td>Lidl 2552 Pinerolo 12/10/2023 18.21</td>\n",
       "      <td>Conto 1000/00071615</td>\n",
       "      <td>NON CONTABILIZZATO</td>\n",
       "      <td>Altre uscite</td>\n",
       "      <td>EUR</td>\n",
       "      <td>-4.77</td>\n",
       "    </tr>\n",
       "    <tr>\n",
       "      <th>3</th>\n",
       "      <td>2023-10-12 00:00:00</td>\n",
       "      <td>Pagamento Pos</td>\n",
       "      <td>Iliad Italia Milano 12/10/2023 02.52</td>\n",
       "      <td>Conto 1000/00071615</td>\n",
       "      <td>NON CONTABILIZZATO</td>\n",
       "      <td>Altre uscite</td>\n",
       "      <td>EUR</td>\n",
       "      <td>-5.99</td>\n",
       "    </tr>\n",
       "    <tr>\n",
       "      <th>4</th>\n",
       "      <td>2023-09-30 00:00:00</td>\n",
       "      <td>Canone Mensile Base E Servizi Aggiuntivi</td>\n",
       "      <td>Canone Mensile Mese Di Settembre</td>\n",
       "      <td>Conto 1000/00071615</td>\n",
       "      <td>CONTABILIZZATO</td>\n",
       "      <td>Imposte, bolli e commissioni</td>\n",
       "      <td>EUR</td>\n",
       "      <td>-5.5</td>\n",
       "    </tr>\n",
       "    <tr>\n",
       "      <th>...</th>\n",
       "      <td>...</td>\n",
       "      <td>...</td>\n",
       "      <td>...</td>\n",
       "      <td>...</td>\n",
       "      <td>...</td>\n",
       "      <td>...</td>\n",
       "      <td>...</td>\n",
       "      <td>...</td>\n",
       "    </tr>\n",
       "    <tr>\n",
       "      <th>99</th>\n",
       "      <td>2022-12-07 00:00:00</td>\n",
       "      <td>263806013007357#the Space Cinema Beinasco</td>\n",
       "      <td>Effettuato Il 07/12/2022 Alle Ore 1331 Mediant...</td>\n",
       "      <td>Conto 1000/00071615</td>\n",
       "      <td>CONTABILIZZATO</td>\n",
       "      <td>Spettacoli e musei</td>\n",
       "      <td>EUR</td>\n",
       "      <td>-71.4</td>\n",
       "    </tr>\n",
       "    <tr>\n",
       "      <th>100</th>\n",
       "      <td>2022-12-01 00:00:00</td>\n",
       "      <td>Trenit S721130bstazione Pinerolo</td>\n",
       "      <td>Effettuato Il 01/12/2022 Alle Ore 0806 Mediant...</td>\n",
       "      <td>Conto 1000/00071615</td>\n",
       "      <td>CONTABILIZZATO</td>\n",
       "      <td>Trasporti, noleggi, taxi e parcheggi</td>\n",
       "      <td>EUR</td>\n",
       "      <td>-42</td>\n",
       "    </tr>\n",
       "    <tr>\n",
       "      <th>101</th>\n",
       "      <td>2022-11-12 00:00:00</td>\n",
       "      <td>ILIAD ITALIA Roma</td>\n",
       "      <td>EFFETTUATO IL 12/11/2022 ALLE ORE 0209 MEDIANT...</td>\n",
       "      <td>Conto 1000/00071615</td>\n",
       "      <td>CONTABILIZZATO</td>\n",
       "      <td>Cellulare</td>\n",
       "      <td>EUR</td>\n",
       "      <td>-5.99</td>\n",
       "    </tr>\n",
       "    <tr>\n",
       "      <th>102</th>\n",
       "      <td>2022-11-05 00:00:00</td>\n",
       "      <td>Lappetito Corso Torino 48 P</td>\n",
       "      <td>LAPPETITO CORSO TORINO 48 P05/112058 Carta N.5...</td>\n",
       "      <td>Conto 1000/00071615</td>\n",
       "      <td>CONTABILIZZATO</td>\n",
       "      <td>Ristoranti e bar</td>\n",
       "      <td>EUR</td>\n",
       "      <td>-14</td>\n",
       "    </tr>\n",
       "    <tr>\n",
       "      <th>103</th>\n",
       "      <td>2022-11-02 00:00:00</td>\n",
       "      <td>Trenit S721130bstazione Pinerolo</td>\n",
       "      <td>Effettuato Il 02/11/2022 Alle Ore 0740 Mediant...</td>\n",
       "      <td>Conto 1000/00071615</td>\n",
       "      <td>CONTABILIZZATO</td>\n",
       "      <td>Trasporti, noleggi, taxi e parcheggi</td>\n",
       "      <td>EUR</td>\n",
       "      <td>-42</td>\n",
       "    </tr>\n",
       "  </tbody>\n",
       "</table>\n",
       "<p>104 rows × 8 columns</p>\n",
       "</div>"
      ],
      "text/plain": [
       "                    Data                                 Operazione  \\\n",
       "0    2023-10-13 00:00:00         Pagamento Effettuato Su Pos Estero   \n",
       "1    2023-10-13 00:00:00                       Stipendio O Pensione   \n",
       "2    2023-10-12 00:00:00                              Pagamento Pos   \n",
       "3    2023-10-12 00:00:00                              Pagamento Pos   \n",
       "4    2023-09-30 00:00:00   Canone Mensile Base E Servizi Aggiuntivi   \n",
       "..                   ...                                        ...   \n",
       "99   2022-12-07 00:00:00  263806013007357#the Space Cinema Beinasco   \n",
       "100  2022-12-01 00:00:00           Trenit S721130bstazione Pinerolo   \n",
       "101  2022-11-12 00:00:00                          ILIAD ITALIA Roma   \n",
       "102  2022-11-05 00:00:00                Lappetito Corso Torino 48 P   \n",
       "103  2022-11-02 00:00:00           Trenit S721130bstazione Pinerolo   \n",
       "\n",
       "                                              Dettagli        Conto o carta  \\\n",
       "0           Apple.com/bill Itunes.com 13/10/2023 18.51  Conto 1000/00071615   \n",
       "1    COD. DISP. 0123101219839164 SALA 00908454 STIP...  Conto 1000/00071615   \n",
       "2                  Lidl 2552 Pinerolo 12/10/2023 18.21  Conto 1000/00071615   \n",
       "3                 Iliad Italia Milano 12/10/2023 02.52  Conto 1000/00071615   \n",
       "4                     Canone Mensile Mese Di Settembre  Conto 1000/00071615   \n",
       "..                                                 ...                  ...   \n",
       "99   Effettuato Il 07/12/2022 Alle Ore 1331 Mediant...  Conto 1000/00071615   \n",
       "100  Effettuato Il 01/12/2022 Alle Ore 0806 Mediant...  Conto 1000/00071615   \n",
       "101  EFFETTUATO IL 12/11/2022 ALLE ORE 0209 MEDIANT...  Conto 1000/00071615   \n",
       "102  LAPPETITO CORSO TORINO 48 P05/112058 Carta N.5...  Conto 1000/00071615   \n",
       "103  Effettuato Il 02/11/2022 Alle Ore 0740 Mediant...  Conto 1000/00071615   \n",
       "\n",
       "      Contabilizzazione                             Categoria  Valuta  Importo  \n",
       "0    NON CONTABILIZZATO                           Altre uscite    EUR   -26.49  \n",
       "1        CONTABILIZZATO                    Stipendi e pensioni    EUR  1680.92  \n",
       "2    NON CONTABILIZZATO                           Altre uscite    EUR    -4.77  \n",
       "3    NON CONTABILIZZATO                           Altre uscite    EUR    -5.99  \n",
       "4        CONTABILIZZATO           Imposte, bolli e commissioni    EUR     -5.5  \n",
       "..                  ...                                    ...    ...      ...  \n",
       "99       CONTABILIZZATO                     Spettacoli e musei    EUR    -71.4  \n",
       "100      CONTABILIZZATO  Trasporti, noleggi, taxi e parcheggi     EUR      -42  \n",
       "101      CONTABILIZZATO                              Cellulare    EUR    -5.99  \n",
       "102      CONTABILIZZATO                       Ristoranti e bar    EUR      -14  \n",
       "103      CONTABILIZZATO  Trasporti, noleggi, taxi e parcheggi     EUR      -42  \n",
       "\n",
       "[104 rows x 8 columns]"
      ]
     },
     "execution_count": 31,
     "metadata": {},
     "output_type": "execute_result"
    }
   ],
   "source": [
    "# Imposta la prima riga come nuova intestazione\n",
    "new_header = df.iloc[0]\n",
    "\n",
    "# Rimuovi la prima riga dal DataFrame\n",
    "df = df[1:]\n",
    "\n",
    "# Rinomina gli indici del DataFrame con i valori della nuova intestazione\n",
    "df = df.rename(columns=new_header)\n",
    "\n",
    "# Resetta gli indici del DataFrame\n",
    "df = df.reset_index(drop=True)\n",
    "\n",
    "df"
   ]
  },
  {
   "cell_type": "code",
   "execution_count": 32,
   "metadata": {},
   "outputs": [
    {
     "data": {
      "text/html": [
       "<div>\n",
       "<style scoped>\n",
       "    .dataframe tbody tr th:only-of-type {\n",
       "        vertical-align: middle;\n",
       "    }\n",
       "\n",
       "    .dataframe tbody tr th {\n",
       "        vertical-align: top;\n",
       "    }\n",
       "\n",
       "    .dataframe thead th {\n",
       "        text-align: right;\n",
       "    }\n",
       "</style>\n",
       "<table border=\"1\" class=\"dataframe\">\n",
       "  <thead>\n",
       "    <tr style=\"text-align: right;\">\n",
       "      <th></th>\n",
       "      <th>Data</th>\n",
       "      <th>Operazione</th>\n",
       "      <th>Dettagli</th>\n",
       "      <th>Conto o carta</th>\n",
       "      <th>Contabilizzazione</th>\n",
       "      <th>Categoria</th>\n",
       "      <th>Valuta</th>\n",
       "      <th>Importo</th>\n",
       "    </tr>\n",
       "  </thead>\n",
       "  <tbody>\n",
       "    <tr>\n",
       "      <th>0</th>\n",
       "      <td>2023-10-13</td>\n",
       "      <td>Pagamento Effettuato Su Pos Estero</td>\n",
       "      <td>Apple.com/bill Itunes.com 13/10/2023 18.51</td>\n",
       "      <td>Conto 1000/00071615</td>\n",
       "      <td>NON CONTABILIZZATO</td>\n",
       "      <td>Altre uscite</td>\n",
       "      <td>EUR</td>\n",
       "      <td>-26.49</td>\n",
       "    </tr>\n",
       "    <tr>\n",
       "      <th>1</th>\n",
       "      <td>2023-10-13</td>\n",
       "      <td>Stipendio O Pensione</td>\n",
       "      <td>COD. DISP. 0123101219839164 SALA 00908454 STIP...</td>\n",
       "      <td>Conto 1000/00071615</td>\n",
       "      <td>CONTABILIZZATO</td>\n",
       "      <td>Stipendi e pensioni</td>\n",
       "      <td>EUR</td>\n",
       "      <td>1680.92</td>\n",
       "    </tr>\n",
       "    <tr>\n",
       "      <th>2</th>\n",
       "      <td>2023-10-12</td>\n",
       "      <td>Pagamento Pos</td>\n",
       "      <td>Lidl 2552 Pinerolo 12/10/2023 18.21</td>\n",
       "      <td>Conto 1000/00071615</td>\n",
       "      <td>NON CONTABILIZZATO</td>\n",
       "      <td>Altre uscite</td>\n",
       "      <td>EUR</td>\n",
       "      <td>-4.77</td>\n",
       "    </tr>\n",
       "    <tr>\n",
       "      <th>3</th>\n",
       "      <td>2023-10-12</td>\n",
       "      <td>Pagamento Pos</td>\n",
       "      <td>Iliad Italia Milano 12/10/2023 02.52</td>\n",
       "      <td>Conto 1000/00071615</td>\n",
       "      <td>NON CONTABILIZZATO</td>\n",
       "      <td>Altre uscite</td>\n",
       "      <td>EUR</td>\n",
       "      <td>-5.99</td>\n",
       "    </tr>\n",
       "    <tr>\n",
       "      <th>4</th>\n",
       "      <td>2023-09-30</td>\n",
       "      <td>Canone Mensile Base E Servizi Aggiuntivi</td>\n",
       "      <td>Canone Mensile Mese Di Settembre</td>\n",
       "      <td>Conto 1000/00071615</td>\n",
       "      <td>CONTABILIZZATO</td>\n",
       "      <td>Imposte, bolli e commissioni</td>\n",
       "      <td>EUR</td>\n",
       "      <td>-5.5</td>\n",
       "    </tr>\n",
       "    <tr>\n",
       "      <th>...</th>\n",
       "      <td>...</td>\n",
       "      <td>...</td>\n",
       "      <td>...</td>\n",
       "      <td>...</td>\n",
       "      <td>...</td>\n",
       "      <td>...</td>\n",
       "      <td>...</td>\n",
       "      <td>...</td>\n",
       "    </tr>\n",
       "    <tr>\n",
       "      <th>99</th>\n",
       "      <td>2022-12-07</td>\n",
       "      <td>263806013007357#the Space Cinema Beinasco</td>\n",
       "      <td>Effettuato Il 07/12/2022 Alle Ore 1331 Mediant...</td>\n",
       "      <td>Conto 1000/00071615</td>\n",
       "      <td>CONTABILIZZATO</td>\n",
       "      <td>Spettacoli e musei</td>\n",
       "      <td>EUR</td>\n",
       "      <td>-71.4</td>\n",
       "    </tr>\n",
       "    <tr>\n",
       "      <th>100</th>\n",
       "      <td>2022-12-01</td>\n",
       "      <td>Trenit S721130bstazione Pinerolo</td>\n",
       "      <td>Effettuato Il 01/12/2022 Alle Ore 0806 Mediant...</td>\n",
       "      <td>Conto 1000/00071615</td>\n",
       "      <td>CONTABILIZZATO</td>\n",
       "      <td>Trasporti, noleggi, taxi e parcheggi</td>\n",
       "      <td>EUR</td>\n",
       "      <td>-42</td>\n",
       "    </tr>\n",
       "    <tr>\n",
       "      <th>101</th>\n",
       "      <td>2022-11-12</td>\n",
       "      <td>ILIAD ITALIA Roma</td>\n",
       "      <td>EFFETTUATO IL 12/11/2022 ALLE ORE 0209 MEDIANT...</td>\n",
       "      <td>Conto 1000/00071615</td>\n",
       "      <td>CONTABILIZZATO</td>\n",
       "      <td>Cellulare</td>\n",
       "      <td>EUR</td>\n",
       "      <td>-5.99</td>\n",
       "    </tr>\n",
       "    <tr>\n",
       "      <th>102</th>\n",
       "      <td>2022-11-05</td>\n",
       "      <td>Lappetito Corso Torino 48 P</td>\n",
       "      <td>LAPPETITO CORSO TORINO 48 P05/112058 Carta N.5...</td>\n",
       "      <td>Conto 1000/00071615</td>\n",
       "      <td>CONTABILIZZATO</td>\n",
       "      <td>Ristoranti e bar</td>\n",
       "      <td>EUR</td>\n",
       "      <td>-14</td>\n",
       "    </tr>\n",
       "    <tr>\n",
       "      <th>103</th>\n",
       "      <td>2022-11-02</td>\n",
       "      <td>Trenit S721130bstazione Pinerolo</td>\n",
       "      <td>Effettuato Il 02/11/2022 Alle Ore 0740 Mediant...</td>\n",
       "      <td>Conto 1000/00071615</td>\n",
       "      <td>CONTABILIZZATO</td>\n",
       "      <td>Trasporti, noleggi, taxi e parcheggi</td>\n",
       "      <td>EUR</td>\n",
       "      <td>-42</td>\n",
       "    </tr>\n",
       "  </tbody>\n",
       "</table>\n",
       "<p>104 rows × 8 columns</p>\n",
       "</div>"
      ],
      "text/plain": [
       "          Data                                 Operazione  \\\n",
       "0   2023-10-13         Pagamento Effettuato Su Pos Estero   \n",
       "1   2023-10-13                       Stipendio O Pensione   \n",
       "2   2023-10-12                              Pagamento Pos   \n",
       "3   2023-10-12                              Pagamento Pos   \n",
       "4   2023-09-30   Canone Mensile Base E Servizi Aggiuntivi   \n",
       "..         ...                                        ...   \n",
       "99  2022-12-07  263806013007357#the Space Cinema Beinasco   \n",
       "100 2022-12-01           Trenit S721130bstazione Pinerolo   \n",
       "101 2022-11-12                          ILIAD ITALIA Roma   \n",
       "102 2022-11-05                Lappetito Corso Torino 48 P   \n",
       "103 2022-11-02           Trenit S721130bstazione Pinerolo   \n",
       "\n",
       "                                              Dettagli        Conto o carta  \\\n",
       "0           Apple.com/bill Itunes.com 13/10/2023 18.51  Conto 1000/00071615   \n",
       "1    COD. DISP. 0123101219839164 SALA 00908454 STIP...  Conto 1000/00071615   \n",
       "2                  Lidl 2552 Pinerolo 12/10/2023 18.21  Conto 1000/00071615   \n",
       "3                 Iliad Italia Milano 12/10/2023 02.52  Conto 1000/00071615   \n",
       "4                     Canone Mensile Mese Di Settembre  Conto 1000/00071615   \n",
       "..                                                 ...                  ...   \n",
       "99   Effettuato Il 07/12/2022 Alle Ore 1331 Mediant...  Conto 1000/00071615   \n",
       "100  Effettuato Il 01/12/2022 Alle Ore 0806 Mediant...  Conto 1000/00071615   \n",
       "101  EFFETTUATO IL 12/11/2022 ALLE ORE 0209 MEDIANT...  Conto 1000/00071615   \n",
       "102  LAPPETITO CORSO TORINO 48 P05/112058 Carta N.5...  Conto 1000/00071615   \n",
       "103  Effettuato Il 02/11/2022 Alle Ore 0740 Mediant...  Conto 1000/00071615   \n",
       "\n",
       "      Contabilizzazione                             Categoria  Valuta  Importo  \n",
       "0    NON CONTABILIZZATO                           Altre uscite    EUR   -26.49  \n",
       "1        CONTABILIZZATO                    Stipendi e pensioni    EUR  1680.92  \n",
       "2    NON CONTABILIZZATO                           Altre uscite    EUR    -4.77  \n",
       "3    NON CONTABILIZZATO                           Altre uscite    EUR    -5.99  \n",
       "4        CONTABILIZZATO           Imposte, bolli e commissioni    EUR     -5.5  \n",
       "..                  ...                                    ...    ...      ...  \n",
       "99       CONTABILIZZATO                     Spettacoli e musei    EUR    -71.4  \n",
       "100      CONTABILIZZATO  Trasporti, noleggi, taxi e parcheggi     EUR      -42  \n",
       "101      CONTABILIZZATO                              Cellulare    EUR    -5.99  \n",
       "102      CONTABILIZZATO                       Ristoranti e bar    EUR      -14  \n",
       "103      CONTABILIZZATO  Trasporti, noleggi, taxi e parcheggi     EUR      -42  \n",
       "\n",
       "[104 rows x 8 columns]"
      ]
     },
     "execution_count": 32,
     "metadata": {},
     "output_type": "execute_result"
    }
   ],
   "source": [
    "# Converte la colonna \"Data\" in formato datetime\n",
    "df[\"Data\"] = pd.to_datetime(df[\"Data\"])\n",
    "df"
   ]
  },
  {
   "cell_type": "code",
   "execution_count": 33,
   "metadata": {},
   "outputs": [
    {
     "data": {
      "text/html": [
       "<div>\n",
       "<style scoped>\n",
       "    .dataframe tbody tr th:only-of-type {\n",
       "        vertical-align: middle;\n",
       "    }\n",
       "\n",
       "    .dataframe tbody tr th {\n",
       "        vertical-align: top;\n",
       "    }\n",
       "\n",
       "    .dataframe thead th {\n",
       "        text-align: right;\n",
       "    }\n",
       "</style>\n",
       "<table border=\"1\" class=\"dataframe\">\n",
       "  <thead>\n",
       "    <tr style=\"text-align: right;\">\n",
       "      <th></th>\n",
       "      <th>Data</th>\n",
       "      <th>Operazione</th>\n",
       "      <th>Dettagli</th>\n",
       "      <th>Conto o carta</th>\n",
       "      <th>Contabilizzazione</th>\n",
       "      <th>Categoria banca</th>\n",
       "      <th>Valuta</th>\n",
       "      <th>Importo</th>\n",
       "      <th>Categoria</th>\n",
       "      <th>Subcategoria</th>\n",
       "    </tr>\n",
       "  </thead>\n",
       "  <tbody>\n",
       "    <tr>\n",
       "      <th>0</th>\n",
       "      <td>2023-10-13</td>\n",
       "      <td>Pagamento Effettuato Su Pos Estero</td>\n",
       "      <td>Apple.com/bill Itunes.com 13/10/2023 18.51</td>\n",
       "      <td>Conto 1000/00071615</td>\n",
       "      <td>NON CONTABILIZZATO</td>\n",
       "      <td>Altre uscite</td>\n",
       "      <td>EUR</td>\n",
       "      <td>-26.49</td>\n",
       "      <td>None</td>\n",
       "      <td>None</td>\n",
       "    </tr>\n",
       "    <tr>\n",
       "      <th>1</th>\n",
       "      <td>2023-10-13</td>\n",
       "      <td>Stipendio O Pensione</td>\n",
       "      <td>COD. DISP. 0123101219839164 SALA 00908454 STIP...</td>\n",
       "      <td>Conto 1000/00071615</td>\n",
       "      <td>CONTABILIZZATO</td>\n",
       "      <td>Stipendi e pensioni</td>\n",
       "      <td>EUR</td>\n",
       "      <td>1680.92</td>\n",
       "      <td>None</td>\n",
       "      <td>None</td>\n",
       "    </tr>\n",
       "    <tr>\n",
       "      <th>2</th>\n",
       "      <td>2023-10-12</td>\n",
       "      <td>Pagamento Pos</td>\n",
       "      <td>Lidl 2552 Pinerolo 12/10/2023 18.21</td>\n",
       "      <td>Conto 1000/00071615</td>\n",
       "      <td>NON CONTABILIZZATO</td>\n",
       "      <td>Altre uscite</td>\n",
       "      <td>EUR</td>\n",
       "      <td>-4.77</td>\n",
       "      <td>None</td>\n",
       "      <td>None</td>\n",
       "    </tr>\n",
       "    <tr>\n",
       "      <th>3</th>\n",
       "      <td>2023-10-12</td>\n",
       "      <td>Pagamento Pos</td>\n",
       "      <td>Iliad Italia Milano 12/10/2023 02.52</td>\n",
       "      <td>Conto 1000/00071615</td>\n",
       "      <td>NON CONTABILIZZATO</td>\n",
       "      <td>Altre uscite</td>\n",
       "      <td>EUR</td>\n",
       "      <td>-5.99</td>\n",
       "      <td>None</td>\n",
       "      <td>None</td>\n",
       "    </tr>\n",
       "    <tr>\n",
       "      <th>4</th>\n",
       "      <td>2023-09-30</td>\n",
       "      <td>Canone Mensile Base E Servizi Aggiuntivi</td>\n",
       "      <td>Canone Mensile Mese Di Settembre</td>\n",
       "      <td>Conto 1000/00071615</td>\n",
       "      <td>CONTABILIZZATO</td>\n",
       "      <td>Imposte, bolli e commissioni</td>\n",
       "      <td>EUR</td>\n",
       "      <td>-5.5</td>\n",
       "      <td>None</td>\n",
       "      <td>None</td>\n",
       "    </tr>\n",
       "    <tr>\n",
       "      <th>...</th>\n",
       "      <td>...</td>\n",
       "      <td>...</td>\n",
       "      <td>...</td>\n",
       "      <td>...</td>\n",
       "      <td>...</td>\n",
       "      <td>...</td>\n",
       "      <td>...</td>\n",
       "      <td>...</td>\n",
       "      <td>...</td>\n",
       "      <td>...</td>\n",
       "    </tr>\n",
       "    <tr>\n",
       "      <th>99</th>\n",
       "      <td>2022-12-07</td>\n",
       "      <td>263806013007357#the Space Cinema Beinasco</td>\n",
       "      <td>Effettuato Il 07/12/2022 Alle Ore 1331 Mediant...</td>\n",
       "      <td>Conto 1000/00071615</td>\n",
       "      <td>CONTABILIZZATO</td>\n",
       "      <td>Spettacoli e musei</td>\n",
       "      <td>EUR</td>\n",
       "      <td>-71.4</td>\n",
       "      <td>None</td>\n",
       "      <td>None</td>\n",
       "    </tr>\n",
       "    <tr>\n",
       "      <th>100</th>\n",
       "      <td>2022-12-01</td>\n",
       "      <td>Trenit S721130bstazione Pinerolo</td>\n",
       "      <td>Effettuato Il 01/12/2022 Alle Ore 0806 Mediant...</td>\n",
       "      <td>Conto 1000/00071615</td>\n",
       "      <td>CONTABILIZZATO</td>\n",
       "      <td>Trasporti, noleggi, taxi e parcheggi</td>\n",
       "      <td>EUR</td>\n",
       "      <td>-42</td>\n",
       "      <td>None</td>\n",
       "      <td>None</td>\n",
       "    </tr>\n",
       "    <tr>\n",
       "      <th>101</th>\n",
       "      <td>2022-11-12</td>\n",
       "      <td>ILIAD ITALIA Roma</td>\n",
       "      <td>EFFETTUATO IL 12/11/2022 ALLE ORE 0209 MEDIANT...</td>\n",
       "      <td>Conto 1000/00071615</td>\n",
       "      <td>CONTABILIZZATO</td>\n",
       "      <td>Cellulare</td>\n",
       "      <td>EUR</td>\n",
       "      <td>-5.99</td>\n",
       "      <td>None</td>\n",
       "      <td>None</td>\n",
       "    </tr>\n",
       "    <tr>\n",
       "      <th>102</th>\n",
       "      <td>2022-11-05</td>\n",
       "      <td>Lappetito Corso Torino 48 P</td>\n",
       "      <td>LAPPETITO CORSO TORINO 48 P05/112058 Carta N.5...</td>\n",
       "      <td>Conto 1000/00071615</td>\n",
       "      <td>CONTABILIZZATO</td>\n",
       "      <td>Ristoranti e bar</td>\n",
       "      <td>EUR</td>\n",
       "      <td>-14</td>\n",
       "      <td>None</td>\n",
       "      <td>None</td>\n",
       "    </tr>\n",
       "    <tr>\n",
       "      <th>103</th>\n",
       "      <td>2022-11-02</td>\n",
       "      <td>Trenit S721130bstazione Pinerolo</td>\n",
       "      <td>Effettuato Il 02/11/2022 Alle Ore 0740 Mediant...</td>\n",
       "      <td>Conto 1000/00071615</td>\n",
       "      <td>CONTABILIZZATO</td>\n",
       "      <td>Trasporti, noleggi, taxi e parcheggi</td>\n",
       "      <td>EUR</td>\n",
       "      <td>-42</td>\n",
       "      <td>None</td>\n",
       "      <td>None</td>\n",
       "    </tr>\n",
       "  </tbody>\n",
       "</table>\n",
       "<p>104 rows × 10 columns</p>\n",
       "</div>"
      ],
      "text/plain": [
       "          Data                                 Operazione  \\\n",
       "0   2023-10-13         Pagamento Effettuato Su Pos Estero   \n",
       "1   2023-10-13                       Stipendio O Pensione   \n",
       "2   2023-10-12                              Pagamento Pos   \n",
       "3   2023-10-12                              Pagamento Pos   \n",
       "4   2023-09-30   Canone Mensile Base E Servizi Aggiuntivi   \n",
       "..         ...                                        ...   \n",
       "99  2022-12-07  263806013007357#the Space Cinema Beinasco   \n",
       "100 2022-12-01           Trenit S721130bstazione Pinerolo   \n",
       "101 2022-11-12                          ILIAD ITALIA Roma   \n",
       "102 2022-11-05                Lappetito Corso Torino 48 P   \n",
       "103 2022-11-02           Trenit S721130bstazione Pinerolo   \n",
       "\n",
       "                                              Dettagli        Conto o carta  \\\n",
       "0           Apple.com/bill Itunes.com 13/10/2023 18.51  Conto 1000/00071615   \n",
       "1    COD. DISP. 0123101219839164 SALA 00908454 STIP...  Conto 1000/00071615   \n",
       "2                  Lidl 2552 Pinerolo 12/10/2023 18.21  Conto 1000/00071615   \n",
       "3                 Iliad Italia Milano 12/10/2023 02.52  Conto 1000/00071615   \n",
       "4                     Canone Mensile Mese Di Settembre  Conto 1000/00071615   \n",
       "..                                                 ...                  ...   \n",
       "99   Effettuato Il 07/12/2022 Alle Ore 1331 Mediant...  Conto 1000/00071615   \n",
       "100  Effettuato Il 01/12/2022 Alle Ore 0806 Mediant...  Conto 1000/00071615   \n",
       "101  EFFETTUATO IL 12/11/2022 ALLE ORE 0209 MEDIANT...  Conto 1000/00071615   \n",
       "102  LAPPETITO CORSO TORINO 48 P05/112058 Carta N.5...  Conto 1000/00071615   \n",
       "103  Effettuato Il 02/11/2022 Alle Ore 0740 Mediant...  Conto 1000/00071615   \n",
       "\n",
       "      Contabilizzazione                        Categoria banca Valuta  \\\n",
       "0    NON CONTABILIZZATO                           Altre uscite    EUR   \n",
       "1        CONTABILIZZATO                    Stipendi e pensioni    EUR   \n",
       "2    NON CONTABILIZZATO                           Altre uscite    EUR   \n",
       "3    NON CONTABILIZZATO                           Altre uscite    EUR   \n",
       "4        CONTABILIZZATO           Imposte, bolli e commissioni    EUR   \n",
       "..                  ...                                    ...    ...   \n",
       "99       CONTABILIZZATO                     Spettacoli e musei    EUR   \n",
       "100      CONTABILIZZATO  Trasporti, noleggi, taxi e parcheggi     EUR   \n",
       "101      CONTABILIZZATO                              Cellulare    EUR   \n",
       "102      CONTABILIZZATO                       Ristoranti e bar    EUR   \n",
       "103      CONTABILIZZATO  Trasporti, noleggi, taxi e parcheggi     EUR   \n",
       "\n",
       "     Importo Categoria Subcategoria  \n",
       "0     -26.49      None         None  \n",
       "1    1680.92      None         None  \n",
       "2      -4.77      None         None  \n",
       "3      -5.99      None         None  \n",
       "4       -5.5      None         None  \n",
       "..       ...       ...          ...  \n",
       "99     -71.4      None         None  \n",
       "100      -42      None         None  \n",
       "101    -5.99      None         None  \n",
       "102      -14      None         None  \n",
       "103      -42      None         None  \n",
       "\n",
       "[104 rows x 10 columns]"
      ]
     },
     "execution_count": 33,
     "metadata": {},
     "output_type": "execute_result"
    }
   ],
   "source": [
    "# Rinomina la colonna 'Categoria' in 'Categoria banca'\n",
    "df = df.rename(columns={\"Categoria \": \"Categoria banca\"})\n",
    "\n",
    "# Aggiungi le nuove colonne 'Categoria' e 'Subcategoria'\n",
    "df[\"Categoria\"] = None\n",
    "df[\"Subcategoria\"] = None\n",
    "df"
   ]
  },
  {
   "cell_type": "code",
   "execution_count": 34,
   "metadata": {},
   "outputs": [],
   "source": [
    "# Salva il DataFrame in un file CSV\n",
    "df.to_csv('../data/dataframe.csv', index=False)\n",
    "\n"
   ]
  },
  {
   "cell_type": "markdown",
   "metadata": {},
   "source": [
    "## Lavoro sul dataframe"
   ]
  },
  {
   "cell_type": "code",
   "execution_count": 35,
   "metadata": {},
   "outputs": [
    {
     "data": {
      "text/html": [
       "<div>\n",
       "<style scoped>\n",
       "    .dataframe tbody tr th:only-of-type {\n",
       "        vertical-align: middle;\n",
       "    }\n",
       "\n",
       "    .dataframe tbody tr th {\n",
       "        vertical-align: top;\n",
       "    }\n",
       "\n",
       "    .dataframe thead th {\n",
       "        text-align: right;\n",
       "    }\n",
       "</style>\n",
       "<table border=\"1\" class=\"dataframe\">\n",
       "  <thead>\n",
       "    <tr style=\"text-align: right;\">\n",
       "      <th></th>\n",
       "      <th>Data</th>\n",
       "      <th>Operazione</th>\n",
       "      <th>Dettagli</th>\n",
       "      <th>Conto o carta</th>\n",
       "      <th>Contabilizzazione</th>\n",
       "      <th>Categoria banca</th>\n",
       "      <th>Valuta</th>\n",
       "      <th>Importo</th>\n",
       "      <th>Categoria</th>\n",
       "      <th>Subcategoria</th>\n",
       "    </tr>\n",
       "  </thead>\n",
       "  <tbody>\n",
       "    <tr>\n",
       "      <th>0</th>\n",
       "      <td>2023-10-13T00:00:00</td>\n",
       "      <td>Pagamento Effettuato Su Pos Estero</td>\n",
       "      <td>Apple.com/bill Itunes.com 13/10/2023 18.51</td>\n",
       "      <td>Conto 1000/00071615</td>\n",
       "      <td>NON CONTABILIZZATO</td>\n",
       "      <td>Altre uscite</td>\n",
       "      <td>EUR</td>\n",
       "      <td>-26.49</td>\n",
       "      <td>Tecnologia</td>\n",
       "      <td>Applicazione</td>\n",
       "    </tr>\n",
       "    <tr>\n",
       "      <th>1</th>\n",
       "      <td>2023-10-13T00:00:00</td>\n",
       "      <td>Stipendio O Pensione</td>\n",
       "      <td>COD. DISP. 0123101219839164 SALA 00908454 STIP...</td>\n",
       "      <td>Conto 1000/00071615</td>\n",
       "      <td>CONTABILIZZATO</td>\n",
       "      <td>Stipendi e pensioni</td>\n",
       "      <td>EUR</td>\n",
       "      <td>1680.92</td>\n",
       "      <td>Stipendio</td>\n",
       "      <td>ITT</td>\n",
       "    </tr>\n",
       "    <tr>\n",
       "      <th>2</th>\n",
       "      <td>2023-10-12T00:00:00</td>\n",
       "      <td>Pagamento Pos</td>\n",
       "      <td>Lidl 2552 Pinerolo 12/10/2023 18.21</td>\n",
       "      <td>Conto 1000/00071615</td>\n",
       "      <td>NON CONTABILIZZATO</td>\n",
       "      <td>Altre uscite</td>\n",
       "      <td>EUR</td>\n",
       "      <td>-4.77</td>\n",
       "      <td>NaN</td>\n",
       "      <td>NaN</td>\n",
       "    </tr>\n",
       "    <tr>\n",
       "      <th>3</th>\n",
       "      <td>2023-10-12T00:00:00</td>\n",
       "      <td>Pagamento Pos</td>\n",
       "      <td>Iliad Italia Milano 12/10/2023 02.52</td>\n",
       "      <td>Conto 1000/00071615</td>\n",
       "      <td>NON CONTABILIZZATO</td>\n",
       "      <td>Altre uscite</td>\n",
       "      <td>EUR</td>\n",
       "      <td>-5.99</td>\n",
       "      <td>Canone mensile</td>\n",
       "      <td>Iliad</td>\n",
       "    </tr>\n",
       "    <tr>\n",
       "      <th>4</th>\n",
       "      <td>2023-09-30T00:00:00</td>\n",
       "      <td>Canone Mensile Base E Servizi Aggiuntivi</td>\n",
       "      <td>Canone Mensile Mese Di Settembre</td>\n",
       "      <td>Conto 1000/00071615</td>\n",
       "      <td>CONTABILIZZATO</td>\n",
       "      <td>Imposte, bolli e commissioni</td>\n",
       "      <td>EUR</td>\n",
       "      <td>-5.50</td>\n",
       "      <td>Canone mensile</td>\n",
       "      <td>Banca</td>\n",
       "    </tr>\n",
       "    <tr>\n",
       "      <th>...</th>\n",
       "      <td>...</td>\n",
       "      <td>...</td>\n",
       "      <td>...</td>\n",
       "      <td>...</td>\n",
       "      <td>...</td>\n",
       "      <td>...</td>\n",
       "      <td>...</td>\n",
       "      <td>...</td>\n",
       "      <td>...</td>\n",
       "      <td>...</td>\n",
       "    </tr>\n",
       "    <tr>\n",
       "      <th>99</th>\n",
       "      <td>2022-12-07T00:00:00</td>\n",
       "      <td>263806013007357#the Space Cinema Beinasco</td>\n",
       "      <td>Effettuato Il 07/12/2022 Alle Ore 1331 Mediant...</td>\n",
       "      <td>Conto 1000/00071615</td>\n",
       "      <td>CONTABILIZZATO</td>\n",
       "      <td>Spettacoli e musei</td>\n",
       "      <td>EUR</td>\n",
       "      <td>-71.40</td>\n",
       "      <td>NaN</td>\n",
       "      <td>NaN</td>\n",
       "    </tr>\n",
       "    <tr>\n",
       "      <th>100</th>\n",
       "      <td>2022-12-01T00:00:00</td>\n",
       "      <td>Trenit S721130bstazione Pinerolo</td>\n",
       "      <td>Effettuato Il 01/12/2022 Alle Ore 0806 Mediant...</td>\n",
       "      <td>Conto 1000/00071615</td>\n",
       "      <td>CONTABILIZZATO</td>\n",
       "      <td>Trasporti, noleggi, taxi e parcheggi</td>\n",
       "      <td>EUR</td>\n",
       "      <td>-42.00</td>\n",
       "      <td>NaN</td>\n",
       "      <td>NaN</td>\n",
       "    </tr>\n",
       "    <tr>\n",
       "      <th>101</th>\n",
       "      <td>2022-11-12T00:00:00</td>\n",
       "      <td>ILIAD ITALIA Roma</td>\n",
       "      <td>EFFETTUATO IL 12/11/2022 ALLE ORE 0209 MEDIANT...</td>\n",
       "      <td>Conto 1000/00071615</td>\n",
       "      <td>CONTABILIZZATO</td>\n",
       "      <td>Cellulare</td>\n",
       "      <td>EUR</td>\n",
       "      <td>-5.99</td>\n",
       "      <td>NaN</td>\n",
       "      <td>NaN</td>\n",
       "    </tr>\n",
       "    <tr>\n",
       "      <th>102</th>\n",
       "      <td>2022-11-05T00:00:00</td>\n",
       "      <td>Lappetito Corso Torino 48 P</td>\n",
       "      <td>LAPPETITO CORSO TORINO 48 P05/112058 Carta N.5...</td>\n",
       "      <td>Conto 1000/00071615</td>\n",
       "      <td>CONTABILIZZATO</td>\n",
       "      <td>Ristoranti e bar</td>\n",
       "      <td>EUR</td>\n",
       "      <td>-14.00</td>\n",
       "      <td>NaN</td>\n",
       "      <td>NaN</td>\n",
       "    </tr>\n",
       "    <tr>\n",
       "      <th>103</th>\n",
       "      <td>2022-11-02T00:00:00</td>\n",
       "      <td>Trenit S721130bstazione Pinerolo</td>\n",
       "      <td>Effettuato Il 02/11/2022 Alle Ore 0740 Mediant...</td>\n",
       "      <td>Conto 1000/00071615</td>\n",
       "      <td>CONTABILIZZATO</td>\n",
       "      <td>Trasporti, noleggi, taxi e parcheggi</td>\n",
       "      <td>EUR</td>\n",
       "      <td>-42.00</td>\n",
       "      <td>NaN</td>\n",
       "      <td>NaN</td>\n",
       "    </tr>\n",
       "  </tbody>\n",
       "</table>\n",
       "<p>104 rows × 10 columns</p>\n",
       "</div>"
      ],
      "text/plain": [
       "                    Data                                 Operazione  \\\n",
       "0    2023-10-13T00:00:00         Pagamento Effettuato Su Pos Estero   \n",
       "1    2023-10-13T00:00:00                       Stipendio O Pensione   \n",
       "2    2023-10-12T00:00:00                              Pagamento Pos   \n",
       "3    2023-10-12T00:00:00                              Pagamento Pos   \n",
       "4    2023-09-30T00:00:00   Canone Mensile Base E Servizi Aggiuntivi   \n",
       "..                   ...                                        ...   \n",
       "99   2022-12-07T00:00:00  263806013007357#the Space Cinema Beinasco   \n",
       "100  2022-12-01T00:00:00           Trenit S721130bstazione Pinerolo   \n",
       "101  2022-11-12T00:00:00                          ILIAD ITALIA Roma   \n",
       "102  2022-11-05T00:00:00                Lappetito Corso Torino 48 P   \n",
       "103  2022-11-02T00:00:00           Trenit S721130bstazione Pinerolo   \n",
       "\n",
       "                                              Dettagli        Conto o carta  \\\n",
       "0           Apple.com/bill Itunes.com 13/10/2023 18.51  Conto 1000/00071615   \n",
       "1    COD. DISP. 0123101219839164 SALA 00908454 STIP...  Conto 1000/00071615   \n",
       "2                  Lidl 2552 Pinerolo 12/10/2023 18.21  Conto 1000/00071615   \n",
       "3                 Iliad Italia Milano 12/10/2023 02.52  Conto 1000/00071615   \n",
       "4                     Canone Mensile Mese Di Settembre  Conto 1000/00071615   \n",
       "..                                                 ...                  ...   \n",
       "99   Effettuato Il 07/12/2022 Alle Ore 1331 Mediant...  Conto 1000/00071615   \n",
       "100  Effettuato Il 01/12/2022 Alle Ore 0806 Mediant...  Conto 1000/00071615   \n",
       "101  EFFETTUATO IL 12/11/2022 ALLE ORE 0209 MEDIANT...  Conto 1000/00071615   \n",
       "102  LAPPETITO CORSO TORINO 48 P05/112058 Carta N.5...  Conto 1000/00071615   \n",
       "103  Effettuato Il 02/11/2022 Alle Ore 0740 Mediant...  Conto 1000/00071615   \n",
       "\n",
       "      Contabilizzazione                        Categoria banca Valuta  \\\n",
       "0    NON CONTABILIZZATO                           Altre uscite    EUR   \n",
       "1        CONTABILIZZATO                    Stipendi e pensioni    EUR   \n",
       "2    NON CONTABILIZZATO                           Altre uscite    EUR   \n",
       "3    NON CONTABILIZZATO                           Altre uscite    EUR   \n",
       "4        CONTABILIZZATO           Imposte, bolli e commissioni    EUR   \n",
       "..                  ...                                    ...    ...   \n",
       "99       CONTABILIZZATO                     Spettacoli e musei    EUR   \n",
       "100      CONTABILIZZATO  Trasporti, noleggi, taxi e parcheggi     EUR   \n",
       "101      CONTABILIZZATO                              Cellulare    EUR   \n",
       "102      CONTABILIZZATO                       Ristoranti e bar    EUR   \n",
       "103      CONTABILIZZATO  Trasporti, noleggi, taxi e parcheggi     EUR   \n",
       "\n",
       "     Importo       Categoria  Subcategoria  \n",
       "0     -26.49      Tecnologia  Applicazione  \n",
       "1    1680.92       Stipendio           ITT  \n",
       "2      -4.77             NaN           NaN  \n",
       "3      -5.99  Canone mensile         Iliad  \n",
       "4      -5.50  Canone mensile         Banca  \n",
       "..       ...             ...           ...  \n",
       "99    -71.40             NaN           NaN  \n",
       "100   -42.00             NaN           NaN  \n",
       "101    -5.99             NaN           NaN  \n",
       "102   -14.00             NaN           NaN  \n",
       "103   -42.00             NaN           NaN  \n",
       "\n",
       "[104 rows x 10 columns]"
      ]
     },
     "execution_count": 35,
     "metadata": {},
     "output_type": "execute_result"
    }
   ],
   "source": [
    "# Carica il file CSV in un DataFrame di Pandas\n",
    "df = pd.read_csv('../data/dataframe.csv')\n",
    "df\n"
   ]
  },
  {
   "cell_type": "code",
   "execution_count": 9,
   "metadata": {},
   "outputs": [
    {
     "data": {
      "image/png": "[encoded data removed]",
      "text/plain": [
       "<Figure size 640x480 with 1 Axes>"
      ]
     },
     "metadata": {},
     "output_type": "display_data"
    }
   ],
   "source": [
    "# Seleziona solo le righe con valori positivi o negativi\n",
    "df = df.loc[df['Importo'] != 0]\n",
    "\n",
    "# Crea un array di colori per le barre\n",
    "colors = np.where(df['Importo'] > 0, 'g', 'r')\n",
    "\n",
    "# Crea il grafico a barre\n",
    "plt.bar(df['Data'], df['Importo'], color=colors)\n",
    "\n",
    "# Imposta il titolo del grafico\n",
    "plt.title('Entrate e uscite')\n",
    "\n",
    "# Mostra il grafico\n",
    "plt.show()\n"
   ]
  },
  {
   "cell_type": "code",
   "execution_count": 10,
   "metadata": {},
   "outputs": [],
   "source": [
    "import plotly.graph_objs as go\n",
    "import plotly.express as px"
   ]
  },
  {
   "cell_type": "code",
   "execution_count": 11,
   "metadata": {},
   "outputs": [
    {
     "name": "stdout",
     "output_type": "stream",
     "text": [
      "        Data                                Operazione  \\\n",
      "0 2023-10-13        Pagamento Effettuato Su Pos Estero   \n",
      "1 2023-10-13                      Stipendio O Pensione   \n",
      "2 2023-10-12                             Pagamento Pos   \n",
      "3 2023-10-12                             Pagamento Pos   \n",
      "4 2023-09-30  Canone Mensile Base E Servizi Aggiuntivi   \n",
      "\n",
      "                                            Dettagli        Conto o carta  \\\n",
      "0         Apple.com/bill Itunes.com 13/10/2023 18.51  Conto 1000/00071615   \n",
      "1  COD. DISP. 0123101219839164 SALA 00908454 STIP...  Conto 1000/00071615   \n",
      "2                Lidl 2552 Pinerolo 12/10/2023 18.21  Conto 1000/00071615   \n",
      "3               Iliad Italia Milano 12/10/2023 02.52  Conto 1000/00071615   \n",
      "4                   Canone Mensile Mese Di Settembre  Conto 1000/00071615   \n",
      "\n",
      "    Contabilizzazione                    Categoria  Valuta  Importo  \n",
      "0  NON CONTABILIZZATO                  Altre uscite    EUR   -26.49  \n",
      "1      CONTABILIZZATO           Stipendi e pensioni    EUR  1680.92  \n",
      "2  NON CONTABILIZZATO                  Altre uscite    EUR    -4.77  \n",
      "3  NON CONTABILIZZATO                  Altre uscite    EUR    -5.99  \n",
      "4      CONTABILIZZATO  Imposte, bolli e commissioni    EUR    -5.50  \n"
     ]
    }
   ],
   "source": [
    "import pandas as pd\n",
    "\n",
    "# Converti la colonna del tempo in formato datetime\n",
    "df['Data'] = pd.to_datetime(df['Data'])\n",
    "\n",
    "# Seleziona le righe con data successiva al 15 settembre 2023\n",
    "df_after_15_sep_2023 = df.query('Data > \"2023-09-15\"')\n",
    "\n",
    "# Stampa il dataframe risultante\n",
    "print(df_after_15_sep_2023)\n"
   ]
  },
  {
   "cell_type": "code",
   "execution_count": 12,
   "metadata": {},
   "outputs": [],
   "source": [
    "df=df_after_15_sep_2023"
   ]
  },
  {
   "cell_type": "code",
   "execution_count": 13,
   "metadata": {},
   "outputs": [
    {
     "data": {
      "application/vnd.plotly.v1+json": {
       "config": {
        "plotlyServerURL": "https://plot.ly"
       },
       "data": [
        {
         "marker": {
          "color": [
           "#FF0000",
           "#00FF00",
           "#FF0000",
           "#FF0000",
           "#FF0000"
          ]
         },
         "type": "bar",
         "x": [
          "2023-10-13T00:00:00",
          "2023-10-13T00:00:00",
          "2023-10-12T00:00:00",
          "2023-10-12T00:00:00",
          "2023-09-30T00:00:00"
         ],
         "y": [
          -26.49,
          1680.92,
          -4.77,
          -5.99,
          -5.5
         ]
        }
       ],
       "layout": {
        "template": {
         "data": {
          "bar": [
           {
            "error_x": {
             "color": "#2a3f5f"
            },
            "error_y": {
             "color": "#2a3f5f"
            },
            "marker": {
             "line": {
              "color": "#E5ECF6",
              "width": 0.5
             },
             "pattern": {
              "fillmode": "overlay",
              "size": 10,
              "solidity": 0.2
             }
            },
            "type": "bar"
           }
          ],
          "barpolar": [
           {
            "marker": {
             "line": {
              "color": "#E5ECF6",
              "width": 0.5
             },
             "pattern": {
              "fillmode": "overlay",
              "size": 10,
              "solidity": 0.2
             }
            },
            "type": "barpolar"
           }
          ],
          "carpet": [
           {
            "aaxis": {
             "endlinecolor": "#2a3f5f",
             "gridcolor": "white",
             "linecolor": "white",
             "minorgridcolor": "white",
             "startlinecolor": "#2a3f5f"
            },
            "baxis": {
             "endlinecolor": "#2a3f5f",
             "gridcolor": "white",
             "linecolor": "white",
             "minorgridcolor": "white",
             "startlinecolor": "#2a3f5f"
            },
            "type": "carpet"
           }
          ],
          "choropleth": [
           {
            "colorbar": {
             "outlinewidth": 0,
             "ticks": ""
            },
            "type": "choropleth"
           }
          ],
          "contour": [
           {
            "colorbar": {
             "outlinewidth": 0,
             "ticks": ""
            },
            "colorscale": [
             [
              0,
              "#0d0887"
             ],
             [
              0.1111111111111111,
              "#46039f"
             ],
             [
              0.2222222222222222,
              "#7201a8"
             ],
             [
              0.3333333333333333,
              "#9c179e"
             ],
             [
              0.4444444444444444,
              "#bd3786"
             ],
             [
              0.5555555555555556,
              "#d8576b"
             ],
             [
              0.6666666666666666,
              "#ed7953"
             ],
             [
              0.7777777777777778,
              "#fb9f3a"
             ],
             [
              0.8888888888888888,
              "#fdca26"
             ],
             [
              1,
              "#f0f921"
             ]
            ],
            "type": "contour"
           }
          ],
          "contourcarpet": [
           {
            "colorbar": {
             "outlinewidth": 0,
             "ticks": ""
            },
            "type": "contourcarpet"
           }
          ],
          "heatmap": [
           {
            "colorbar": {
             "outlinewidth": 0,
             "ticks": ""
            },
            "colorscale": [
             [
              0,
              "#0d0887"
             ],
             [
              0.1111111111111111,
              "#46039f"
             ],
             [
              0.2222222222222222,
              "#7201a8"
             ],
             [
              0.3333333333333333,
              "#9c179e"
             ],
             [
              0.4444444444444444,
              "#bd3786"
             ],
             [
              0.5555555555555556,
              "#d8576b"
             ],
             [
              0.6666666666666666,
              "#ed7953"
             ],
             [
              0.7777777777777778,
              "#fb9f3a"
             ],
             [
              0.8888888888888888,
              "#fdca26"
             ],
             [
              1,
              "#f0f921"
             ]
            ],
            "type": "heatmap"
           }
          ],
          "heatmapgl": [
           {
            "colorbar": {
             "outlinewidth": 0,
             "ticks": ""
            },
            "colorscale": [
             [
              0,
              "#0d0887"
             ],
             [
              0.1111111111111111,
              "#46039f"
             ],
             [
              0.2222222222222222,
              "#7201a8"
             ],
             [
              0.3333333333333333,
              "#9c179e"
             ],
             [
              0.4444444444444444,
              "#bd3786"
             ],
             [
              0.5555555555555556,
              "#d8576b"
             ],
             [
              0.6666666666666666,
              "#ed7953"
             ],
             [
              0.7777777777777778,
              "#fb9f3a"
             ],
             [
              0.8888888888888888,
              "#fdca26"
             ],
             [
              1,
              "#f0f921"
             ]
            ],
            "type": "heatmapgl"
           }
          ],
          "histogram": [
           {
            "marker": {
             "pattern": {
              "fillmode": "overlay",
              "size": 10,
              "solidity": 0.2
             }
            },
            "type": "histogram"
           }
          ],
          "histogram2d": [
           {
            "colorbar": {
             "outlinewidth": 0,
             "ticks": ""
            },
            "colorscale": [
             [
              0,
              "#0d0887"
             ],
             [
              0.1111111111111111,
              "#46039f"
             ],
             [
              0.2222222222222222,
              "#7201a8"
             ],
             [
              0.3333333333333333,
              "#9c179e"
             ],
             [
              0.4444444444444444,
              "#bd3786"
             ],
             [
              0.5555555555555556,
              "#d8576b"
             ],
             [
              0.6666666666666666,
              "#ed7953"
             ],
             [
              0.7777777777777778,
              "#fb9f3a"
             ],
             [
              0.8888888888888888,
              "#fdca26"
             ],
             [
              1,
              "#f0f921"
             ]
            ],
            "type": "histogram2d"
           }
          ],
          "histogram2dcontour": [
           {
            "colorbar": {
             "outlinewidth": 0,
             "ticks": ""
            },
            "colorscale": [
             [
              0,
              "#0d0887"
             ],
             [
              0.1111111111111111,
              "#46039f"
             ],
             [
              0.2222222222222222,
              "#7201a8"
             ],
             [
              0.3333333333333333,
              "#9c179e"
             ],
             [
              0.4444444444444444,
              "#bd3786"
             ],
             [
              0.5555555555555556,
              "#d8576b"
             ],
             [
              0.6666666666666666,
              "#ed7953"
             ],
             [
              0.7777777777777778,
              "#fb9f3a"
             ],
             [
              0.8888888888888888,
              "#fdca26"
             ],
             [
              1,
              "#f0f921"
             ]
            ],
            "type": "histogram2dcontour"
           }
          ],
          "mesh3d": [
           {
            "colorbar": {
             "outlinewidth": 0,
             "ticks": ""
            },
            "type": "mesh3d"
           }
          ],
          "parcoords": [
           {
            "line": {
             "colorbar": {
              "outlinewidth": 0,
              "ticks": ""
             }
            },
            "type": "parcoords"
           }
          ],
          "pie": [
           {
            "automargin": true,
            "type": "pie"
           }
          ],
          "scatter": [
           {
            "fillpattern": {
             "fillmode": "overlay",
             "size": 10,
             "solidity": 0.2
            },
            "type": "scatter"
           }
          ],
          "scatter3d": [
           {
            "line": {
             "colorbar": {
              "outlinewidth": 0,
              "ticks": ""
             }
            },
            "marker": {
             "colorbar": {
              "outlinewidth": 0,
              "ticks": ""
             }
            },
            "type": "scatter3d"
           }
          ],
          "scattercarpet": [
           {
            "marker": {
             "colorbar": {
              "outlinewidth": 0,
              "ticks": ""
             }
            },
            "type": "scattercarpet"
           }
          ],
          "scattergeo": [
           {
            "marker": {
             "colorbar": {
              "outlinewidth": 0,
              "ticks": ""
             }
            },
            "type": "scattergeo"
           }
          ],
          "scattergl": [
           {
            "marker": {
             "colorbar": {
              "outlinewidth": 0,
              "ticks": ""
             }
            },
            "type": "scattergl"
           }
          ],
          "scattermapbox": [
           {
            "marker": {
             "colorbar": {
              "outlinewidth": 0,
              "ticks": ""
             }
            },
            "type": "scattermapbox"
           }
          ],
          "scatterpolar": [
           {
            "marker": {
             "colorbar": {
              "outlinewidth": 0,
              "ticks": ""
             }
            },
            "type": "scatterpolar"
           }
          ],
          "scatterpolargl": [
           {
            "marker": {
             "colorbar": {
              "outlinewidth": 0,
              "ticks": ""
             }
            },
            "type": "scatterpolargl"
           }
          ],
          "scatterternary": [
           {
            "marker": {
             "colorbar": {
              "outlinewidth": 0,
              "ticks": ""
             }
            },
            "type": "scatterternary"
           }
          ],
          "surface": [
           {
            "colorbar": {
             "outlinewidth": 0,
             "ticks": ""
            },
            "colorscale": [
             [
              0,
              "#0d0887"
             ],
             [
              0.1111111111111111,
              "#46039f"
             ],
             [
              0.2222222222222222,
              "#7201a8"
             ],
             [
              0.3333333333333333,
              "#9c179e"
             ],
             [
              0.4444444444444444,
              "#bd3786"
             ],
             [
              0.5555555555555556,
              "#d8576b"
             ],
             [
              0.6666666666666666,
              "#ed7953"
             ],
             [
              0.7777777777777778,
              "#fb9f3a"
             ],
             [
              0.8888888888888888,
              "#fdca26"
             ],
             [
              1,
              "#f0f921"
             ]
            ],
            "type": "surface"
           }
          ],
          "table": [
           {
            "cells": {
             "fill": {
              "color": "#EBF0F8"
             },
             "line": {
              "color": "white"
             }
            },
            "header": {
             "fill": {
              "color": "#C8D4E3"
             },
             "line": {
              "color": "white"
             }
            },
            "type": "table"
           }
          ]
         },
         "layout": {
          "annotationdefaults": {
           "arrowcolor": "#2a3f5f",
           "arrowhead": 0,
           "arrowwidth": 1
          },
          "autotypenumbers": "strict",
          "coloraxis": {
           "colorbar": {
            "outlinewidth": 0,
            "ticks": ""
           }
          },
          "colorscale": {
           "diverging": [
            [
             0,
             "#8e0152"
            ],
            [
             0.1,
             "#c51b7d"
            ],
            [
             0.2,
             "#de77ae"
            ],
            [
             0.3,
             "#f1b6da"
            ],
            [
             0.4,
             "#fde0ef"
            ],
            [
             0.5,
             "#f7f7f7"
            ],
            [
             0.6,
             "#e6f5d0"
            ],
            [
             0.7,
             "#b8e186"
            ],
            [
             0.8,
             "#7fbc41"
            ],
            [
             0.9,
             "#4d9221"
            ],
            [
             1,
             "#276419"
            ]
           ],
           "sequential": [
            [
             0,
             "#0d0887"
            ],
            [
             0.1111111111111111,
             "#46039f"
            ],
            [
             0.2222222222222222,
             "#7201a8"
            ],
            [
             0.3333333333333333,
             "#9c179e"
            ],
            [
             0.4444444444444444,
             "#bd3786"
            ],
            [
             0.5555555555555556,
             "#d8576b"
            ],
            [
             0.6666666666666666,
             "#ed7953"
            ],
            [
             0.7777777777777778,
             "#fb9f3a"
            ],
            [
             0.8888888888888888,
             "#fdca26"
            ],
            [
             1,
             "#f0f921"
            ]
           ],
           "sequentialminus": [
            [
             0,
             "#0d0887"
            ],
            [
             0.1111111111111111,
             "#46039f"
            ],
            [
             0.2222222222222222,
             "#7201a8"
            ],
            [
             0.3333333333333333,
             "#9c179e"
            ],
            [
             0.4444444444444444,
             "#bd3786"
            ],
            [
             0.5555555555555556,
             "#d8576b"
            ],
            [
             0.6666666666666666,
             "#ed7953"
            ],
            [
             0.7777777777777778,
             "#fb9f3a"
            ],
            [
             0.8888888888888888,
             "#fdca26"
            ],
            [
             1,
             "#f0f921"
            ]
           ]
          },
          "colorway": [
           "#636efa",
           "#EF553B",
           "#00cc96",
           "#ab63fa",
           "#FFA15A",
           "#19d3f3",
           "#FF6692",
           "#B6E880",
           "#FF97FF",
           "#FECB52"
          ],
          "font": {
           "color": "#2a3f5f"
          },
          "geo": {
           "bgcolor": "white",
           "lakecolor": "white",
           "landcolor": "#E5ECF6",
           "showlakes": true,
           "showland": true,
           "subunitcolor": "white"
          },
          "hoverlabel": {
           "align": "left"
          },
          "hovermode": "closest",
          "mapbox": {
           "style": "light"
          },
          "paper_bgcolor": "white",
          "plot_bgcolor": "#E5ECF6",
          "polar": {
           "angularaxis": {
            "gridcolor": "white",
            "linecolor": "white",
            "ticks": ""
           },
           "bgcolor": "#E5ECF6",
           "radialaxis": {
            "gridcolor": "white",
            "linecolor": "white",
            "ticks": ""
           }
          },
          "scene": {
           "xaxis": {
            "backgroundcolor": "#E5ECF6",
            "gridcolor": "white",
            "gridwidth": 2,
            "linecolor": "white",
            "showbackground": true,
            "ticks": "",
            "zerolinecolor": "white"
           },
           "yaxis": {
            "backgroundcolor": "#E5ECF6",
            "gridcolor": "white",
            "gridwidth": 2,
            "linecolor": "white",
            "showbackground": true,
            "ticks": "",
            "zerolinecolor": "white"
           },
           "zaxis": {
            "backgroundcolor": "#E5ECF6",
            "gridcolor": "white",
            "gridwidth": 2,
            "linecolor": "white",
            "showbackground": true,
            "ticks": "",
            "zerolinecolor": "white"
           }
          },
          "shapedefaults": {
           "line": {
            "color": "#2a3f5f"
           }
          },
          "ternary": {
           "aaxis": {
            "gridcolor": "white",
            "linecolor": "white",
            "ticks": ""
           },
           "baxis": {
            "gridcolor": "white",
            "linecolor": "white",
            "ticks": ""
           },
           "bgcolor": "#E5ECF6",
           "caxis": {
            "gridcolor": "white",
            "linecolor": "white",
            "ticks": ""
           }
          },
          "title": {
           "x": 0.05
          },
          "xaxis": {
           "automargin": true,
           "gridcolor": "white",
           "linecolor": "white",
           "ticks": "",
           "title": {
            "standoff": 15
           },
           "zerolinecolor": "white",
           "zerolinewidth": 2
          },
          "yaxis": {
           "automargin": true,
           "gridcolor": "white",
           "linecolor": "white",
           "ticks": "",
           "title": {
            "standoff": 15
           },
           "zerolinecolor": "white",
           "zerolinewidth": 2
          }
         }
        }
       }
      }
     },
     "metadata": {},
     "output_type": "display_data"
    }
   ],
   "source": [
    "import plotly.graph_objs as go\n",
    "import plotly.express as px\n",
    "\n",
    "colors = {'positive': '#00FF00', 'negative': '#FF0000'}\n",
    "fig = go.Figure()\n",
    "fig.add_trace(go.Bar(\n",
    "    x=df['Data'],\n",
    "    y=df['Importo'],\n",
    "    marker_color=df['Importo'].apply(lambda x: colors['positive'] if x >= 0 else colors['negative'])\n",
    "))\n",
    "\n",
    "fig.show()\n"
   ]
  },
  {
   "cell_type": "code",
   "execution_count": 111,
   "metadata": {},
   "outputs": [
    {
     "data": {
      "application/vnd.plotly.v1+json": {
       "config": {
        "plotlyServerURL": "https://plot.ly"
       },
       "data": [
        {
         "marker": {
          "color": [
           "red",
           "green"
          ]
         },
         "type": "bar",
         "x": [
          "Uscite",
          "Entrate"
         ],
         "y": [
          1564.11,
          2770.92
         ]
        }
       ],
       "layout": {
        "template": {
         "data": {
          "bar": [
           {
            "error_x": {
             "color": "#2a3f5f"
            },
            "error_y": {
             "color": "#2a3f5f"
            },
            "marker": {
             "line": {
              "color": "#E5ECF6",
              "width": 0.5
             },
             "pattern": {
              "fillmode": "overlay",
              "size": 10,
              "solidity": 0.2
             }
            },
            "type": "bar"
           }
          ],
          "barpolar": [
           {
            "marker": {
             "line": {
              "color": "#E5ECF6",
              "width": 0.5
             },
             "pattern": {
              "fillmode": "overlay",
              "size": 10,
              "solidity": 0.2
             }
            },
            "type": "barpolar"
           }
          ],
          "carpet": [
           {
            "aaxis": {
             "endlinecolor": "#2a3f5f",
             "gridcolor": "white",
             "linecolor": "white",
             "minorgridcolor": "white",
             "startlinecolor": "#2a3f5f"
            },
            "baxis": {
             "endlinecolor": "#2a3f5f",
             "gridcolor": "white",
             "linecolor": "white",
             "minorgridcolor": "white",
             "startlinecolor": "#2a3f5f"
            },
            "type": "carpet"
           }
          ],
          "choropleth": [
           {
            "colorbar": {
             "outlinewidth": 0,
             "ticks": ""
            },
            "type": "choropleth"
           }
          ],
          "contour": [
           {
            "colorbar": {
             "outlinewidth": 0,
             "ticks": ""
            },
            "colorscale": [
             [
              0,
              "#0d0887"
             ],
             [
              0.1111111111111111,
              "#46039f"
             ],
             [
              0.2222222222222222,
              "#7201a8"
             ],
             [
              0.3333333333333333,
              "#9c179e"
             ],
             [
              0.4444444444444444,
              "#bd3786"
             ],
             [
              0.5555555555555556,
              "#d8576b"
             ],
             [
              0.6666666666666666,
              "#ed7953"
             ],
             [
              0.7777777777777778,
              "#fb9f3a"
             ],
             [
              0.8888888888888888,
              "#fdca26"
             ],
             [
              1,
              "#f0f921"
             ]
            ],
            "type": "contour"
           }
          ],
          "contourcarpet": [
           {
            "colorbar": {
             "outlinewidth": 0,
             "ticks": ""
            },
            "type": "contourcarpet"
           }
          ],
          "heatmap": [
           {
            "colorbar": {
             "outlinewidth": 0,
             "ticks": ""
            },
            "colorscale": [
             [
              0,
              "#0d0887"
             ],
             [
              0.1111111111111111,
              "#46039f"
             ],
             [
              0.2222222222222222,
              "#7201a8"
             ],
             [
              0.3333333333333333,
              "#9c179e"
             ],
             [
              0.4444444444444444,
              "#bd3786"
             ],
             [
              0.5555555555555556,
              "#d8576b"
             ],
             [
              0.6666666666666666,
              "#ed7953"
             ],
             [
              0.7777777777777778,
              "#fb9f3a"
             ],
             [
              0.8888888888888888,
              "#fdca26"
             ],
             [
              1,
              "#f0f921"
             ]
            ],
            "type": "heatmap"
           }
          ],
          "heatmapgl": [
           {
            "colorbar": {
             "outlinewidth": 0,
             "ticks": ""
            },
            "colorscale": [
             [
              0,
              "#0d0887"
             ],
             [
              0.1111111111111111,
              "#46039f"
             ],
             [
              0.2222222222222222,
              "#7201a8"
             ],
             [
              0.3333333333333333,
              "#9c179e"
             ],
             [
              0.4444444444444444,
              "#bd3786"
             ],
             [
              0.5555555555555556,
              "#d8576b"
             ],
             [
              0.6666666666666666,
              "#ed7953"
             ],
             [
              0.7777777777777778,
              "#fb9f3a"
             ],
             [
              0.8888888888888888,
              "#fdca26"
             ],
             [
              1,
              "#f0f921"
             ]
            ],
            "type": "heatmapgl"
           }
          ],
          "histogram": [
           {
            "marker": {
             "pattern": {
              "fillmode": "overlay",
              "size": 10,
              "solidity": 0.2
             }
            },
            "type": "histogram"
           }
          ],
          "histogram2d": [
           {
            "colorbar": {
             "outlinewidth": 0,
             "ticks": ""
            },
            "colorscale": [
             [
              0,
              "#0d0887"
             ],
             [
              0.1111111111111111,
              "#46039f"
             ],
             [
              0.2222222222222222,
              "#7201a8"
             ],
             [
              0.3333333333333333,
              "#9c179e"
             ],
             [
              0.4444444444444444,
              "#bd3786"
             ],
             [
              0.5555555555555556,
              "#d8576b"
             ],
             [
              0.6666666666666666,
              "#ed7953"
             ],
             [
              0.7777777777777778,
              "#fb9f3a"
             ],
             [
              0.8888888888888888,
              "#fdca26"
             ],
             [
              1,
              "#f0f921"
             ]
            ],
            "type": "histogram2d"
           }
          ],
          "histogram2dcontour": [
           {
            "colorbar": {
             "outlinewidth": 0,
             "ticks": ""
            },
            "colorscale": [
             [
              0,
              "#0d0887"
             ],
             [
              0.1111111111111111,
              "#46039f"
             ],
             [
              0.2222222222222222,
              "#7201a8"
             ],
             [
              0.3333333333333333,
              "#9c179e"
             ],
             [
              0.4444444444444444,
              "#bd3786"
             ],
             [
              0.5555555555555556,
              "#d8576b"
             ],
             [
              0.6666666666666666,
              "#ed7953"
             ],
             [
              0.7777777777777778,
              "#fb9f3a"
             ],
             [
              0.8888888888888888,
              "#fdca26"
             ],
             [
              1,
              "#f0f921"
             ]
            ],
            "type": "histogram2dcontour"
           }
          ],
          "mesh3d": [
           {
            "colorbar": {
             "outlinewidth": 0,
             "ticks": ""
            },
            "type": "mesh3d"
           }
          ],
          "parcoords": [
           {
            "line": {
             "colorbar": {
              "outlinewidth": 0,
              "ticks": ""
             }
            },
            "type": "parcoords"
           }
          ],
          "pie": [
           {
            "automargin": true,
            "type": "pie"
           }
          ],
          "scatter": [
           {
            "fillpattern": {
             "fillmode": "overlay",
             "size": 10,
             "solidity": 0.2
            },
            "type": "scatter"
           }
          ],
          "scatter3d": [
           {
            "line": {
             "colorbar": {
              "outlinewidth": 0,
              "ticks": ""
             }
            },
            "marker": {
             "colorbar": {
              "outlinewidth": 0,
              "ticks": ""
             }
            },
            "type": "scatter3d"
           }
          ],
          "scattercarpet": [
           {
            "marker": {
             "colorbar": {
              "outlinewidth": 0,
              "ticks": ""
             }
            },
            "type": "scattercarpet"
           }
          ],
          "scattergeo": [
           {
            "marker": {
             "colorbar": {
              "outlinewidth": 0,
              "ticks": ""
             }
            },
            "type": "scattergeo"
           }
          ],
          "scattergl": [
           {
            "marker": {
             "colorbar": {
              "outlinewidth": 0,
              "ticks": ""
             }
            },
            "type": "scattergl"
           }
          ],
          "scattermapbox": [
           {
            "marker": {
             "colorbar": {
              "outlinewidth": 0,
              "ticks": ""
             }
            },
            "type": "scattermapbox"
           }
          ],
          "scatterpolar": [
           {
            "marker": {
             "colorbar": {
              "outlinewidth": 0,
              "ticks": ""
             }
            },
            "type": "scatterpolar"
           }
          ],
          "scatterpolargl": [
           {
            "marker": {
             "colorbar": {
              "outlinewidth": 0,
              "ticks": ""
             }
            },
            "type": "scatterpolargl"
           }
          ],
          "scatterternary": [
           {
            "marker": {
             "colorbar": {
              "outlinewidth": 0,
              "ticks": ""
             }
            },
            "type": "scatterternary"
           }
          ],
          "surface": [
           {
            "colorbar": {
             "outlinewidth": 0,
             "ticks": ""
            },
            "colorscale": [
             [
              0,
              "#0d0887"
             ],
             [
              0.1111111111111111,
              "#46039f"
             ],
             [
              0.2222222222222222,
              "#7201a8"
             ],
             [
              0.3333333333333333,
              "#9c179e"
             ],
             [
              0.4444444444444444,
              "#bd3786"
             ],
             [
              0.5555555555555556,
              "#d8576b"
             ],
             [
              0.6666666666666666,
              "#ed7953"
             ],
             [
              0.7777777777777778,
              "#fb9f3a"
             ],
             [
              0.8888888888888888,
              "#fdca26"
             ],
             [
              1,
              "#f0f921"
             ]
            ],
            "type": "surface"
           }
          ],
          "table": [
           {
            "cells": {
             "fill": {
              "color": "#EBF0F8"
             },
             "line": {
              "color": "white"
             }
            },
            "header": {
             "fill": {
              "color": "#C8D4E3"
             },
             "line": {
              "color": "white"
             }
            },
            "type": "table"
           }
          ]
         },
         "layout": {
          "annotationdefaults": {
           "arrowcolor": "#2a3f5f",
           "arrowhead": 0,
           "arrowwidth": 1
          },
          "autotypenumbers": "strict",
          "coloraxis": {
           "colorbar": {
            "outlinewidth": 0,
            "ticks": ""
           }
          },
          "colorscale": {
           "diverging": [
            [
             0,
             "#8e0152"
            ],
            [
             0.1,
             "#c51b7d"
            ],
            [
             0.2,
             "#de77ae"
            ],
            [
             0.3,
             "#f1b6da"
            ],
            [
             0.4,
             "#fde0ef"
            ],
            [
             0.5,
             "#f7f7f7"
            ],
            [
             0.6,
             "#e6f5d0"
            ],
            [
             0.7,
             "#b8e186"
            ],
            [
             0.8,
             "#7fbc41"
            ],
            [
             0.9,
             "#4d9221"
            ],
            [
             1,
             "#276419"
            ]
           ],
           "sequential": [
            [
             0,
             "#0d0887"
            ],
            [
             0.1111111111111111,
             "#46039f"
            ],
            [
             0.2222222222222222,
             "#7201a8"
            ],
            [
             0.3333333333333333,
             "#9c179e"
            ],
            [
             0.4444444444444444,
             "#bd3786"
            ],
            [
             0.5555555555555556,
             "#d8576b"
            ],
            [
             0.6666666666666666,
             "#ed7953"
            ],
            [
             0.7777777777777778,
             "#fb9f3a"
            ],
            [
             0.8888888888888888,
             "#fdca26"
            ],
            [
             1,
             "#f0f921"
            ]
           ],
           "sequentialminus": [
            [
             0,
             "#0d0887"
            ],
            [
             0.1111111111111111,
             "#46039f"
            ],
            [
             0.2222222222222222,
             "#7201a8"
            ],
            [
             0.3333333333333333,
             "#9c179e"
            ],
            [
             0.4444444444444444,
             "#bd3786"
            ],
            [
             0.5555555555555556,
             "#d8576b"
            ],
            [
             0.6666666666666666,
             "#ed7953"
            ],
            [
             0.7777777777777778,
             "#fb9f3a"
            ],
            [
             0.8888888888888888,
             "#fdca26"
            ],
            [
             1,
             "#f0f921"
            ]
           ]
          },
          "colorway": [
           "#636efa",
           "#EF553B",
           "#00cc96",
           "#ab63fa",
           "#FFA15A",
           "#19d3f3",
           "#FF6692",
           "#B6E880",
           "#FF97FF",
           "#FECB52"
          ],
          "font": {
           "color": "#2a3f5f"
          },
          "geo": {
           "bgcolor": "white",
           "lakecolor": "white",
           "landcolor": "#E5ECF6",
           "showlakes": true,
           "showland": true,
           "subunitcolor": "white"
          },
          "hoverlabel": {
           "align": "left"
          },
          "hovermode": "closest",
          "mapbox": {
           "style": "light"
          },
          "paper_bgcolor": "white",
          "plot_bgcolor": "#E5ECF6",
          "polar": {
           "angularaxis": {
            "gridcolor": "white",
            "linecolor": "white",
            "ticks": ""
           },
           "bgcolor": "#E5ECF6",
           "radialaxis": {
            "gridcolor": "white",
            "linecolor": "white",
            "ticks": ""
           }
          },
          "scene": {
           "xaxis": {
            "backgroundcolor": "#E5ECF6",
            "gridcolor": "white",
            "gridwidth": 2,
            "linecolor": "white",
            "showbackground": true,
            "ticks": "",
            "zerolinecolor": "white"
           },
           "yaxis": {
            "backgroundcolor": "#E5ECF6",
            "gridcolor": "white",
            "gridwidth": 2,
            "linecolor": "white",
            "showbackground": true,
            "ticks": "",
            "zerolinecolor": "white"
           },
           "zaxis": {
            "backgroundcolor": "#E5ECF6",
            "gridcolor": "white",
            "gridwidth": 2,
            "linecolor": "white",
            "showbackground": true,
            "ticks": "",
            "zerolinecolor": "white"
           }
          },
          "shapedefaults": {
           "line": {
            "color": "#2a3f5f"
           }
          },
          "ternary": {
           "aaxis": {
            "gridcolor": "white",
            "linecolor": "white",
            "ticks": ""
           },
           "baxis": {
            "gridcolor": "white",
            "linecolor": "white",
            "ticks": ""
           },
           "bgcolor": "#E5ECF6",
           "caxis": {
            "gridcolor": "white",
            "linecolor": "white",
            "ticks": ""
           }
          },
          "title": {
           "x": 0.05
          },
          "xaxis": {
           "automargin": true,
           "gridcolor": "white",
           "linecolor": "white",
           "ticks": "",
           "title": {
            "standoff": 15
           },
           "zerolinecolor": "white",
           "zerolinewidth": 2
          },
          "yaxis": {
           "automargin": true,
           "gridcolor": "white",
           "linecolor": "white",
           "ticks": "",
           "title": {
            "standoff": 15
           },
           "zerolinecolor": "white",
           "zerolinewidth": 2
          }
         }
        },
        "title": {
         "text": "Confronto tra entrate e uscite"
        }
       }
      }
     },
     "metadata": {},
     "output_type": "display_data"
    }
   ],
   "source": [
    "# Seleziona le righe con importi negativi\n",
    "df_negative = df[df['Importo'] < 0]\n",
    "\n",
    "# Seleziona le righe con importi positivi\n",
    "df_positive = df[df['Importo'] > 0]\n",
    "\n",
    "# Calcola la somma degli importi negativi e positivi\n",
    "sum_negative = df_negative['Importo'].sum()\n",
    "sum_positive = df_positive['Importo'].sum()\n",
    "\n",
    "# Crea il bar chart\n",
    "fig = go.Figure()\n",
    "fig.add_trace(go.Bar(x=['Uscite', 'Entrate'], y=[-sum_negative, sum_positive], marker_color=['red', 'green']))\n",
    "\n",
    "# Aggiungi il titolo al grafico\n",
    "fig.update_layout(title='Confronto tra entrate e uscite')\n",
    "\n",
    "# Mostra il grafico\n",
    "fig.show()\n"
   ]
  },
  {
   "cell_type": "code",
   "execution_count": 102,
   "metadata": {},
   "outputs": [],
   "source": [
    "# Seleziona le righe con importi negativi\n",
    "df_negative = df[df['Importo'] < 0]\n",
    "\n",
    "df_positive = df[df['Importo'] > 0]"
   ]
  },
  {
   "cell_type": "code",
   "execution_count": 107,
   "metadata": {},
   "outputs": [
    {
     "data": {
      "application/vnd.plotly.v1+json": {
       "config": {
        "plotlyServerURL": "https://plot.ly"
       },
       "data": [
        {
         "domain": {
          "x": [
           0,
           1
          ],
          "y": [
           0,
           1
          ]
         },
         "hovertemplate": "Categoria =%{label}<br>value=%{value}<extra></extra>",
         "labels": [
          "Stipendi e pensioni",
          "Bonifici ricevuti",
          "Entrate varie",
          "Entrate varie",
          "Bonifici ricevuti"
         ],
         "legendgroup": "",
         "name": "",
         "showlegend": true,
         "type": "pie",
         "values": [
          1680.92,
          10,
          400,
          600,
          80
         ]
        }
       ],
       "layout": {
        "legend": {
         "tracegroupgap": 0
        },
        "margin": {
         "t": 60
        },
        "template": {
         "data": {
          "bar": [
           {
            "error_x": {
             "color": "#2a3f5f"
            },
            "error_y": {
             "color": "#2a3f5f"
            },
            "marker": {
             "line": {
              "color": "#E5ECF6",
              "width": 0.5
             },
             "pattern": {
              "fillmode": "overlay",
              "size": 10,
              "solidity": 0.2
             }
            },
            "type": "bar"
           }
          ],
          "barpolar": [
           {
            "marker": {
             "line": {
              "color": "#E5ECF6",
              "width": 0.5
             },
             "pattern": {
              "fillmode": "overlay",
              "size": 10,
              "solidity": 0.2
             }
            },
            "type": "barpolar"
           }
          ],
          "carpet": [
           {
            "aaxis": {
             "endlinecolor": "#2a3f5f",
             "gridcolor": "white",
             "linecolor": "white",
             "minorgridcolor": "white",
             "startlinecolor": "#2a3f5f"
            },
            "baxis": {
             "endlinecolor": "#2a3f5f",
             "gridcolor": "white",
             "linecolor": "white",
             "minorgridcolor": "white",
             "startlinecolor": "#2a3f5f"
            },
            "type": "carpet"
           }
          ],
          "choropleth": [
           {
            "colorbar": {
             "outlinewidth": 0,
             "ticks": ""
            },
            "type": "choropleth"
           }
          ],
          "contour": [
           {
            "colorbar": {
             "outlinewidth": 0,
             "ticks": ""
            },
            "colorscale": [
             [
              0,
              "#0d0887"
             ],
             [
              0.1111111111111111,
              "#46039f"
             ],
             [
              0.2222222222222222,
              "#7201a8"
             ],
             [
              0.3333333333333333,
              "#9c179e"
             ],
             [
              0.4444444444444444,
              "#bd3786"
             ],
             [
              0.5555555555555556,
              "#d8576b"
             ],
             [
              0.6666666666666666,
              "#ed7953"
             ],
             [
              0.7777777777777778,
              "#fb9f3a"
             ],
             [
              0.8888888888888888,
              "#fdca26"
             ],
             [
              1,
              "#f0f921"
             ]
            ],
            "type": "contour"
           }
          ],
          "contourcarpet": [
           {
            "colorbar": {
             "outlinewidth": 0,
             "ticks": ""
            },
            "type": "contourcarpet"
           }
          ],
          "heatmap": [
           {
            "colorbar": {
             "outlinewidth": 0,
             "ticks": ""
            },
            "colorscale": [
             [
              0,
              "#0d0887"
             ],
             [
              0.1111111111111111,
              "#46039f"
             ],
             [
              0.2222222222222222,
              "#7201a8"
             ],
             [
              0.3333333333333333,
              "#9c179e"
             ],
             [
              0.4444444444444444,
              "#bd3786"
             ],
             [
              0.5555555555555556,
              "#d8576b"
             ],
             [
              0.6666666666666666,
              "#ed7953"
             ],
             [
              0.7777777777777778,
              "#fb9f3a"
             ],
             [
              0.8888888888888888,
              "#fdca26"
             ],
             [
              1,
              "#f0f921"
             ]
            ],
            "type": "heatmap"
           }
          ],
          "heatmapgl": [
           {
            "colorbar": {
             "outlinewidth": 0,
             "ticks": ""
            },
            "colorscale": [
             [
              0,
              "#0d0887"
             ],
             [
              0.1111111111111111,
              "#46039f"
             ],
             [
              0.2222222222222222,
              "#7201a8"
             ],
             [
              0.3333333333333333,
              "#9c179e"
             ],
             [
              0.4444444444444444,
              "#bd3786"
             ],
             [
              0.5555555555555556,
              "#d8576b"
             ],
             [
              0.6666666666666666,
              "#ed7953"
             ],
             [
              0.7777777777777778,
              "#fb9f3a"
             ],
             [
              0.8888888888888888,
              "#fdca26"
             ],
             [
              1,
              "#f0f921"
             ]
            ],
            "type": "heatmapgl"
           }
          ],
          "histogram": [
           {
            "marker": {
             "pattern": {
              "fillmode": "overlay",
              "size": 10,
              "solidity": 0.2
             }
            },
            "type": "histogram"
           }
          ],
          "histogram2d": [
           {
            "colorbar": {
             "outlinewidth": 0,
             "ticks": ""
            },
            "colorscale": [
             [
              0,
              "#0d0887"
             ],
             [
              0.1111111111111111,
              "#46039f"
             ],
             [
              0.2222222222222222,
              "#7201a8"
             ],
             [
              0.3333333333333333,
              "#9c179e"
             ],
             [
              0.4444444444444444,
              "#bd3786"
             ],
             [
              0.5555555555555556,
              "#d8576b"
             ],
             [
              0.6666666666666666,
              "#ed7953"
             ],
             [
              0.7777777777777778,
              "#fb9f3a"
             ],
             [
              0.8888888888888888,
              "#fdca26"
             ],
             [
              1,
              "#f0f921"
             ]
            ],
            "type": "histogram2d"
           }
          ],
          "histogram2dcontour": [
           {
            "colorbar": {
             "outlinewidth": 0,
             "ticks": ""
            },
            "colorscale": [
             [
              0,
              "#0d0887"
             ],
             [
              0.1111111111111111,
              "#46039f"
             ],
             [
              0.2222222222222222,
              "#7201a8"
             ],
             [
              0.3333333333333333,
              "#9c179e"
             ],
             [
              0.4444444444444444,
              "#bd3786"
             ],
             [
              0.5555555555555556,
              "#d8576b"
             ],
             [
              0.6666666666666666,
              "#ed7953"
             ],
             [
              0.7777777777777778,
              "#fb9f3a"
             ],
             [
              0.8888888888888888,
              "#fdca26"
             ],
             [
              1,
              "#f0f921"
             ]
            ],
            "type": "histogram2dcontour"
           }
          ],
          "mesh3d": [
           {
            "colorbar": {
             "outlinewidth": 0,
             "ticks": ""
            },
            "type": "mesh3d"
           }
          ],
          "parcoords": [
           {
            "line": {
             "colorbar": {
              "outlinewidth": 0,
              "ticks": ""
             }
            },
            "type": "parcoords"
           }
          ],
          "pie": [
           {
            "automargin": true,
            "type": "pie"
           }
          ],
          "scatter": [
           {
            "fillpattern": {
             "fillmode": "overlay",
             "size": 10,
             "solidity": 0.2
            },
            "type": "scatter"
           }
          ],
          "scatter3d": [
           {
            "line": {
             "colorbar": {
              "outlinewidth": 0,
              "ticks": ""
             }
            },
            "marker": {
             "colorbar": {
              "outlinewidth": 0,
              "ticks": ""
             }
            },
            "type": "scatter3d"
           }
          ],
          "scattercarpet": [
           {
            "marker": {
             "colorbar": {
              "outlinewidth": 0,
              "ticks": ""
             }
            },
            "type": "scattercarpet"
           }
          ],
          "scattergeo": [
           {
            "marker": {
             "colorbar": {
              "outlinewidth": 0,
              "ticks": ""
             }
            },
            "type": "scattergeo"
           }
          ],
          "scattergl": [
           {
            "marker": {
             "colorbar": {
              "outlinewidth": 0,
              "ticks": ""
             }
            },
            "type": "scattergl"
           }
          ],
          "scattermapbox": [
           {
            "marker": {
             "colorbar": {
              "outlinewidth": 0,
              "ticks": ""
             }
            },
            "type": "scattermapbox"
           }
          ],
          "scatterpolar": [
           {
            "marker": {
             "colorbar": {
              "outlinewidth": 0,
              "ticks": ""
             }
            },
            "type": "scatterpolar"
           }
          ],
          "scatterpolargl": [
           {
            "marker": {
             "colorbar": {
              "outlinewidth": 0,
              "ticks": ""
             }
            },
            "type": "scatterpolargl"
           }
          ],
          "scatterternary": [
           {
            "marker": {
             "colorbar": {
              "outlinewidth": 0,
              "ticks": ""
             }
            },
            "type": "scatterternary"
           }
          ],
          "surface": [
           {
            "colorbar": {
             "outlinewidth": 0,
             "ticks": ""
            },
            "colorscale": [
             [
              0,
              "#0d0887"
             ],
             [
              0.1111111111111111,
              "#46039f"
             ],
             [
              0.2222222222222222,
              "#7201a8"
             ],
             [
              0.3333333333333333,
              "#9c179e"
             ],
             [
              0.4444444444444444,
              "#bd3786"
             ],
             [
              0.5555555555555556,
              "#d8576b"
             ],
             [
              0.6666666666666666,
              "#ed7953"
             ],
             [
              0.7777777777777778,
              "#fb9f3a"
             ],
             [
              0.8888888888888888,
              "#fdca26"
             ],
             [
              1,
              "#f0f921"
             ]
            ],
            "type": "surface"
           }
          ],
          "table": [
           {
            "cells": {
             "fill": {
              "color": "#EBF0F8"
             },
             "line": {
              "color": "white"
             }
            },
            "header": {
             "fill": {
              "color": "#C8D4E3"
             },
             "line": {
              "color": "white"
             }
            },
            "type": "table"
           }
          ]
         },
         "layout": {
          "annotationdefaults": {
           "arrowcolor": "#2a3f5f",
           "arrowhead": 0,
           "arrowwidth": 1
          },
          "autotypenumbers": "strict",
          "coloraxis": {
           "colorbar": {
            "outlinewidth": 0,
            "ticks": ""
           }
          },
          "colorscale": {
           "diverging": [
            [
             0,
             "#8e0152"
            ],
            [
             0.1,
             "#c51b7d"
            ],
            [
             0.2,
             "#de77ae"
            ],
            [
             0.3,
             "#f1b6da"
            ],
            [
             0.4,
             "#fde0ef"
            ],
            [
             0.5,
             "#f7f7f7"
            ],
            [
             0.6,
             "#e6f5d0"
            ],
            [
             0.7,
             "#b8e186"
            ],
            [
             0.8,
             "#7fbc41"
            ],
            [
             0.9,
             "#4d9221"
            ],
            [
             1,
             "#276419"
            ]
           ],
           "sequential": [
            [
             0,
             "#0d0887"
            ],
            [
             0.1111111111111111,
             "#46039f"
            ],
            [
             0.2222222222222222,
             "#7201a8"
            ],
            [
             0.3333333333333333,
             "#9c179e"
            ],
            [
             0.4444444444444444,
             "#bd3786"
            ],
            [
             0.5555555555555556,
             "#d8576b"
            ],
            [
             0.6666666666666666,
             "#ed7953"
            ],
            [
             0.7777777777777778,
             "#fb9f3a"
            ],
            [
             0.8888888888888888,
             "#fdca26"
            ],
            [
             1,
             "#f0f921"
            ]
           ],
           "sequentialminus": [
            [
             0,
             "#0d0887"
            ],
            [
             0.1111111111111111,
             "#46039f"
            ],
            [
             0.2222222222222222,
             "#7201a8"
            ],
            [
             0.3333333333333333,
             "#9c179e"
            ],
            [
             0.4444444444444444,
             "#bd3786"
            ],
            [
             0.5555555555555556,
             "#d8576b"
            ],
            [
             0.6666666666666666,
             "#ed7953"
            ],
            [
             0.7777777777777778,
             "#fb9f3a"
            ],
            [
             0.8888888888888888,
             "#fdca26"
            ],
            [
             1,
             "#f0f921"
            ]
           ]
          },
          "colorway": [
           "#636efa",
           "#EF553B",
           "#00cc96",
           "#ab63fa",
           "#FFA15A",
           "#19d3f3",
           "#FF6692",
           "#B6E880",
           "#FF97FF",
           "#FECB52"
          ],
          "font": {
           "color": "#2a3f5f"
          },
          "geo": {
           "bgcolor": "white",
           "lakecolor": "white",
           "landcolor": "#E5ECF6",
           "showlakes": true,
           "showland": true,
           "subunitcolor": "white"
          },
          "hoverlabel": {
           "align": "left"
          },
          "hovermode": "closest",
          "mapbox": {
           "style": "light"
          },
          "paper_bgcolor": "white",
          "plot_bgcolor": "#E5ECF6",
          "polar": {
           "angularaxis": {
            "gridcolor": "white",
            "linecolor": "white",
            "ticks": ""
           },
           "bgcolor": "#E5ECF6",
           "radialaxis": {
            "gridcolor": "white",
            "linecolor": "white",
            "ticks": ""
           }
          },
          "scene": {
           "xaxis": {
            "backgroundcolor": "#E5ECF6",
            "gridcolor": "white",
            "gridwidth": 2,
            "linecolor": "white",
            "showbackground": true,
            "ticks": "",
            "zerolinecolor": "white"
           },
           "yaxis": {
            "backgroundcolor": "#E5ECF6",
            "gridcolor": "white",
            "gridwidth": 2,
            "linecolor": "white",
            "showbackground": true,
            "ticks": "",
            "zerolinecolor": "white"
           },
           "zaxis": {
            "backgroundcolor": "#E5ECF6",
            "gridcolor": "white",
            "gridwidth": 2,
            "linecolor": "white",
            "showbackground": true,
            "ticks": "",
            "zerolinecolor": "white"
           }
          },
          "shapedefaults": {
           "line": {
            "color": "#2a3f5f"
           }
          },
          "ternary": {
           "aaxis": {
            "gridcolor": "white",
            "linecolor": "white",
            "ticks": ""
           },
           "baxis": {
            "gridcolor": "white",
            "linecolor": "white",
            "ticks": ""
           },
           "bgcolor": "#E5ECF6",
           "caxis": {
            "gridcolor": "white",
            "linecolor": "white",
            "ticks": ""
           }
          },
          "title": {
           "x": 0.05
          },
          "xaxis": {
           "automargin": true,
           "gridcolor": "white",
           "linecolor": "white",
           "ticks": "",
           "title": {
            "standoff": 15
           },
           "zerolinecolor": "white",
           "zerolinewidth": 2
          },
          "yaxis": {
           "automargin": true,
           "gridcolor": "white",
           "linecolor": "white",
           "ticks": "",
           "title": {
            "standoff": 15
           },
           "zerolinecolor": "white",
           "zerolinewidth": 2
          }
         }
        },
        "title": {
         "text": "Income"
        }
       }
      }
     },
     "metadata": {},
     "output_type": "display_data"
    }
   ],
   "source": [
    "# Crea il pie chart\n",
    "fig = px.pie(df_positive, values=abs(df_positive[\"Importo\"]), names=df_positive[\"Categoria \"])\n",
    "\n",
    "# Aggiungi il titolo al grafico\n",
    "fig.update_layout(title='Income')\n",
    "\n",
    "# Mostra il grafico\n",
    "fig.show()"
   ]
  },
  {
   "cell_type": "code",
   "execution_count": 105,
   "metadata": {},
   "outputs": [
    {
     "data": {
      "application/vnd.plotly.v1+json": {
       "config": {
        "plotlyServerURL": "https://plot.ly"
       },
       "data": [
        {
         "domain": {
          "x": [
           0,
           1
          ],
          "y": [
           0,
           1
          ]
         },
         "hovertemplate": "Categoria =%{label}<br>value=%{value}<extra></extra>",
         "labels": [
          "Altre uscite",
          "Altre uscite",
          "Altre uscite",
          "Imposte, bolli e commissioni",
          "Cellulare",
          "Carburanti",
          "Imposte, bolli e commissioni",
          "Trasporti, noleggi, taxi e parcheggi ",
          "Generi alimentari e supermercato",
          "Generi alimentari e supermercato",
          "Generi alimentari e supermercato",
          "Ristoranti e bar",
          "Trasporti, noleggi, taxi e parcheggi ",
          "Carburanti",
          "Imposte sul reddito e tasse varie",
          "Domiciliazioni e Utenze",
          "Imposte, bolli e commissioni",
          "Generi alimentari e supermercato",
          "Generi alimentari e supermercato",
          "Pedaggi e Telepass",
          "Pedaggi e Telepass",
          "Pedaggi e Telepass",
          "Carburanti",
          "Generi alimentari e supermercato",
          "Cellulare",
          "Generi alimentari e supermercato",
          "Imposte, bolli e commissioni",
          "Ristoranti e bar",
          "Generi alimentari e supermercato",
          "Ristoranti e bar",
          "Cellulare",
          "Imposte, bolli e commissioni",
          "Generi alimentari e supermercato",
          "Cellulare",
          "Imposte sul reddito e tasse varie",
          "Ristoranti e bar",
          "Tempo libero varie",
          "Tempo libero varie",
          "Imposte, bolli e commissioni",
          "Trasporti, noleggi, taxi e parcheggi ",
          "Imposte, bolli e commissioni",
          "Imposte, bolli e commissioni",
          "Trasporti, noleggi, taxi e parcheggi ",
          "Trasporti, noleggi, taxi e parcheggi ",
          "Trasporti, noleggi, taxi e parcheggi ",
          "Trasporti, noleggi, taxi e parcheggi ",
          "Imposte, bolli e commissioni",
          "Cellulare",
          "Ristoranti e bar",
          "Elettrodomestici, arredamento e giardino",
          "Imposte, bolli e commissioni",
          "Ristoranti e bar",
          "Generi alimentari e supermercato",
          "Generi alimentari e supermercato",
          "Domiciliazioni e Utenze",
          "Imposte, bolli e commissioni",
          "Cellulare",
          "Generi alimentari e supermercato",
          "Generi alimentari e supermercato",
          "Generi alimentari e supermercato",
          "Imposte, bolli e commissioni",
          "Trasporti, noleggi, taxi e parcheggi ",
          "Imposte, bolli e commissioni",
          "Trasporti, noleggi, taxi e parcheggi ",
          "Trasporti, noleggi, taxi e parcheggi ",
          "Trasporti, noleggi, taxi e parcheggi ",
          "Trasporti, noleggi, taxi e parcheggi ",
          "Imposte, bolli e commissioni",
          "Imposte, bolli e commissioni",
          "Trasporti, noleggi, taxi e parcheggi ",
          "Ristoranti e bar",
          "Domiciliazioni e Utenze",
          "Imposte, bolli e commissioni",
          "Cellulare",
          "Domiciliazioni e Utenze",
          "Imposte, bolli e commissioni",
          "Ristoranti e bar",
          "Trasporti, noleggi, taxi e parcheggi ",
          "Cellulare",
          "Ristoranti e bar",
          "Ristoranti e bar",
          "Trasporti, noleggi, taxi e parcheggi ",
          "Imposte, bolli e commissioni",
          "Trasporti, noleggi, taxi e parcheggi ",
          "Trasporti, noleggi, taxi e parcheggi ",
          "Libri, film e musica",
          "Domiciliazioni e Utenze",
          "Imposte, bolli e commissioni",
          "Cellulare",
          "Domiciliazioni e Utenze",
          "Imposte, bolli e commissioni",
          "Trasporti, noleggi, taxi e parcheggi ",
          "Cellulare",
          "Trasporti, noleggi, taxi e parcheggi ",
          "Spettacoli e musei",
          "Trasporti, noleggi, taxi e parcheggi ",
          "Cellulare",
          "Ristoranti e bar",
          "Trasporti, noleggi, taxi e parcheggi "
         ],
         "legendgroup": "",
         "name": "",
         "showlegend": true,
         "type": "pie",
         "values": [
          26.49,
          4.77,
          5.99,
          5.5,
          5.99,
          60.5,
          5.5,
          10.5,
          110.09,
          3.53,
          32.2,
          11.4,
          5,
          80,
          2,
          29.4,
          1.3,
          44.88,
          22,
          1.9,
          1.7,
          13.3,
          80.23,
          8.33,
          5.99,
          11.1,
          5.5,
          2.6,
          7.44,
          38.5,
          5.99,
          5.5,
          11.9,
          5.99,
          32.5,
          1.9,
          17.17,
          15.99,
          3,
          4.6,
          5.5,
          3,
          4.6,
          4.6,
          4.6,
          4.6,
          3,
          5.99,
          24,
          43.35,
          5.5,
          17.4,
          15.73,
          7.04,
          5.91,
          0.8,
          5.99,
          15.69,
          37.11,
          43.63,
          3,
          4.6,
          3,
          4.6,
          4.6,
          3.9,
          3.4,
          4,
          3,
          4.6,
          7.8,
          18.5,
          0.8,
          5.99,
          12,
          0.8,
          21.55,
          1.7,
          5.99,
          59.7,
          16,
          4.6,
          3,
          4.6,
          4.6,
          31.8,
          18,
          0.8,
          5.99,
          8.5,
          0.8,
          102,
          5.99,
          2.3,
          71.4,
          42,
          5.99,
          14,
          42
         ]
        }
       ],
       "layout": {
        "legend": {
         "tracegroupgap": 0
        },
        "margin": {
         "t": 60
        },
        "template": {
         "data": {
          "bar": [
           {
            "error_x": {
             "color": "#2a3f5f"
            },
            "error_y": {
             "color": "#2a3f5f"
            },
            "marker": {
             "line": {
              "color": "#E5ECF6",
              "width": 0.5
             },
             "pattern": {
              "fillmode": "overlay",
              "size": 10,
              "solidity": 0.2
             }
            },
            "type": "bar"
           }
          ],
          "barpolar": [
           {
            "marker": {
             "line": {
              "color": "#E5ECF6",
              "width": 0.5
             },
             "pattern": {
              "fillmode": "overlay",
              "size": 10,
              "solidity": 0.2
             }
            },
            "type": "barpolar"
           }
          ],
          "carpet": [
           {
            "aaxis": {
             "endlinecolor": "#2a3f5f",
             "gridcolor": "white",
             "linecolor": "white",
             "minorgridcolor": "white",
             "startlinecolor": "#2a3f5f"
            },
            "baxis": {
             "endlinecolor": "#2a3f5f",
             "gridcolor": "white",
             "linecolor": "white",
             "minorgridcolor": "white",
             "startlinecolor": "#2a3f5f"
            },
            "type": "carpet"
           }
          ],
          "choropleth": [
           {
            "colorbar": {
             "outlinewidth": 0,
             "ticks": ""
            },
            "type": "choropleth"
           }
          ],
          "contour": [
           {
            "colorbar": {
             "outlinewidth": 0,
             "ticks": ""
            },
            "colorscale": [
             [
              0,
              "#0d0887"
             ],
             [
              0.1111111111111111,
              "#46039f"
             ],
             [
              0.2222222222222222,
              "#7201a8"
             ],
             [
              0.3333333333333333,
              "#9c179e"
             ],
             [
              0.4444444444444444,
              "#bd3786"
             ],
             [
              0.5555555555555556,
              "#d8576b"
             ],
             [
              0.6666666666666666,
              "#ed7953"
             ],
             [
              0.7777777777777778,
              "#fb9f3a"
             ],
             [
              0.8888888888888888,
              "#fdca26"
             ],
             [
              1,
              "#f0f921"
             ]
            ],
            "type": "contour"
           }
          ],
          "contourcarpet": [
           {
            "colorbar": {
             "outlinewidth": 0,
             "ticks": ""
            },
            "type": "contourcarpet"
           }
          ],
          "heatmap": [
           {
            "colorbar": {
             "outlinewidth": 0,
             "ticks": ""
            },
            "colorscale": [
             [
              0,
              "#0d0887"
             ],
             [
              0.1111111111111111,
              "#46039f"
             ],
             [
              0.2222222222222222,
              "#7201a8"
             ],
             [
              0.3333333333333333,
              "#9c179e"
             ],
             [
              0.4444444444444444,
              "#bd3786"
             ],
             [
              0.5555555555555556,
              "#d8576b"
             ],
             [
              0.6666666666666666,
              "#ed7953"
             ],
             [
              0.7777777777777778,
              "#fb9f3a"
             ],
             [
              0.8888888888888888,
              "#fdca26"
             ],
             [
              1,
              "#f0f921"
             ]
            ],
            "type": "heatmap"
           }
          ],
          "heatmapgl": [
           {
            "colorbar": {
             "outlinewidth": 0,
             "ticks": ""
            },
            "colorscale": [
             [
              0,
              "#0d0887"
             ],
             [
              0.1111111111111111,
              "#46039f"
             ],
             [
              0.2222222222222222,
              "#7201a8"
             ],
             [
              0.3333333333333333,
              "#9c179e"
             ],
             [
              0.4444444444444444,
              "#bd3786"
             ],
             [
              0.5555555555555556,
              "#d8576b"
             ],
             [
              0.6666666666666666,
              "#ed7953"
             ],
             [
              0.7777777777777778,
              "#fb9f3a"
             ],
             [
              0.8888888888888888,
              "#fdca26"
             ],
             [
              1,
              "#f0f921"
             ]
            ],
            "type": "heatmapgl"
           }
          ],
          "histogram": [
           {
            "marker": {
             "pattern": {
              "fillmode": "overlay",
              "size": 10,
              "solidity": 0.2
             }
            },
            "type": "histogram"
           }
          ],
          "histogram2d": [
           {
            "colorbar": {
             "outlinewidth": 0,
             "ticks": ""
            },
            "colorscale": [
             [
              0,
              "#0d0887"
             ],
             [
              0.1111111111111111,
              "#46039f"
             ],
             [
              0.2222222222222222,
              "#7201a8"
             ],
             [
              0.3333333333333333,
              "#9c179e"
             ],
             [
              0.4444444444444444,
              "#bd3786"
             ],
             [
              0.5555555555555556,
              "#d8576b"
             ],
             [
              0.6666666666666666,
              "#ed7953"
             ],
             [
              0.7777777777777778,
              "#fb9f3a"
             ],
             [
              0.8888888888888888,
              "#fdca26"
             ],
             [
              1,
              "#f0f921"
             ]
            ],
            "type": "histogram2d"
           }
          ],
          "histogram2dcontour": [
           {
            "colorbar": {
             "outlinewidth": 0,
             "ticks": ""
            },
            "colorscale": [
             [
              0,
              "#0d0887"
             ],
             [
              0.1111111111111111,
              "#46039f"
             ],
             [
              0.2222222222222222,
              "#7201a8"
             ],
             [
              0.3333333333333333,
              "#9c179e"
             ],
             [
              0.4444444444444444,
              "#bd3786"
             ],
             [
              0.5555555555555556,
              "#d8576b"
             ],
             [
              0.6666666666666666,
              "#ed7953"
             ],
             [
              0.7777777777777778,
              "#fb9f3a"
             ],
             [
              0.8888888888888888,
              "#fdca26"
             ],
             [
              1,
              "#f0f921"
             ]
            ],
            "type": "histogram2dcontour"
           }
          ],
          "mesh3d": [
           {
            "colorbar": {
             "outlinewidth": 0,
             "ticks": ""
            },
            "type": "mesh3d"
           }
          ],
          "parcoords": [
           {
            "line": {
             "colorbar": {
              "outlinewidth": 0,
              "ticks": ""
             }
            },
            "type": "parcoords"
           }
          ],
          "pie": [
           {
            "automargin": true,
            "type": "pie"
           }
          ],
          "scatter": [
           {
            "fillpattern": {
             "fillmode": "overlay",
             "size": 10,
             "solidity": 0.2
            },
            "type": "scatter"
           }
          ],
          "scatter3d": [
           {
            "line": {
             "colorbar": {
              "outlinewidth": 0,
              "ticks": ""
             }
            },
            "marker": {
             "colorbar": {
              "outlinewidth": 0,
              "ticks": ""
             }
            },
            "type": "scatter3d"
           }
          ],
          "scattercarpet": [
           {
            "marker": {
             "colorbar": {
              "outlinewidth": 0,
              "ticks": ""
             }
            },
            "type": "scattercarpet"
           }
          ],
          "scattergeo": [
           {
            "marker": {
             "colorbar": {
              "outlinewidth": 0,
              "ticks": ""
             }
            },
            "type": "scattergeo"
           }
          ],
          "scattergl": [
           {
            "marker": {
             "colorbar": {
              "outlinewidth": 0,
              "ticks": ""
             }
            },
            "type": "scattergl"
           }
          ],
          "scattermapbox": [
           {
            "marker": {
             "colorbar": {
              "outlinewidth": 0,
              "ticks": ""
             }
            },
            "type": "scattermapbox"
           }
          ],
          "scatterpolar": [
           {
            "marker": {
             "colorbar": {
              "outlinewidth": 0,
              "ticks": ""
             }
            },
            "type": "scatterpolar"
           }
          ],
          "scatterpolargl": [
           {
            "marker": {
             "colorbar": {
              "outlinewidth": 0,
              "ticks": ""
             }
            },
            "type": "scatterpolargl"
           }
          ],
          "scatterternary": [
           {
            "marker": {
             "colorbar": {
              "outlinewidth": 0,
              "ticks": ""
             }
            },
            "type": "scatterternary"
           }
          ],
          "surface": [
           {
            "colorbar": {
             "outlinewidth": 0,
             "ticks": ""
            },
            "colorscale": [
             [
              0,
              "#0d0887"
             ],
             [
              0.1111111111111111,
              "#46039f"
             ],
             [
              0.2222222222222222,
              "#7201a8"
             ],
             [
              0.3333333333333333,
              "#9c179e"
             ],
             [
              0.4444444444444444,
              "#bd3786"
             ],
             [
              0.5555555555555556,
              "#d8576b"
             ],
             [
              0.6666666666666666,
              "#ed7953"
             ],
             [
              0.7777777777777778,
              "#fb9f3a"
             ],
             [
              0.8888888888888888,
              "#fdca26"
             ],
             [
              1,
              "#f0f921"
             ]
            ],
            "type": "surface"
           }
          ],
          "table": [
           {
            "cells": {
             "fill": {
              "color": "#EBF0F8"
             },
             "line": {
              "color": "white"
             }
            },
            "header": {
             "fill": {
              "color": "#C8D4E3"
             },
             "line": {
              "color": "white"
             }
            },
            "type": "table"
           }
          ]
         },
         "layout": {
          "annotationdefaults": {
           "arrowcolor": "#2a3f5f",
           "arrowhead": 0,
           "arrowwidth": 1
          },
          "autotypenumbers": "strict",
          "coloraxis": {
           "colorbar": {
            "outlinewidth": 0,
            "ticks": ""
           }
          },
          "colorscale": {
           "diverging": [
            [
             0,
             "#8e0152"
            ],
            [
             0.1,
             "#c51b7d"
            ],
            [
             0.2,
             "#de77ae"
            ],
            [
             0.3,
             "#f1b6da"
            ],
            [
             0.4,
             "#fde0ef"
            ],
            [
             0.5,
             "#f7f7f7"
            ],
            [
             0.6,
             "#e6f5d0"
            ],
            [
             0.7,
             "#b8e186"
            ],
            [
             0.8,
             "#7fbc41"
            ],
            [
             0.9,
             "#4d9221"
            ],
            [
             1,
             "#276419"
            ]
           ],
           "sequential": [
            [
             0,
             "#0d0887"
            ],
            [
             0.1111111111111111,
             "#46039f"
            ],
            [
             0.2222222222222222,
             "#7201a8"
            ],
            [
             0.3333333333333333,
             "#9c179e"
            ],
            [
             0.4444444444444444,
             "#bd3786"
            ],
            [
             0.5555555555555556,
             "#d8576b"
            ],
            [
             0.6666666666666666,
             "#ed7953"
            ],
            [
             0.7777777777777778,
             "#fb9f3a"
            ],
            [
             0.8888888888888888,
             "#fdca26"
            ],
            [
             1,
             "#f0f921"
            ]
           ],
           "sequentialminus": [
            [
             0,
             "#0d0887"
            ],
            [
             0.1111111111111111,
             "#46039f"
            ],
            [
             0.2222222222222222,
             "#7201a8"
            ],
            [
             0.3333333333333333,
             "#9c179e"
            ],
            [
             0.4444444444444444,
             "#bd3786"
            ],
            [
             0.5555555555555556,
             "#d8576b"
            ],
            [
             0.6666666666666666,
             "#ed7953"
            ],
            [
             0.7777777777777778,
             "#fb9f3a"
            ],
            [
             0.8888888888888888,
             "#fdca26"
            ],
            [
             1,
             "#f0f921"
            ]
           ]
          },
          "colorway": [
           "#636efa",
           "#EF553B",
           "#00cc96",
           "#ab63fa",
           "#FFA15A",
           "#19d3f3",
           "#FF6692",
           "#B6E880",
           "#FF97FF",
           "#FECB52"
          ],
          "font": {
           "color": "#2a3f5f"
          },
          "geo": {
           "bgcolor": "white",
           "lakecolor": "white",
           "landcolor": "#E5ECF6",
           "showlakes": true,
           "showland": true,
           "subunitcolor": "white"
          },
          "hoverlabel": {
           "align": "left"
          },
          "hovermode": "closest",
          "mapbox": {
           "style": "light"
          },
          "paper_bgcolor": "white",
          "plot_bgcolor": "#E5ECF6",
          "polar": {
           "angularaxis": {
            "gridcolor": "white",
            "linecolor": "white",
            "ticks": ""
           },
           "bgcolor": "#E5ECF6",
           "radialaxis": {
            "gridcolor": "white",
            "linecolor": "white",
            "ticks": ""
           }
          },
          "scene": {
           "xaxis": {
            "backgroundcolor": "#E5ECF6",
            "gridcolor": "white",
            "gridwidth": 2,
            "linecolor": "white",
            "showbackground": true,
            "ticks": "",
            "zerolinecolor": "white"
           },
           "yaxis": {
            "backgroundcolor": "#E5ECF6",
            "gridcolor": "white",
            "gridwidth": 2,
            "linecolor": "white",
            "showbackground": true,
            "ticks": "",
            "zerolinecolor": "white"
           },
           "zaxis": {
            "backgroundcolor": "#E5ECF6",
            "gridcolor": "white",
            "gridwidth": 2,
            "linecolor": "white",
            "showbackground": true,
            "ticks": "",
            "zerolinecolor": "white"
           }
          },
          "shapedefaults": {
           "line": {
            "color": "#2a3f5f"
           }
          },
          "ternary": {
           "aaxis": {
            "gridcolor": "white",
            "linecolor": "white",
            "ticks": ""
           },
           "baxis": {
            "gridcolor": "white",
            "linecolor": "white",
            "ticks": ""
           },
           "bgcolor": "#E5ECF6",
           "caxis": {
            "gridcolor": "white",
            "linecolor": "white",
            "ticks": ""
           }
          },
          "title": {
           "x": 0.05
          },
          "xaxis": {
           "automargin": true,
           "gridcolor": "white",
           "linecolor": "white",
           "ticks": "",
           "title": {
            "standoff": 15
           },
           "zerolinecolor": "white",
           "zerolinewidth": 2
          },
          "yaxis": {
           "automargin": true,
           "gridcolor": "white",
           "linecolor": "white",
           "ticks": "",
           "title": {
            "standoff": 15
           },
           "zerolinecolor": "white",
           "zerolinewidth": 2
          }
         }
        },
        "title": {
         "text": "Outcome"
        }
       }
      }
     },
     "metadata": {},
     "output_type": "display_data"
    }
   ],
   "source": [
    "\n",
    "# Crea il pie chart\n",
    "fig = px.pie(df_negative, values=abs(df_negative[\"Importo\"]), names=df_negative[\"Categoria \"])\n",
    "\n",
    "# Aggiungi il titolo al grafico\n",
    "fig.update_layout(title='Outcome')\n",
    "\n",
    "# Mostra il grafico\n",
    "fig.show()\n"
   ]
  },
  {
   "cell_type": "markdown",
   "metadata": {},
   "source": [
    "# Provo a fare l'auto categorizzazione delle righe del datagframe"
   ]
  },
  {
   "cell_type": "markdown",
   "metadata": {},
   "source": [
    "Idea di suddivisione:\n",
    "\n",
    "* **Housing**\n",
    "  * Mortgage or rent\n",
    "  * Property taxes\n",
    "  * Household repairs\n",
    "  * Condominium fees\n",
    "  * Home insurance\n",
    "\n",
    "* **Transportation**\n",
    "  * Car payment\n",
    "  * Car warranty\n",
    "  * Fuel\n",
    "  * Tires\n",
    "  * Maintenance and oil changes\n",
    "  * Parking fees\n",
    "  * Car repairs\n",
    "  * Registration and DMV taxes\n",
    "  * Car insurance\n",
    "  * Public transportation (bus, train, metro, etc.)\n",
    "  * Tolls and Telepass\n",
    "\n",
    "* **Food**\n",
    "  * Grocery shopping\n",
    "  * Restaurants\n",
    "  * Pet food\n",
    "\n",
    "* **Utilities**\n",
    "  * Electricity\n",
    "  * Water\n",
    "  * Waste\n",
    "  * Telephony\n",
    "  * Cable TV\n",
    "  * Internet\n",
    "\n",
    "* **Clothing**\n",
    "  * Adult clothing\n",
    "  * Adult shoes\n",
    "  * Children's clothing\n",
    "  * Children's shoes\n",
    "\n",
    "* **Healthcare**\n",
    "  * Primary care\n",
    "  * Dental care\n",
    "  * Specialty care (dermatologists, orthodontists, optometrists, etc.)\n",
    "  * Urgent care\n",
    "  * Medications\n",
    "  * Medical devices\n",
    "  * Health insurance\n",
    "\n",
    "* **Household Items/Supplies**\n",
    "  * Toiletries\n",
    "  * Laundry detergent\n",
    "  * Dishwasher detergent\n",
    "  * Cleaning supplies\n",
    "  * Tools\n",
    "\n",
    "* **Personal**\n",
    "  * Gym memberships\n",
    "  * Haircuts\n",
    "  * Salon services\n",
    "  * Cosmetics (like makeup or services like laser hair removal)\n",
    "  * Babysitter\n",
    "  * Subscriptions (magazines, online services, etc.)\n",
    "\n",
    "* **Debt**\n",
    "  * Personal loans\n",
    "  * Student loans\n",
    "  * Credit cards\n",
    "\n",
    "* **Retirement**\n",
    "  * Financial planning\n",
    "  * Investments\n",
    "\n",
    "* **Education**\n",
    "  * Children's college\n",
    "  * Your college\n",
    "  * School supplies\n",
    "  * Books\n",
    "\n",
    "* **Savings**\n",
    "  * Emergency fund\n",
    "  * Big purchases like a new mattress or laptop\n",
    "  * Other savings\n",
    "\n",
    "* **Gifts/Donations**\n",
    "  * Birthdays\n",
    "  * Anniversaries\n",
    "  * Weddings\n",
    "  * Christmas\n",
    "  * Special occasions\n",
    "  * Charities\n",
    "\n",
    "* **Entertainment**\n",
    "  * Alcohol and/or bars\n",
    "  * Games\n",
    "  * Movies\n",
    "  * Concerts\n",
    "  * Vacations\n",
    "  * Subscriptions (Netflix, Amazon, Hulu, etc.)\n",
    "\n"
   ]
  },
  {
   "cell_type": "markdown",
   "metadata": {},
   "source": [
    "* **Abitazione**\n",
    "  * Mutuo o affitto\n",
    "  * Tasse sulla proprietà\n",
    "  * Riparazioni domestiche\n",
    "  * Spese condominiali\n",
    "  * Assicurazione casa\n",
    "\n",
    "* **Trasporti**\n",
    "  * Pagamento dell'auto\n",
    "  * Garanzia auto\n",
    "  * Carburante\n",
    "  * Pneumatici\n",
    "  * Manutenzione e cambio olio\n",
    "  * Tariffe di parcheggio\n",
    "  * Riparazioni auto\n",
    "  * Tasse di registrazione e DMV\n",
    "  * Assicurazione auto\n",
    "  * Trasporto pubblico (bus, treno, metro, ecc.)\n",
    "  * Pedaggi e Telepass\n",
    "\n",
    "* **Alimentazione**\n",
    "  * Spesa alimentare\n",
    "  * Ristoranti\n",
    "  * Cibo per animali domestici\n",
    "\n",
    "* **Utenze**\n",
    "  * Elettricità\n",
    "  * Acqua\n",
    "  * Rifiuti\n",
    "  * Telefonia\n",
    "  * TV via cavo\n",
    "  * Internet\n",
    "  * Banca\n",
    "\n",
    "* **Abbigliamento**\n",
    "  * Abbigliamento per adulti\n",
    "  * Scarpe per adulti\n",
    "  * Abbigliamento per bambini\n",
    "  * Scarpe per bambini\n",
    "\n",
    "* **Sanità**\n",
    "  * Assistenza primaria\n",
    "  * Assistenza dentale\n",
    "  * Assistenza specialistica (dermatologi, ortodontisti, oculisti, ecc.)\n",
    "  * Assistenza urgente\n",
    "  * Farmaci\n",
    "  * Dispositivi medici\n",
    "  * Assicurazione sanitaria\n",
    "\n",
    "* **Articoli e forniture per la casa**\n",
    "  * Articoli da toeletta\n",
    "  * Detersivo per il bucato\n",
    "  * Detersivo per lavastoviglie\n",
    "  * Prodotti per la pulizia\n",
    "  * Utensili\n",
    "\n",
    "* **Personale**\n",
    "  * Abbonamenti palestra\n",
    "  * Tagli di capelli\n",
    "  * Servizi di salone\n",
    "  * Cosmetici (come trucco o servizi come la depilazione laser)\n",
    "  * Baby sitter\n",
    "  * Abbonamenti (riviste, servizi online, ecc.)\n",
    "\n",
    "* **Debiti**\n",
    "  * Prestiti personali\n",
    "  * Prestiti studenteschi\n",
    "  * Carte di debito\n",
    "\n",
    "* Pagementi esterni\n",
    "  * PayPal\n",
    "  * Satispay\n",
    "\n",
    "* **Pensionamento**\n",
    "  * Pianificazione finanziaria\n",
    "  * Investimenti\n",
    "\n",
    "* **Istruzione**\n",
    "  * College dei figli\n",
    "  * Tuo college\n",
    "  * Forniture scolastiche\n",
    "  * Libri\n",
    "\n",
    "* **Risparmi**\n",
    "  * Fondo di emergenza\n",
    "  * Grandi acquisti come un nuovo materasso o laptop\n",
    "  * Altri risparmi\n",
    "\n",
    "* **Regali/Donazioni**\n",
    "  * Compleanni\n",
    "  * Anniversari\n",
    "  * Matrimoni\n",
    "  * Natale\n",
    "  * Occasioni speciali\n",
    "  * Beneficenza\n",
    "\n",
    "* **Intrattenimento**\n",
    "  * Alcol e/o bar\n",
    "  * Giochi\n",
    "  * Cinema\n",
    "  * Concerti\n",
    "  * Vacanze\n",
    "  * Abbonamenti (Netflix, Amazon, Hulu, ecc.)\n",
    "\n",
    "* **Stipendi e pensioni**\n",
    "  * Stipendio\n",
    "  * Pensione\n",
    "  * Investimento\n",
    "  * Entrate varie\n"
   ]
  },
  {
   "cell_type": "code",
   "execution_count": 20,
   "metadata": {},
   "outputs": [
    {
     "data": {
      "text/html": [
       "<div>\n",
       "<style scoped>\n",
       "    .dataframe tbody tr th:only-of-type {\n",
       "        vertical-align: middle;\n",
       "    }\n",
       "\n",
       "    .dataframe tbody tr th {\n",
       "        vertical-align: top;\n",
       "    }\n",
       "\n",
       "    .dataframe thead th {\n",
       "        text-align: right;\n",
       "    }\n",
       "</style>\n",
       "<table border=\"1\" class=\"dataframe\">\n",
       "  <thead>\n",
       "    <tr style=\"text-align: right;\">\n",
       "      <th></th>\n",
       "      <th>Data</th>\n",
       "      <th>Operazione</th>\n",
       "      <th>Dettagli</th>\n",
       "      <th>Conto o carta</th>\n",
       "      <th>Contabilizzazione</th>\n",
       "      <th>Categoria banca</th>\n",
       "      <th>Valuta</th>\n",
       "      <th>Importo</th>\n",
       "      <th>Categoria</th>\n",
       "      <th>Subcategoria</th>\n",
       "      <th>Commento</th>\n",
       "    </tr>\n",
       "  </thead>\n",
       "  <tbody>\n",
       "    <tr>\n",
       "      <th>0</th>\n",
       "      <td>2023-10-13T00:00:00</td>\n",
       "      <td>Pagamento Effettuato Su Pos Estero</td>\n",
       "      <td>Apple.com/bill Itunes.com 13/10/2023 18.51</td>\n",
       "      <td>Conto 1000/00071615</td>\n",
       "      <td>NON CONTABILIZZATO</td>\n",
       "      <td>Altre uscite</td>\n",
       "      <td>EUR</td>\n",
       "      <td>-26.49</td>\n",
       "      <td>NaN</td>\n",
       "      <td>NaN</td>\n",
       "      <td>NaN</td>\n",
       "    </tr>\n",
       "    <tr>\n",
       "      <th>1</th>\n",
       "      <td>2023-10-13T00:00:00</td>\n",
       "      <td>Stipendio O Pensione</td>\n",
       "      <td>COD. DISP. 0123101219839164 SALA 00908454 STIP...</td>\n",
       "      <td>Conto 1000/00071615</td>\n",
       "      <td>CONTABILIZZATO</td>\n",
       "      <td>Stipendi e pensioni</td>\n",
       "      <td>EUR</td>\n",
       "      <td>1680.92</td>\n",
       "      <td>Stipendi e pensioni</td>\n",
       "      <td>Stipendio</td>\n",
       "      <td>NaN</td>\n",
       "    </tr>\n",
       "    <tr>\n",
       "      <th>2</th>\n",
       "      <td>2023-10-12T00:00:00</td>\n",
       "      <td>Pagamento Pos</td>\n",
       "      <td>Lidl 2552 Pinerolo 12/10/2023 18.21</td>\n",
       "      <td>Conto 1000/00071615</td>\n",
       "      <td>NON CONTABILIZZATO</td>\n",
       "      <td>Altre uscite</td>\n",
       "      <td>EUR</td>\n",
       "      <td>-4.77</td>\n",
       "      <td>Alimentazione</td>\n",
       "      <td>Spesa alimentare</td>\n",
       "      <td>NaN</td>\n",
       "    </tr>\n",
       "    <tr>\n",
       "      <th>3</th>\n",
       "      <td>2023-10-12T00:00:00</td>\n",
       "      <td>Pagamento Pos</td>\n",
       "      <td>Iliad Italia Milano 12/10/2023 02.52</td>\n",
       "      <td>Conto 1000/00071615</td>\n",
       "      <td>NON CONTABILIZZATO</td>\n",
       "      <td>Altre uscite</td>\n",
       "      <td>EUR</td>\n",
       "      <td>-5.99</td>\n",
       "      <td>NaN</td>\n",
       "      <td>NaN</td>\n",
       "      <td>NaN</td>\n",
       "    </tr>\n",
       "    <tr>\n",
       "      <th>4</th>\n",
       "      <td>2023-09-30T00:00:00</td>\n",
       "      <td>Canone Mensile Base E Servizi Aggiuntivi</td>\n",
       "      <td>Canone Mensile Mese Di Settembre</td>\n",
       "      <td>Conto 1000/00071615</td>\n",
       "      <td>CONTABILIZZATO</td>\n",
       "      <td>Imposte, bolli e commissioni</td>\n",
       "      <td>EUR</td>\n",
       "      <td>-5.50</td>\n",
       "      <td>NaN</td>\n",
       "      <td>NaN</td>\n",
       "      <td>NaN</td>\n",
       "    </tr>\n",
       "  </tbody>\n",
       "</table>\n",
       "</div>"
      ],
      "text/plain": [
       "                  Data                                Operazione  \\\n",
       "0  2023-10-13T00:00:00        Pagamento Effettuato Su Pos Estero   \n",
       "1  2023-10-13T00:00:00                      Stipendio O Pensione   \n",
       "2  2023-10-12T00:00:00                             Pagamento Pos   \n",
       "3  2023-10-12T00:00:00                             Pagamento Pos   \n",
       "4  2023-09-30T00:00:00  Canone Mensile Base E Servizi Aggiuntivi   \n",
       "\n",
       "                                            Dettagli        Conto o carta  \\\n",
       "0         Apple.com/bill Itunes.com 13/10/2023 18.51  Conto 1000/00071615   \n",
       "1  COD. DISP. 0123101219839164 SALA 00908454 STIP...  Conto 1000/00071615   \n",
       "2                Lidl 2552 Pinerolo 12/10/2023 18.21  Conto 1000/00071615   \n",
       "3               Iliad Italia Milano 12/10/2023 02.52  Conto 1000/00071615   \n",
       "4                   Canone Mensile Mese Di Settembre  Conto 1000/00071615   \n",
       "\n",
       "    Contabilizzazione               Categoria banca Valuta  Importo  \\\n",
       "0  NON CONTABILIZZATO                  Altre uscite    EUR   -26.49   \n",
       "1      CONTABILIZZATO           Stipendi e pensioni    EUR  1680.92   \n",
       "2  NON CONTABILIZZATO                  Altre uscite    EUR    -4.77   \n",
       "3  NON CONTABILIZZATO                  Altre uscite    EUR    -5.99   \n",
       "4      CONTABILIZZATO  Imposte, bolli e commissioni    EUR    -5.50   \n",
       "\n",
       "             Categoria      Subcategoria  Commento  \n",
       "0                  NaN               NaN       NaN  \n",
       "1  Stipendi e pensioni         Stipendio       NaN  \n",
       "2        Alimentazione  Spesa alimentare       NaN  \n",
       "3                  NaN               NaN       NaN  \n",
       "4                  NaN               NaN       NaN  "
      ]
     },
     "execution_count": 20,
     "metadata": {},
     "output_type": "execute_result"
    }
   ],
   "source": [
    "import pandas as pd  # Carica il file CSV in un DataFrame di Pandas\n",
    "\n",
    "df = pd.read_csv(\"../data/dataframe.csv\")\n",
    "df.head()"
   ]
  },
  {
   "cell_type": "code",
   "execution_count": 21,
   "metadata": {},
   "outputs": [
    {
     "data": {
      "text/html": [
       "<div>\n",
       "<style scoped>\n",
       "    .dataframe tbody tr th:only-of-type {\n",
       "        vertical-align: middle;\n",
       "    }\n",
       "\n",
       "    .dataframe tbody tr th {\n",
       "        vertical-align: top;\n",
       "    }\n",
       "\n",
       "    .dataframe thead th {\n",
       "        text-align: right;\n",
       "    }\n",
       "</style>\n",
       "<table border=\"1\" class=\"dataframe\">\n",
       "  <thead>\n",
       "    <tr style=\"text-align: right;\">\n",
       "      <th></th>\n",
       "      <th>Data</th>\n",
       "      <th>Operazione</th>\n",
       "      <th>Dettagli</th>\n",
       "      <th>Conto o carta</th>\n",
       "      <th>Contabilizzazione</th>\n",
       "      <th>Categoria banca</th>\n",
       "      <th>Valuta</th>\n",
       "      <th>Importo</th>\n",
       "      <th>Categoria</th>\n",
       "      <th>Subcategoria</th>\n",
       "      <th>Commento</th>\n",
       "      <th>Descrizione</th>\n",
       "    </tr>\n",
       "  </thead>\n",
       "  <tbody>\n",
       "    <tr>\n",
       "      <th>0</th>\n",
       "      <td>2023-10-13T00:00:00</td>\n",
       "      <td>Pagamento Effettuato Su Pos Estero</td>\n",
       "      <td>Apple.com/bill Itunes.com 13/10/2023 18.51</td>\n",
       "      <td>Conto 1000/00071615</td>\n",
       "      <td>NON CONTABILIZZATO</td>\n",
       "      <td>Altre uscite</td>\n",
       "      <td>EUR</td>\n",
       "      <td>-26.49</td>\n",
       "      <td>NaN</td>\n",
       "      <td>NaN</td>\n",
       "      <td>NaN</td>\n",
       "      <td>Pagamento Effettuato Su Pos Estero - Apple.com...</td>\n",
       "    </tr>\n",
       "    <tr>\n",
       "      <th>1</th>\n",
       "      <td>2023-10-13T00:00:00</td>\n",
       "      <td>Stipendio O Pensione</td>\n",
       "      <td>COD. DISP. 0123101219839164 SALA 00908454 STIP...</td>\n",
       "      <td>Conto 1000/00071615</td>\n",
       "      <td>CONTABILIZZATO</td>\n",
       "      <td>Stipendi e pensioni</td>\n",
       "      <td>EUR</td>\n",
       "      <td>1680.92</td>\n",
       "      <td>Stipendi e pensioni</td>\n",
       "      <td>Stipendio</td>\n",
       "      <td>NaN</td>\n",
       "      <td>Stipendio O Pensione - COD. DISP. 012310121983...</td>\n",
       "    </tr>\n",
       "    <tr>\n",
       "      <th>2</th>\n",
       "      <td>2023-10-12T00:00:00</td>\n",
       "      <td>Pagamento Pos</td>\n",
       "      <td>Lidl 2552 Pinerolo 12/10/2023 18.21</td>\n",
       "      <td>Conto 1000/00071615</td>\n",
       "      <td>NON CONTABILIZZATO</td>\n",
       "      <td>Altre uscite</td>\n",
       "      <td>EUR</td>\n",
       "      <td>-4.77</td>\n",
       "      <td>Alimentazione</td>\n",
       "      <td>Spesa alimentare</td>\n",
       "      <td>NaN</td>\n",
       "      <td>Pagamento Pos - Lidl 2552 Pinerolo 12/10/2023 ...</td>\n",
       "    </tr>\n",
       "    <tr>\n",
       "      <th>3</th>\n",
       "      <td>2023-10-12T00:00:00</td>\n",
       "      <td>Pagamento Pos</td>\n",
       "      <td>Iliad Italia Milano 12/10/2023 02.52</td>\n",
       "      <td>Conto 1000/00071615</td>\n",
       "      <td>NON CONTABILIZZATO</td>\n",
       "      <td>Altre uscite</td>\n",
       "      <td>EUR</td>\n",
       "      <td>-5.99</td>\n",
       "      <td>NaN</td>\n",
       "      <td>NaN</td>\n",
       "      <td>NaN</td>\n",
       "      <td>Pagamento Pos - Iliad Italia Milano 12/10/2023...</td>\n",
       "    </tr>\n",
       "    <tr>\n",
       "      <th>4</th>\n",
       "      <td>2023-09-30T00:00:00</td>\n",
       "      <td>Canone Mensile Base E Servizi Aggiuntivi</td>\n",
       "      <td>Canone Mensile Mese Di Settembre</td>\n",
       "      <td>Conto 1000/00071615</td>\n",
       "      <td>CONTABILIZZATO</td>\n",
       "      <td>Imposte, bolli e commissioni</td>\n",
       "      <td>EUR</td>\n",
       "      <td>-5.50</td>\n",
       "      <td>NaN</td>\n",
       "      <td>NaN</td>\n",
       "      <td>NaN</td>\n",
       "      <td>Canone Mensile Base E Servizi Aggiuntivi - Can...</td>\n",
       "    </tr>\n",
       "  </tbody>\n",
       "</table>\n",
       "</div>"
      ],
      "text/plain": [
       "                  Data                                Operazione  \\\n",
       "0  2023-10-13T00:00:00        Pagamento Effettuato Su Pos Estero   \n",
       "1  2023-10-13T00:00:00                      Stipendio O Pensione   \n",
       "2  2023-10-12T00:00:00                             Pagamento Pos   \n",
       "3  2023-10-12T00:00:00                             Pagamento Pos   \n",
       "4  2023-09-30T00:00:00  Canone Mensile Base E Servizi Aggiuntivi   \n",
       "\n",
       "                                            Dettagli        Conto o carta  \\\n",
       "0         Apple.com/bill Itunes.com 13/10/2023 18.51  Conto 1000/00071615   \n",
       "1  COD. DISP. 0123101219839164 SALA 00908454 STIP...  Conto 1000/00071615   \n",
       "2                Lidl 2552 Pinerolo 12/10/2023 18.21  Conto 1000/00071615   \n",
       "3               Iliad Italia Milano 12/10/2023 02.52  Conto 1000/00071615   \n",
       "4                   Canone Mensile Mese Di Settembre  Conto 1000/00071615   \n",
       "\n",
       "    Contabilizzazione               Categoria banca Valuta  Importo  \\\n",
       "0  NON CONTABILIZZATO                  Altre uscite    EUR   -26.49   \n",
       "1      CONTABILIZZATO           Stipendi e pensioni    EUR  1680.92   \n",
       "2  NON CONTABILIZZATO                  Altre uscite    EUR    -4.77   \n",
       "3  NON CONTABILIZZATO                  Altre uscite    EUR    -5.99   \n",
       "4      CONTABILIZZATO  Imposte, bolli e commissioni    EUR    -5.50   \n",
       "\n",
       "             Categoria      Subcategoria  Commento  \\\n",
       "0                  NaN               NaN       NaN   \n",
       "1  Stipendi e pensioni         Stipendio       NaN   \n",
       "2        Alimentazione  Spesa alimentare       NaN   \n",
       "3                  NaN               NaN       NaN   \n",
       "4                  NaN               NaN       NaN   \n",
       "\n",
       "                                         Descrizione  \n",
       "0  Pagamento Effettuato Su Pos Estero - Apple.com...  \n",
       "1  Stipendio O Pensione - COD. DISP. 012310121983...  \n",
       "2  Pagamento Pos - Lidl 2552 Pinerolo 12/10/2023 ...  \n",
       "3  Pagamento Pos - Iliad Italia Milano 12/10/2023...  \n",
       "4  Canone Mensile Base E Servizi Aggiuntivi - Can...  "
      ]
     },
     "execution_count": 21,
     "metadata": {},
     "output_type": "execute_result"
    }
   ],
   "source": [
    "df[\"Descrizione\"] = (\n",
    "    df[\"Operazione\"] + \" - \" + df[\"Dettagli\"] + \" - \" + df[\"Categoria banca\"]\n",
    ")\n",
    "df.head()"
   ]
  },
  {
   "cell_type": "code",
   "execution_count": 3,
   "metadata": {},
   "outputs": [],
   "source": [
    "from sklearn.feature_extraction.text import CountVectorizer\n",
    "from sklearn.naive_bayes import MultinomialNB\n",
    "from sklearn.preprocessing import LabelEncoder"
   ]
  },
  {
   "cell_type": "code",
   "execution_count": 22,
   "metadata": {},
   "outputs": [
    {
     "name": "stdout",
     "output_type": "stream",
     "text": [
      "True\n",
      "True\n"
     ]
    }
   ],
   "source": [
    "print(df[\"Categoria\"].isna().any())\n",
    "print(df[\"Subcategoria\"].isna().any())"
   ]
  },
  {
   "cell_type": "code",
   "execution_count": 23,
   "metadata": {},
   "outputs": [
    {
     "data": {
      "text/html": [
       "<div>\n",
       "<style scoped>\n",
       "    .dataframe tbody tr th:only-of-type {\n",
       "        vertical-align: middle;\n",
       "    }\n",
       "\n",
       "    .dataframe tbody tr th {\n",
       "        vertical-align: top;\n",
       "    }\n",
       "\n",
       "    .dataframe thead th {\n",
       "        text-align: right;\n",
       "    }\n",
       "</style>\n",
       "<table border=\"1\" class=\"dataframe\">\n",
       "  <thead>\n",
       "    <tr style=\"text-align: right;\">\n",
       "      <th></th>\n",
       "      <th>Data</th>\n",
       "      <th>Operazione</th>\n",
       "      <th>Dettagli</th>\n",
       "      <th>Conto o carta</th>\n",
       "      <th>Contabilizzazione</th>\n",
       "      <th>Categoria banca</th>\n",
       "      <th>Valuta</th>\n",
       "      <th>Importo</th>\n",
       "      <th>Categoria</th>\n",
       "      <th>Subcategoria</th>\n",
       "      <th>Commento</th>\n",
       "      <th>Descrizione</th>\n",
       "    </tr>\n",
       "  </thead>\n",
       "  <tbody>\n",
       "    <tr>\n",
       "      <th>1</th>\n",
       "      <td>2023-10-13T00:00:00</td>\n",
       "      <td>Stipendio O Pensione</td>\n",
       "      <td>COD. DISP. 0123101219839164 SALA 00908454 STIP...</td>\n",
       "      <td>Conto 1000/00071615</td>\n",
       "      <td>CONTABILIZZATO</td>\n",
       "      <td>Stipendi e pensioni</td>\n",
       "      <td>EUR</td>\n",
       "      <td>1680.92</td>\n",
       "      <td>Stipendi e pensioni</td>\n",
       "      <td>Stipendio</td>\n",
       "      <td>NaN</td>\n",
       "      <td>Stipendio O Pensione - COD. DISP. 012310121983...</td>\n",
       "    </tr>\n",
       "    <tr>\n",
       "      <th>2</th>\n",
       "      <td>2023-10-12T00:00:00</td>\n",
       "      <td>Pagamento Pos</td>\n",
       "      <td>Lidl 2552 Pinerolo 12/10/2023 18.21</td>\n",
       "      <td>Conto 1000/00071615</td>\n",
       "      <td>NON CONTABILIZZATO</td>\n",
       "      <td>Altre uscite</td>\n",
       "      <td>EUR</td>\n",
       "      <td>-4.77</td>\n",
       "      <td>Alimentazione</td>\n",
       "      <td>Spesa alimentare</td>\n",
       "      <td>NaN</td>\n",
       "      <td>Pagamento Pos - Lidl 2552 Pinerolo 12/10/2023 ...</td>\n",
       "    </tr>\n",
       "    <tr>\n",
       "      <th>5</th>\n",
       "      <td>2023-09-12T00:00:00</td>\n",
       "      <td>ILIAD ITALIA Roma</td>\n",
       "      <td>EFFETTUATO IL 12/09/2023 ALLE ORE 0349 MEDIANT...</td>\n",
       "      <td>Conto 1000/00071615</td>\n",
       "      <td>CONTABILIZZATO</td>\n",
       "      <td>Cellulare</td>\n",
       "      <td>EUR</td>\n",
       "      <td>-5.99</td>\n",
       "      <td>Utenze</td>\n",
       "      <td>Telefonia</td>\n",
       "      <td>NaN</td>\n",
       "      <td>ILIAD ITALIA Roma - EFFETTUATO IL 12/09/2023 A...</td>\n",
       "    </tr>\n",
       "    <tr>\n",
       "      <th>7</th>\n",
       "      <td>2023-08-31T00:00:00</td>\n",
       "      <td>Canone Mensile Base E Servizi Aggiuntivi</td>\n",
       "      <td>Canone Mensile Mese Di Agosto</td>\n",
       "      <td>Conto 1000/00071615</td>\n",
       "      <td>CONTABILIZZATO</td>\n",
       "      <td>Imposte, bolli e commissioni</td>\n",
       "      <td>EUR</td>\n",
       "      <td>-5.50</td>\n",
       "      <td>Utenze</td>\n",
       "      <td>Banca</td>\n",
       "      <td>NaN</td>\n",
       "      <td>Canone Mensile Base E Servizi Aggiuntivi - Can...</td>\n",
       "    </tr>\n",
       "    <tr>\n",
       "      <th>9</th>\n",
       "      <td>2023-08-29T00:00:00</td>\n",
       "      <td>Supermercato Md Trinita' D'ag</td>\n",
       "      <td>Effettuato Il 29/08/2023 Alle Ore 1937 Mediant...</td>\n",
       "      <td>Conto 1000/00071615</td>\n",
       "      <td>CONTABILIZZATO</td>\n",
       "      <td>Generi alimentari e supermercato</td>\n",
       "      <td>EUR</td>\n",
       "      <td>-110.09</td>\n",
       "      <td>Alimentazione</td>\n",
       "      <td>Spesa alimentare</td>\n",
       "      <td>NaN</td>\n",
       "      <td>Supermercato Md Trinita' D'ag - Effettuato Il ...</td>\n",
       "    </tr>\n",
       "  </tbody>\n",
       "</table>\n",
       "</div>"
      ],
      "text/plain": [
       "                  Data                                Operazione  \\\n",
       "1  2023-10-13T00:00:00                      Stipendio O Pensione   \n",
       "2  2023-10-12T00:00:00                             Pagamento Pos   \n",
       "5  2023-09-12T00:00:00                         ILIAD ITALIA Roma   \n",
       "7  2023-08-31T00:00:00  Canone Mensile Base E Servizi Aggiuntivi   \n",
       "9  2023-08-29T00:00:00             Supermercato Md Trinita' D'ag   \n",
       "\n",
       "                                            Dettagli        Conto o carta  \\\n",
       "1  COD. DISP. 0123101219839164 SALA 00908454 STIP...  Conto 1000/00071615   \n",
       "2                Lidl 2552 Pinerolo 12/10/2023 18.21  Conto 1000/00071615   \n",
       "5  EFFETTUATO IL 12/09/2023 ALLE ORE 0349 MEDIANT...  Conto 1000/00071615   \n",
       "7                      Canone Mensile Mese Di Agosto  Conto 1000/00071615   \n",
       "9  Effettuato Il 29/08/2023 Alle Ore 1937 Mediant...  Conto 1000/00071615   \n",
       "\n",
       "    Contabilizzazione                   Categoria banca Valuta  Importo  \\\n",
       "1      CONTABILIZZATO               Stipendi e pensioni    EUR  1680.92   \n",
       "2  NON CONTABILIZZATO                      Altre uscite    EUR    -4.77   \n",
       "5      CONTABILIZZATO                         Cellulare    EUR    -5.99   \n",
       "7      CONTABILIZZATO      Imposte, bolli e commissioni    EUR    -5.50   \n",
       "9      CONTABILIZZATO  Generi alimentari e supermercato    EUR  -110.09   \n",
       "\n",
       "             Categoria      Subcategoria  Commento  \\\n",
       "1  Stipendi e pensioni         Stipendio       NaN   \n",
       "2        Alimentazione  Spesa alimentare       NaN   \n",
       "5               Utenze         Telefonia       NaN   \n",
       "7               Utenze             Banca       NaN   \n",
       "9        Alimentazione  Spesa alimentare       NaN   \n",
       "\n",
       "                                         Descrizione  \n",
       "1  Stipendio O Pensione - COD. DISP. 012310121983...  \n",
       "2  Pagamento Pos - Lidl 2552 Pinerolo 12/10/2023 ...  \n",
       "5  ILIAD ITALIA Roma - EFFETTUATO IL 12/09/2023 A...  \n",
       "7  Canone Mensile Base E Servizi Aggiuntivi - Can...  \n",
       "9  Supermercato Md Trinita' D'ag - Effettuato Il ...  "
      ]
     },
     "execution_count": 23,
     "metadata": {},
     "output_type": "execute_result"
    }
   ],
   "source": [
    "# Rimuovi le righe con categorie o sottocategorie NaN\n",
    "df_training = df.dropna(subset=[\"Categoria\", \"Subcategoria\"])\n",
    "df_training.head()"
   ]
  },
  {
   "cell_type": "code",
   "execution_count": 24,
   "metadata": {},
   "outputs": [
    {
     "data": {
      "text/html": [
       "<div>\n",
       "<style scoped>\n",
       "    .dataframe tbody tr th:only-of-type {\n",
       "        vertical-align: middle;\n",
       "    }\n",
       "\n",
       "    .dataframe tbody tr th {\n",
       "        vertical-align: top;\n",
       "    }\n",
       "\n",
       "    .dataframe thead th {\n",
       "        text-align: right;\n",
       "    }\n",
       "</style>\n",
       "<table border=\"1\" class=\"dataframe\">\n",
       "  <thead>\n",
       "    <tr style=\"text-align: right;\">\n",
       "      <th></th>\n",
       "      <th>Data</th>\n",
       "      <th>Operazione</th>\n",
       "      <th>Dettagli</th>\n",
       "      <th>Conto o carta</th>\n",
       "      <th>Contabilizzazione</th>\n",
       "      <th>Categoria banca</th>\n",
       "      <th>Valuta</th>\n",
       "      <th>Importo</th>\n",
       "      <th>Categoria</th>\n",
       "      <th>Subcategoria</th>\n",
       "      <th>Commento</th>\n",
       "      <th>Descrizione</th>\n",
       "    </tr>\n",
       "  </thead>\n",
       "  <tbody>\n",
       "    <tr>\n",
       "      <th>0</th>\n",
       "      <td>2023-10-13T00:00:00</td>\n",
       "      <td>Pagamento Effettuato Su Pos Estero</td>\n",
       "      <td>Apple.com/bill Itunes.com 13/10/2023 18.51</td>\n",
       "      <td>Conto 1000/00071615</td>\n",
       "      <td>NON CONTABILIZZATO</td>\n",
       "      <td>Altre uscite</td>\n",
       "      <td>EUR</td>\n",
       "      <td>-26.49</td>\n",
       "      <td>NaN</td>\n",
       "      <td>NaN</td>\n",
       "      <td>NaN</td>\n",
       "      <td>Pagamento Effettuato Su Pos Estero - Apple.com...</td>\n",
       "    </tr>\n",
       "    <tr>\n",
       "      <th>3</th>\n",
       "      <td>2023-10-12T00:00:00</td>\n",
       "      <td>Pagamento Pos</td>\n",
       "      <td>Iliad Italia Milano 12/10/2023 02.52</td>\n",
       "      <td>Conto 1000/00071615</td>\n",
       "      <td>NON CONTABILIZZATO</td>\n",
       "      <td>Altre uscite</td>\n",
       "      <td>EUR</td>\n",
       "      <td>-5.99</td>\n",
       "      <td>NaN</td>\n",
       "      <td>NaN</td>\n",
       "      <td>NaN</td>\n",
       "      <td>Pagamento Pos - Iliad Italia Milano 12/10/2023...</td>\n",
       "    </tr>\n",
       "    <tr>\n",
       "      <th>4</th>\n",
       "      <td>2023-09-30T00:00:00</td>\n",
       "      <td>Canone Mensile Base E Servizi Aggiuntivi</td>\n",
       "      <td>Canone Mensile Mese Di Settembre</td>\n",
       "      <td>Conto 1000/00071615</td>\n",
       "      <td>CONTABILIZZATO</td>\n",
       "      <td>Imposte, bolli e commissioni</td>\n",
       "      <td>EUR</td>\n",
       "      <td>-5.50</td>\n",
       "      <td>NaN</td>\n",
       "      <td>NaN</td>\n",
       "      <td>NaN</td>\n",
       "      <td>Canone Mensile Base E Servizi Aggiuntivi - Can...</td>\n",
       "    </tr>\n",
       "    <tr>\n",
       "      <th>6</th>\n",
       "      <td>2023-08-31T00:00:00</td>\n",
       "      <td>GAMPI SRL Badesi</td>\n",
       "      <td>EFFETTUATO IL 31/08/2023 ALLE ORE 0935 MEDIANT...</td>\n",
       "      <td>Conto 1000/00071615</td>\n",
       "      <td>CONTABILIZZATO</td>\n",
       "      <td>Carburanti</td>\n",
       "      <td>EUR</td>\n",
       "      <td>-60.50</td>\n",
       "      <td>NaN</td>\n",
       "      <td>NaN</td>\n",
       "      <td>NaN</td>\n",
       "      <td>GAMPI SRL Badesi - EFFETTUATO IL 31/08/2023 AL...</td>\n",
       "    </tr>\n",
       "    <tr>\n",
       "      <th>8</th>\n",
       "      <td>2023-08-30T00:00:00</td>\n",
       "      <td>P.le Della Pace Lato Via Asfod Alghero</td>\n",
       "      <td>Effettuato Il 30/08/2023 Alle Ore 1823 Mediant...</td>\n",
       "      <td>Conto 1000/00071615</td>\n",
       "      <td>CONTABILIZZATO</td>\n",
       "      <td>Trasporti, noleggi, taxi e parcheggi</td>\n",
       "      <td>EUR</td>\n",
       "      <td>-10.50</td>\n",
       "      <td>NaN</td>\n",
       "      <td>NaN</td>\n",
       "      <td>NaN</td>\n",
       "      <td>P.le Della Pace Lato Via Asfod Alghero - Effet...</td>\n",
       "    </tr>\n",
       "  </tbody>\n",
       "</table>\n",
       "</div>"
      ],
      "text/plain": [
       "                  Data                                Operazione  \\\n",
       "0  2023-10-13T00:00:00        Pagamento Effettuato Su Pos Estero   \n",
       "3  2023-10-12T00:00:00                             Pagamento Pos   \n",
       "4  2023-09-30T00:00:00  Canone Mensile Base E Servizi Aggiuntivi   \n",
       "6  2023-08-31T00:00:00                          GAMPI SRL Badesi   \n",
       "8  2023-08-30T00:00:00    P.le Della Pace Lato Via Asfod Alghero   \n",
       "\n",
       "                                            Dettagli        Conto o carta  \\\n",
       "0         Apple.com/bill Itunes.com 13/10/2023 18.51  Conto 1000/00071615   \n",
       "3               Iliad Italia Milano 12/10/2023 02.52  Conto 1000/00071615   \n",
       "4                   Canone Mensile Mese Di Settembre  Conto 1000/00071615   \n",
       "6  EFFETTUATO IL 31/08/2023 ALLE ORE 0935 MEDIANT...  Conto 1000/00071615   \n",
       "8  Effettuato Il 30/08/2023 Alle Ore 1823 Mediant...  Conto 1000/00071615   \n",
       "\n",
       "    Contabilizzazione                        Categoria banca Valuta  Importo  \\\n",
       "0  NON CONTABILIZZATO                           Altre uscite    EUR   -26.49   \n",
       "3  NON CONTABILIZZATO                           Altre uscite    EUR    -5.99   \n",
       "4      CONTABILIZZATO           Imposte, bolli e commissioni    EUR    -5.50   \n",
       "6      CONTABILIZZATO                             Carburanti    EUR   -60.50   \n",
       "8      CONTABILIZZATO  Trasporti, noleggi, taxi e parcheggi     EUR   -10.50   \n",
       "\n",
       "  Categoria Subcategoria  Commento  \\\n",
       "0       NaN          NaN       NaN   \n",
       "3       NaN          NaN       NaN   \n",
       "4       NaN          NaN       NaN   \n",
       "6       NaN          NaN       NaN   \n",
       "8       NaN          NaN       NaN   \n",
       "\n",
       "                                         Descrizione  \n",
       "0  Pagamento Effettuato Su Pos Estero - Apple.com...  \n",
       "3  Pagamento Pos - Iliad Italia Milano 12/10/2023...  \n",
       "4  Canone Mensile Base E Servizi Aggiuntivi - Can...  \n",
       "6  GAMPI SRL Badesi - EFFETTUATO IL 31/08/2023 AL...  \n",
       "8  P.le Della Pace Lato Via Asfod Alghero - Effet...  "
      ]
     },
     "execution_count": 24,
     "metadata": {},
     "output_type": "execute_result"
    }
   ],
   "source": [
    "# Seleziona le righe con categoria e/o sottocategoria NaN\n",
    "df_nan = df[df[\"Categoria\"].isna() | df[\"Subcategoria\"].isna()]\n",
    "df_nan.head()"
   ]
  },
  {
   "cell_type": "code",
   "execution_count": 25,
   "metadata": {},
   "outputs": [
    {
     "name": "stderr",
     "output_type": "stream",
     "text": [
      "C:\\Users\\Admin\\AppData\\Local\\Temp\\ipykernel_23936\\3775628726.py:2: SettingWithCopyWarning: \n",
      "A value is trying to be set on a copy of a slice from a DataFrame.\n",
      "Try using .loc[row_indexer,col_indexer] = value instead\n",
      "\n",
      "See the caveats in the documentation: https://pandas.pydata.org/pandas-docs/stable/user_guide/indexing.html#returning-a-view-versus-a-copy\n",
      "  df_training[\"Etichetta\"] = (\n"
     ]
    },
    {
     "data": {
      "text/html": [
       "<div>\n",
       "<style scoped>\n",
       "    .dataframe tbody tr th:only-of-type {\n",
       "        vertical-align: middle;\n",
       "    }\n",
       "\n",
       "    .dataframe tbody tr th {\n",
       "        vertical-align: top;\n",
       "    }\n",
       "\n",
       "    .dataframe thead th {\n",
       "        text-align: right;\n",
       "    }\n",
       "</style>\n",
       "<table border=\"1\" class=\"dataframe\">\n",
       "  <thead>\n",
       "    <tr style=\"text-align: right;\">\n",
       "      <th></th>\n",
       "      <th>Data</th>\n",
       "      <th>Operazione</th>\n",
       "      <th>Dettagli</th>\n",
       "      <th>Conto o carta</th>\n",
       "      <th>Contabilizzazione</th>\n",
       "      <th>Categoria banca</th>\n",
       "      <th>Valuta</th>\n",
       "      <th>Importo</th>\n",
       "      <th>Categoria</th>\n",
       "      <th>Subcategoria</th>\n",
       "      <th>Commento</th>\n",
       "      <th>Descrizione</th>\n",
       "      <th>Etichetta</th>\n",
       "    </tr>\n",
       "  </thead>\n",
       "  <tbody>\n",
       "    <tr>\n",
       "      <th>1</th>\n",
       "      <td>2023-10-13T00:00:00</td>\n",
       "      <td>Stipendio O Pensione</td>\n",
       "      <td>COD. DISP. 0123101219839164 SALA 00908454 STIP...</td>\n",
       "      <td>Conto 1000/00071615</td>\n",
       "      <td>CONTABILIZZATO</td>\n",
       "      <td>Stipendi e pensioni</td>\n",
       "      <td>EUR</td>\n",
       "      <td>1680.92</td>\n",
       "      <td>Stipendi e pensioni</td>\n",
       "      <td>Stipendio</td>\n",
       "      <td>NaN</td>\n",
       "      <td>Stipendio O Pensione - COD. DISP. 012310121983...</td>\n",
       "      <td>Stipendi e pensioni - Stipendio</td>\n",
       "    </tr>\n",
       "    <tr>\n",
       "      <th>2</th>\n",
       "      <td>2023-10-12T00:00:00</td>\n",
       "      <td>Pagamento Pos</td>\n",
       "      <td>Lidl 2552 Pinerolo 12/10/2023 18.21</td>\n",
       "      <td>Conto 1000/00071615</td>\n",
       "      <td>NON CONTABILIZZATO</td>\n",
       "      <td>Altre uscite</td>\n",
       "      <td>EUR</td>\n",
       "      <td>-4.77</td>\n",
       "      <td>Alimentazione</td>\n",
       "      <td>Spesa alimentare</td>\n",
       "      <td>NaN</td>\n",
       "      <td>Pagamento Pos - Lidl 2552 Pinerolo 12/10/2023 ...</td>\n",
       "      <td>Alimentazione - Spesa alimentare</td>\n",
       "    </tr>\n",
       "    <tr>\n",
       "      <th>5</th>\n",
       "      <td>2023-09-12T00:00:00</td>\n",
       "      <td>ILIAD ITALIA Roma</td>\n",
       "      <td>EFFETTUATO IL 12/09/2023 ALLE ORE 0349 MEDIANT...</td>\n",
       "      <td>Conto 1000/00071615</td>\n",
       "      <td>CONTABILIZZATO</td>\n",
       "      <td>Cellulare</td>\n",
       "      <td>EUR</td>\n",
       "      <td>-5.99</td>\n",
       "      <td>Utenze</td>\n",
       "      <td>Telefonia</td>\n",
       "      <td>NaN</td>\n",
       "      <td>ILIAD ITALIA Roma - EFFETTUATO IL 12/09/2023 A...</td>\n",
       "      <td>Utenze - Telefonia</td>\n",
       "    </tr>\n",
       "    <tr>\n",
       "      <th>7</th>\n",
       "      <td>2023-08-31T00:00:00</td>\n",
       "      <td>Canone Mensile Base E Servizi Aggiuntivi</td>\n",
       "      <td>Canone Mensile Mese Di Agosto</td>\n",
       "      <td>Conto 1000/00071615</td>\n",
       "      <td>CONTABILIZZATO</td>\n",
       "      <td>Imposte, bolli e commissioni</td>\n",
       "      <td>EUR</td>\n",
       "      <td>-5.50</td>\n",
       "      <td>Utenze</td>\n",
       "      <td>Banca</td>\n",
       "      <td>NaN</td>\n",
       "      <td>Canone Mensile Base E Servizi Aggiuntivi - Can...</td>\n",
       "      <td>Utenze - Banca</td>\n",
       "    </tr>\n",
       "    <tr>\n",
       "      <th>9</th>\n",
       "      <td>2023-08-29T00:00:00</td>\n",
       "      <td>Supermercato Md Trinita' D'ag</td>\n",
       "      <td>Effettuato Il 29/08/2023 Alle Ore 1937 Mediant...</td>\n",
       "      <td>Conto 1000/00071615</td>\n",
       "      <td>CONTABILIZZATO</td>\n",
       "      <td>Generi alimentari e supermercato</td>\n",
       "      <td>EUR</td>\n",
       "      <td>-110.09</td>\n",
       "      <td>Alimentazione</td>\n",
       "      <td>Spesa alimentare</td>\n",
       "      <td>NaN</td>\n",
       "      <td>Supermercato Md Trinita' D'ag - Effettuato Il ...</td>\n",
       "      <td>Alimentazione - Spesa alimentare</td>\n",
       "    </tr>\n",
       "  </tbody>\n",
       "</table>\n",
       "</div>"
      ],
      "text/plain": [
       "                  Data                                Operazione  \\\n",
       "1  2023-10-13T00:00:00                      Stipendio O Pensione   \n",
       "2  2023-10-12T00:00:00                             Pagamento Pos   \n",
       "5  2023-09-12T00:00:00                         ILIAD ITALIA Roma   \n",
       "7  2023-08-31T00:00:00  Canone Mensile Base E Servizi Aggiuntivi   \n",
       "9  2023-08-29T00:00:00             Supermercato Md Trinita' D'ag   \n",
       "\n",
       "                                            Dettagli        Conto o carta  \\\n",
       "1  COD. DISP. 0123101219839164 SALA 00908454 STIP...  Conto 1000/00071615   \n",
       "2                Lidl 2552 Pinerolo 12/10/2023 18.21  Conto 1000/00071615   \n",
       "5  EFFETTUATO IL 12/09/2023 ALLE ORE 0349 MEDIANT...  Conto 1000/00071615   \n",
       "7                      Canone Mensile Mese Di Agosto  Conto 1000/00071615   \n",
       "9  Effettuato Il 29/08/2023 Alle Ore 1937 Mediant...  Conto 1000/00071615   \n",
       "\n",
       "    Contabilizzazione                   Categoria banca Valuta  Importo  \\\n",
       "1      CONTABILIZZATO               Stipendi e pensioni    EUR  1680.92   \n",
       "2  NON CONTABILIZZATO                      Altre uscite    EUR    -4.77   \n",
       "5      CONTABILIZZATO                         Cellulare    EUR    -5.99   \n",
       "7      CONTABILIZZATO      Imposte, bolli e commissioni    EUR    -5.50   \n",
       "9      CONTABILIZZATO  Generi alimentari e supermercato    EUR  -110.09   \n",
       "\n",
       "             Categoria      Subcategoria  Commento  \\\n",
       "1  Stipendi e pensioni         Stipendio       NaN   \n",
       "2        Alimentazione  Spesa alimentare       NaN   \n",
       "5               Utenze         Telefonia       NaN   \n",
       "7               Utenze             Banca       NaN   \n",
       "9        Alimentazione  Spesa alimentare       NaN   \n",
       "\n",
       "                                         Descrizione  \\\n",
       "1  Stipendio O Pensione - COD. DISP. 012310121983...   \n",
       "2  Pagamento Pos - Lidl 2552 Pinerolo 12/10/2023 ...   \n",
       "5  ILIAD ITALIA Roma - EFFETTUATO IL 12/09/2023 A...   \n",
       "7  Canone Mensile Base E Servizi Aggiuntivi - Can...   \n",
       "9  Supermercato Md Trinita' D'ag - Effettuato Il ...   \n",
       "\n",
       "                          Etichetta  \n",
       "1   Stipendi e pensioni - Stipendio  \n",
       "2  Alimentazione - Spesa alimentare  \n",
       "5                Utenze - Telefonia  \n",
       "7                    Utenze - Banca  \n",
       "9  Alimentazione - Spesa alimentare  "
      ]
     },
     "execution_count": 25,
     "metadata": {},
     "output_type": "execute_result"
    }
   ],
   "source": [
    "# Combina la categoria e la sottocategoria in una sola etichetta\n",
    "df_training[\"Etichetta\"] = (\n",
    "    df_training[\"Categoria\"] + \" - \" + df_training[\"Subcategoria\"]\n",
    ")\n",
    "\n",
    "df_training.head()"
   ]
  },
  {
   "cell_type": "code",
   "execution_count": 31,
   "metadata": {},
   "outputs": [],
   "source": [
    "# Esempio di dati di addestramento\n",
    "transazioni = df_training[\"Descrizione\"].tolist()\n",
    "categorie = df_training[\"Etichetta\"].tolist()"
   ]
  },
  {
   "cell_type": "code",
   "execution_count": 32,
   "metadata": {},
   "outputs": [],
   "source": [
    "# Trasformiamo le categorie in numeri\n",
    "encoder = LabelEncoder()\n",
    "y = encoder.fit_transform(categorie)"
   ]
  },
  {
   "cell_type": "code",
   "execution_count": 33,
   "metadata": {},
   "outputs": [],
   "source": [
    "# Creiamo una matrice di conteggio delle parole\n",
    "vectorizer = CountVectorizer()\n",
    "X = vectorizer.fit_transform(transazioni)"
   ]
  },
  {
   "cell_type": "code",
   "execution_count": 34,
   "metadata": {},
   "outputs": [
    {
     "data": {
      "text/html": [
       "<style>#sk-container-id-1 {color: black;}#sk-container-id-1 pre{padding: 0;}#sk-container-id-1 div.sk-toggleable {background-color: white;}#sk-container-id-1 label.sk-toggleable__label {cursor: pointer;display: block;width: 100%;margin-bottom: 0;padding: 0.3em;box-sizing: border-box;text-align: center;}#sk-container-id-1 label.sk-toggleable__label-arrow:before {content: \"▸\";float: left;margin-right: 0.25em;color: #696969;}#sk-container-id-1 label.sk-toggleable__label-arrow:hover:before {color: black;}#sk-container-id-1 div.sk-estimator:hover label.sk-toggleable__label-arrow:before {color: black;}#sk-container-id-1 div.sk-toggleable__content {max-height: 0;max-width: 0;overflow: hidden;text-align: left;background-color: #f0f8ff;}#sk-container-id-1 div.sk-toggleable__content pre {margin: 0.2em;color: black;border-radius: 0.25em;background-color: #f0f8ff;}#sk-container-id-1 input.sk-toggleable__control:checked~div.sk-toggleable__content {max-height: 200px;max-width: 100%;overflow: auto;}#sk-container-id-1 input.sk-toggleable__control:checked~label.sk-toggleable__label-arrow:before {content: \"▾\";}#sk-container-id-1 div.sk-estimator input.sk-toggleable__control:checked~label.sk-toggleable__label {background-color: #d4ebff;}#sk-container-id-1 div.sk-label input.sk-toggleable__control:checked~label.sk-toggleable__label {background-color: #d4ebff;}#sk-container-id-1 input.sk-hidden--visually {border: 0;clip: rect(1px 1px 1px 1px);clip: rect(1px, 1px, 1px, 1px);height: 1px;margin: -1px;overflow: hidden;padding: 0;position: absolute;width: 1px;}#sk-container-id-1 div.sk-estimator {font-family: monospace;background-color: #f0f8ff;border: 1px dotted black;border-radius: 0.25em;box-sizing: border-box;margin-bottom: 0.5em;}#sk-container-id-1 div.sk-estimator:hover {background-color: #d4ebff;}#sk-container-id-1 div.sk-parallel-item::after {content: \"\";width: 100%;border-bottom: 1px solid gray;flex-grow: 1;}#sk-container-id-1 div.sk-label:hover label.sk-toggleable__label {background-color: #d4ebff;}#sk-container-id-1 div.sk-serial::before {content: \"\";position: absolute;border-left: 1px solid gray;box-sizing: border-box;top: 0;bottom: 0;left: 50%;z-index: 0;}#sk-container-id-1 div.sk-serial {display: flex;flex-direction: column;align-items: center;background-color: white;padding-right: 0.2em;padding-left: 0.2em;position: relative;}#sk-container-id-1 div.sk-item {position: relative;z-index: 1;}#sk-container-id-1 div.sk-parallel {display: flex;align-items: stretch;justify-content: center;background-color: white;position: relative;}#sk-container-id-1 div.sk-item::before, #sk-container-id-1 div.sk-parallel-item::before {content: \"\";position: absolute;border-left: 1px solid gray;box-sizing: border-box;top: 0;bottom: 0;left: 50%;z-index: -1;}#sk-container-id-1 div.sk-parallel-item {display: flex;flex-direction: column;z-index: 1;position: relative;background-color: white;}#sk-container-id-1 div.sk-parallel-item:first-child::after {align-self: flex-end;width: 50%;}#sk-container-id-1 div.sk-parallel-item:last-child::after {align-self: flex-start;width: 50%;}#sk-container-id-1 div.sk-parallel-item:only-child::after {width: 0;}#sk-container-id-1 div.sk-dashed-wrapped {border: 1px dashed gray;margin: 0 0.4em 0.5em 0.4em;box-sizing: border-box;padding-bottom: 0.4em;background-color: white;}#sk-container-id-1 div.sk-label label {font-family: monospace;font-weight: bold;display: inline-block;line-height: 1.2em;}#sk-container-id-1 div.sk-label-container {text-align: center;}#sk-container-id-1 div.sk-container {/* jupyter's `normalize.less` sets `[hidden] { display: none; }` but bootstrap.min.css set `[hidden] { display: none !important; }` so we also need the `!important` here to be able to override the default hidden behavior on the sphinx rendered scikit-learn.org. See: https://github.com/scikit-learn/scikit-learn/issues/21755 */display: inline-block !important;position: relative;}#sk-container-id-1 div.sk-text-repr-fallback {display: none;}</style><div id=\"sk-container-id-1\" class=\"sk-top-container\"><div class=\"sk-text-repr-fallback\"><pre>MultinomialNB()</pre><b>In a Jupyter environment, please rerun this cell to show the HTML representation or trust the notebook. <br />On GitHub, the HTML representation is unable to render, please try loading this page with nbviewer.org.</b></div><div class=\"sk-container\" hidden><div class=\"sk-item\"><div class=\"sk-estimator sk-toggleable\"><input class=\"sk-toggleable__control sk-hidden--visually\" id=\"sk-estimator-id-1\" type=\"checkbox\" checked><label for=\"sk-estimator-id-1\" class=\"sk-toggleable__label sk-toggleable__label-arrow\">MultinomialNB</label><div class=\"sk-toggleable__content\"><pre>MultinomialNB()</pre></div></div></div></div></div>"
      ],
      "text/plain": [
       "MultinomialNB()"
      ]
     },
     "execution_count": 34,
     "metadata": {},
     "output_type": "execute_result"
    }
   ],
   "source": [
    "# Addestriamo il modello\n",
    "model = MultinomialNB()\n",
    "model.fit(X, y)"
   ]
  },
  {
   "cell_type": "code",
   "execution_count": 35,
   "metadata": {},
   "outputs": [],
   "source": [
    "# Ora possiamo categorizzare nuove transazioni\n",
    "# Prepara le transazioni per la previsione\n",
    "nuove_transazioni = df_nan[\"Dettagli\"].tolist()\n",
    "X_nuovo = vectorizer.transform(nuove_transazioni)\n",
    "predizioni = model.predict(X_nuovo)"
   ]
  },
  {
   "cell_type": "code",
   "execution_count": 36,
   "metadata": {},
   "outputs": [
    {
     "name": "stdout",
     "output_type": "stream",
     "text": [
      "['Alimentazione - Spesa alimentare' 'Utenze - Telefonia' 'Utenze - Banca'\n",
      " 'Trasporti - Trasporto pubblico' 'Trasporti - Trasporto pubblico'\n",
      " 'Trasporti - Trasporto pubblico' 'Alimentazione - Spesa alimentare'\n",
      " 'Trasporti - Trasporto pubblico' 'Alimentazione - Spesa alimentare'\n",
      " 'Alimentazione - Spesa alimentare' 'Alimentazione - Spesa alimentare'\n",
      " 'Alimentazione - Spesa alimentare' 'Trasporti - Trasporto pubblico'\n",
      " 'Stipendi e pensioni - Credito' 'Pagamenti esterni - Entrate varie'\n",
      " 'Trasporti - Trasporto pubblico' 'Utenze - Banca'\n",
      " 'Trasporti - Trasporto pubblico' 'Trasporti - Trasporto pubblico'\n",
      " 'Trasporti - Trasporto pubblico' 'Utenze - Banca'\n",
      " 'Trasporti - Trasporto pubblico' 'Trasporti - Trasporto pubblico'\n",
      " 'Trasporti - Trasporto pubblico' 'Trasporti - Trasporto pubblico'\n",
      " 'Trasporti - Trasporto pubblico' 'Trasporti - Trasporto pubblico'\n",
      " 'Trasporti - Trasporto pubblico' 'Trasporti - Trasporto pubblico'\n",
      " 'Utenze - Banca' 'Trasporti - Trasporto pubblico'\n",
      " 'Trasporti - Trasporto pubblico' 'Trasporti - Trasporto pubblico'\n",
      " 'Trasporti - Trasporto pubblico' 'Trasporti - Trasporto pubblico'\n",
      " 'Trasporti - Trasporto pubblico' 'Trasporti - Trasporto pubblico'\n",
      " 'Trasporti - Trasporto pubblico' 'Trasporti - Trasporto pubblico'\n",
      " 'Utenze - Banca' 'Trasporti - Trasporto pubblico'\n",
      " 'Alimentazione - Spesa alimentare' 'Trasporti - Trasporto pubblico'\n",
      " 'Pagamenti esterni - Satispay' 'Pagamenti esterni - Satispay'\n",
      " 'Trasporti - Trasporto pubblico' 'Alimentazione - Spesa alimentare'\n",
      " 'Alimentazione - Spesa alimentare' 'Trasporti - Trasporto pubblico'\n",
      " 'Trasporti - Trasporto pubblico' 'Trasporti - Trasporto pubblico'\n",
      " 'Trasporti - Trasporto pubblico' 'Trasporti - Trasporto pubblico'\n",
      " 'Trasporti - Trasporto pubblico' 'Trasporti - Trasporto pubblico'\n",
      " 'Trasporti - Trasporto pubblico' 'Utenze - Banca'\n",
      " 'Trasporti - Trasporto pubblico' 'Trasporti - Trasporto pubblico'\n",
      " 'Trasporti - Trasporto pubblico' 'Pagamenti esterni - Satispay'\n",
      " 'Pagamenti esterni - Satispay' 'Trasporti - Trasporto pubblico'\n",
      " 'Trasporti - Trasporto pubblico' 'Trasporti - Trasporto pubblico'\n",
      " 'Trasporti - Trasporto pubblico' 'Trasporti - Trasporto pubblico'\n",
      " 'Pagamenti esterni - Satispay' 'Pagamenti esterni - Satispay'\n",
      " 'Trasporti - Trasporto pubblico' 'Pagamenti esterni - Satispay'\n",
      " 'Pagamenti esterni - Satispay' 'Trasporti - Trasporto pubblico'\n",
      " 'Trasporti - Trasporto pubblico' 'Trasporti - Trasporto pubblico']\n"
     ]
    }
   ],
   "source": [
    "# Trasforma le predizioni numeriche in etichette di categoria e sottocategoria\n",
    "categorie_predette = encoder.inverse_transform(predizioni)\n",
    "\n",
    "# Ora hai le categorie predette per le tue nuove transazioni\n",
    "print(categorie_predette)"
   ]
  },
  {
   "cell_type": "code",
   "execution_count": 37,
   "metadata": {},
   "outputs": [
    {
     "name": "stderr",
     "output_type": "stream",
     "text": [
      "C:\\Users\\Admin\\AppData\\Local\\Temp\\ipykernel_23936\\2317420347.py:2: SettingWithCopyWarning: \n",
      "A value is trying to be set on a copy of a slice from a DataFrame.\n",
      "Try using .loc[row_indexer,col_indexer] = value instead\n",
      "\n",
      "See the caveats in the documentation: https://pandas.pydata.org/pandas-docs/stable/user_guide/indexing.html#returning-a-view-versus-a-copy\n",
      "  df_nan[\"Etichetta_predetta\"] = categorie_predette\n"
     ]
    },
    {
     "data": {
      "text/html": [
       "<div>\n",
       "<style scoped>\n",
       "    .dataframe tbody tr th:only-of-type {\n",
       "        vertical-align: middle;\n",
       "    }\n",
       "\n",
       "    .dataframe tbody tr th {\n",
       "        vertical-align: top;\n",
       "    }\n",
       "\n",
       "    .dataframe thead th {\n",
       "        text-align: right;\n",
       "    }\n",
       "</style>\n",
       "<table border=\"1\" class=\"dataframe\">\n",
       "  <thead>\n",
       "    <tr style=\"text-align: right;\">\n",
       "      <th></th>\n",
       "      <th>Data</th>\n",
       "      <th>Operazione</th>\n",
       "      <th>Dettagli</th>\n",
       "      <th>Conto o carta</th>\n",
       "      <th>Contabilizzazione</th>\n",
       "      <th>Categoria banca</th>\n",
       "      <th>Valuta</th>\n",
       "      <th>Importo</th>\n",
       "      <th>Categoria</th>\n",
       "      <th>Subcategoria</th>\n",
       "      <th>Commento</th>\n",
       "      <th>Descrizione</th>\n",
       "      <th>Etichetta_predetta</th>\n",
       "    </tr>\n",
       "  </thead>\n",
       "  <tbody>\n",
       "    <tr>\n",
       "      <th>0</th>\n",
       "      <td>2023-10-13T00:00:00</td>\n",
       "      <td>Pagamento Effettuato Su Pos Estero</td>\n",
       "      <td>Apple.com/bill Itunes.com 13/10/2023 18.51</td>\n",
       "      <td>Conto 1000/00071615</td>\n",
       "      <td>NON CONTABILIZZATO</td>\n",
       "      <td>Altre uscite</td>\n",
       "      <td>EUR</td>\n",
       "      <td>-26.49</td>\n",
       "      <td>NaN</td>\n",
       "      <td>NaN</td>\n",
       "      <td>NaN</td>\n",
       "      <td>Pagamento Effettuato Su Pos Estero - Apple.com...</td>\n",
       "      <td>Alimentazione - Spesa alimentare</td>\n",
       "    </tr>\n",
       "    <tr>\n",
       "      <th>3</th>\n",
       "      <td>2023-10-12T00:00:00</td>\n",
       "      <td>Pagamento Pos</td>\n",
       "      <td>Iliad Italia Milano 12/10/2023 02.52</td>\n",
       "      <td>Conto 1000/00071615</td>\n",
       "      <td>NON CONTABILIZZATO</td>\n",
       "      <td>Altre uscite</td>\n",
       "      <td>EUR</td>\n",
       "      <td>-5.99</td>\n",
       "      <td>NaN</td>\n",
       "      <td>NaN</td>\n",
       "      <td>NaN</td>\n",
       "      <td>Pagamento Pos - Iliad Italia Milano 12/10/2023...</td>\n",
       "      <td>Utenze - Telefonia</td>\n",
       "    </tr>\n",
       "    <tr>\n",
       "      <th>4</th>\n",
       "      <td>2023-09-30T00:00:00</td>\n",
       "      <td>Canone Mensile Base E Servizi Aggiuntivi</td>\n",
       "      <td>Canone Mensile Mese Di Settembre</td>\n",
       "      <td>Conto 1000/00071615</td>\n",
       "      <td>CONTABILIZZATO</td>\n",
       "      <td>Imposte, bolli e commissioni</td>\n",
       "      <td>EUR</td>\n",
       "      <td>-5.50</td>\n",
       "      <td>NaN</td>\n",
       "      <td>NaN</td>\n",
       "      <td>NaN</td>\n",
       "      <td>Canone Mensile Base E Servizi Aggiuntivi - Can...</td>\n",
       "      <td>Utenze - Banca</td>\n",
       "    </tr>\n",
       "    <tr>\n",
       "      <th>6</th>\n",
       "      <td>2023-08-31T00:00:00</td>\n",
       "      <td>GAMPI SRL Badesi</td>\n",
       "      <td>EFFETTUATO IL 31/08/2023 ALLE ORE 0935 MEDIANT...</td>\n",
       "      <td>Conto 1000/00071615</td>\n",
       "      <td>CONTABILIZZATO</td>\n",
       "      <td>Carburanti</td>\n",
       "      <td>EUR</td>\n",
       "      <td>-60.50</td>\n",
       "      <td>NaN</td>\n",
       "      <td>NaN</td>\n",
       "      <td>NaN</td>\n",
       "      <td>GAMPI SRL Badesi - EFFETTUATO IL 31/08/2023 AL...</td>\n",
       "      <td>Trasporti - Trasporto pubblico</td>\n",
       "    </tr>\n",
       "    <tr>\n",
       "      <th>8</th>\n",
       "      <td>2023-08-30T00:00:00</td>\n",
       "      <td>P.le Della Pace Lato Via Asfod Alghero</td>\n",
       "      <td>Effettuato Il 30/08/2023 Alle Ore 1823 Mediant...</td>\n",
       "      <td>Conto 1000/00071615</td>\n",
       "      <td>CONTABILIZZATO</td>\n",
       "      <td>Trasporti, noleggi, taxi e parcheggi</td>\n",
       "      <td>EUR</td>\n",
       "      <td>-10.50</td>\n",
       "      <td>NaN</td>\n",
       "      <td>NaN</td>\n",
       "      <td>NaN</td>\n",
       "      <td>P.le Della Pace Lato Via Asfod Alghero - Effet...</td>\n",
       "      <td>Trasporti - Trasporto pubblico</td>\n",
       "    </tr>\n",
       "    <tr>\n",
       "      <th>...</th>\n",
       "      <td>...</td>\n",
       "      <td>...</td>\n",
       "      <td>...</td>\n",
       "      <td>...</td>\n",
       "      <td>...</td>\n",
       "      <td>...</td>\n",
       "      <td>...</td>\n",
       "      <td>...</td>\n",
       "      <td>...</td>\n",
       "      <td>...</td>\n",
       "      <td>...</td>\n",
       "      <td>...</td>\n",
       "      <td>...</td>\n",
       "    </tr>\n",
       "    <tr>\n",
       "      <th>93</th>\n",
       "      <td>2023-01-10T00:00:00</td>\n",
       "      <td>Addebito Diretto Disposto A Favore Di Matteo G...</td>\n",
       "      <td>COD. DISP.0123010901479277 NOMEmatteo Griot MA...</td>\n",
       "      <td>Conto 1000/00071615</td>\n",
       "      <td>CONTABILIZZATO</td>\n",
       "      <td>Domiciliazioni e Utenze</td>\n",
       "      <td>EUR</td>\n",
       "      <td>-8.50</td>\n",
       "      <td>NaN</td>\n",
       "      <td>NaN</td>\n",
       "      <td>NaN</td>\n",
       "      <td>Addebito Diretto Disposto A Favore Di Matteo G...</td>\n",
       "      <td>Pagamenti esterni - Satispay</td>\n",
       "    </tr>\n",
       "    <tr>\n",
       "      <th>94</th>\n",
       "      <td>2023-01-10T00:00:00</td>\n",
       "      <td>Commissioni E Spese Adue</td>\n",
       "      <td>COD. DISP.0123010901479277 NOMEmatteo Griot MA...</td>\n",
       "      <td>Conto 1000/00071615</td>\n",
       "      <td>CONTABILIZZATO</td>\n",
       "      <td>Imposte, bolli e commissioni</td>\n",
       "      <td>EUR</td>\n",
       "      <td>-0.80</td>\n",
       "      <td>NaN</td>\n",
       "      <td>NaN</td>\n",
       "      <td>NaN</td>\n",
       "      <td>Commissioni E Spese Adue - COD. DISP.012301090...</td>\n",
       "      <td>Pagamenti esterni - Satispay</td>\n",
       "    </tr>\n",
       "    <tr>\n",
       "      <th>95</th>\n",
       "      <td>2023-01-09T00:00:00</td>\n",
       "      <td>Trenit S721130bstazione</td>\n",
       "      <td>Pagamento Su POS TRENIT S721130BSTAZIONE 09/01...</td>\n",
       "      <td>Conto 1000/00071615</td>\n",
       "      <td>CONTABILIZZATO</td>\n",
       "      <td>Trasporti, noleggi, taxi e parcheggi</td>\n",
       "      <td>EUR</td>\n",
       "      <td>-102.00</td>\n",
       "      <td>NaN</td>\n",
       "      <td>NaN</td>\n",
       "      <td>NaN</td>\n",
       "      <td>Trenit S721130bstazione - Pagamento Su POS TRE...</td>\n",
       "      <td>Trasporti - Trasporto pubblico</td>\n",
       "    </tr>\n",
       "    <tr>\n",
       "      <th>97</th>\n",
       "      <td>2022-12-12T00:00:00</td>\n",
       "      <td>ILIAD ITALIA Roma</td>\n",
       "      <td>EFFETTUATO IL 12/12/2022 ALLE ORE 0223 MEDIANT...</td>\n",
       "      <td>Conto 1000/00071615</td>\n",
       "      <td>CONTABILIZZATO</td>\n",
       "      <td>Cellulare</td>\n",
       "      <td>EUR</td>\n",
       "      <td>-5.99</td>\n",
       "      <td>NaN</td>\n",
       "      <td>NaN</td>\n",
       "      <td>NaN</td>\n",
       "      <td>ILIAD ITALIA Roma - EFFETTUATO IL 12/12/2022 A...</td>\n",
       "      <td>Trasporti - Trasporto pubblico</td>\n",
       "    </tr>\n",
       "    <tr>\n",
       "      <th>101</th>\n",
       "      <td>2022-11-12T00:00:00</td>\n",
       "      <td>ILIAD ITALIA Roma</td>\n",
       "      <td>EFFETTUATO IL 12/11/2022 ALLE ORE 0209 MEDIANT...</td>\n",
       "      <td>Conto 1000/00071615</td>\n",
       "      <td>CONTABILIZZATO</td>\n",
       "      <td>Cellulare</td>\n",
       "      <td>EUR</td>\n",
       "      <td>-5.99</td>\n",
       "      <td>NaN</td>\n",
       "      <td>NaN</td>\n",
       "      <td>NaN</td>\n",
       "      <td>ILIAD ITALIA Roma - EFFETTUATO IL 12/11/2022 A...</td>\n",
       "      <td>Trasporti - Trasporto pubblico</td>\n",
       "    </tr>\n",
       "  </tbody>\n",
       "</table>\n",
       "<p>75 rows × 13 columns</p>\n",
       "</div>"
      ],
      "text/plain": [
       "                    Data                                         Operazione  \\\n",
       "0    2023-10-13T00:00:00                 Pagamento Effettuato Su Pos Estero   \n",
       "3    2023-10-12T00:00:00                                      Pagamento Pos   \n",
       "4    2023-09-30T00:00:00           Canone Mensile Base E Servizi Aggiuntivi   \n",
       "6    2023-08-31T00:00:00                                   GAMPI SRL Badesi   \n",
       "8    2023-08-30T00:00:00             P.le Della Pace Lato Via Asfod Alghero   \n",
       "..                   ...                                                ...   \n",
       "93   2023-01-10T00:00:00  Addebito Diretto Disposto A Favore Di Matteo G...   \n",
       "94   2023-01-10T00:00:00                           Commissioni E Spese Adue   \n",
       "95   2023-01-09T00:00:00                            Trenit S721130bstazione   \n",
       "97   2022-12-12T00:00:00                                  ILIAD ITALIA Roma   \n",
       "101  2022-11-12T00:00:00                                  ILIAD ITALIA Roma   \n",
       "\n",
       "                                              Dettagli        Conto o carta  \\\n",
       "0           Apple.com/bill Itunes.com 13/10/2023 18.51  Conto 1000/00071615   \n",
       "3                 Iliad Italia Milano 12/10/2023 02.52  Conto 1000/00071615   \n",
       "4                     Canone Mensile Mese Di Settembre  Conto 1000/00071615   \n",
       "6    EFFETTUATO IL 31/08/2023 ALLE ORE 0935 MEDIANT...  Conto 1000/00071615   \n",
       "8    Effettuato Il 30/08/2023 Alle Ore 1823 Mediant...  Conto 1000/00071615   \n",
       "..                                                 ...                  ...   \n",
       "93   COD. DISP.0123010901479277 NOMEmatteo Griot MA...  Conto 1000/00071615   \n",
       "94   COD. DISP.0123010901479277 NOMEmatteo Griot MA...  Conto 1000/00071615   \n",
       "95   Pagamento Su POS TRENIT S721130BSTAZIONE 09/01...  Conto 1000/00071615   \n",
       "97   EFFETTUATO IL 12/12/2022 ALLE ORE 0223 MEDIANT...  Conto 1000/00071615   \n",
       "101  EFFETTUATO IL 12/11/2022 ALLE ORE 0209 MEDIANT...  Conto 1000/00071615   \n",
       "\n",
       "      Contabilizzazione                        Categoria banca Valuta  \\\n",
       "0    NON CONTABILIZZATO                           Altre uscite    EUR   \n",
       "3    NON CONTABILIZZATO                           Altre uscite    EUR   \n",
       "4        CONTABILIZZATO           Imposte, bolli e commissioni    EUR   \n",
       "6        CONTABILIZZATO                             Carburanti    EUR   \n",
       "8        CONTABILIZZATO  Trasporti, noleggi, taxi e parcheggi     EUR   \n",
       "..                  ...                                    ...    ...   \n",
       "93       CONTABILIZZATO                Domiciliazioni e Utenze    EUR   \n",
       "94       CONTABILIZZATO           Imposte, bolli e commissioni    EUR   \n",
       "95       CONTABILIZZATO  Trasporti, noleggi, taxi e parcheggi     EUR   \n",
       "97       CONTABILIZZATO                              Cellulare    EUR   \n",
       "101      CONTABILIZZATO                              Cellulare    EUR   \n",
       "\n",
       "     Importo Categoria Subcategoria  Commento  \\\n",
       "0     -26.49       NaN          NaN       NaN   \n",
       "3      -5.99       NaN          NaN       NaN   \n",
       "4      -5.50       NaN          NaN       NaN   \n",
       "6     -60.50       NaN          NaN       NaN   \n",
       "8     -10.50       NaN          NaN       NaN   \n",
       "..       ...       ...          ...       ...   \n",
       "93     -8.50       NaN          NaN       NaN   \n",
       "94     -0.80       NaN          NaN       NaN   \n",
       "95   -102.00       NaN          NaN       NaN   \n",
       "97     -5.99       NaN          NaN       NaN   \n",
       "101    -5.99       NaN          NaN       NaN   \n",
       "\n",
       "                                           Descrizione  \\\n",
       "0    Pagamento Effettuato Su Pos Estero - Apple.com...   \n",
       "3    Pagamento Pos - Iliad Italia Milano 12/10/2023...   \n",
       "4    Canone Mensile Base E Servizi Aggiuntivi - Can...   \n",
       "6    GAMPI SRL Badesi - EFFETTUATO IL 31/08/2023 AL...   \n",
       "8    P.le Della Pace Lato Via Asfod Alghero - Effet...   \n",
       "..                                                 ...   \n",
       "93   Addebito Diretto Disposto A Favore Di Matteo G...   \n",
       "94   Commissioni E Spese Adue - COD. DISP.012301090...   \n",
       "95   Trenit S721130bstazione - Pagamento Su POS TRE...   \n",
       "97   ILIAD ITALIA Roma - EFFETTUATO IL 12/12/2022 A...   \n",
       "101  ILIAD ITALIA Roma - EFFETTUATO IL 12/11/2022 A...   \n",
       "\n",
       "                   Etichetta_predetta  \n",
       "0    Alimentazione - Spesa alimentare  \n",
       "3                  Utenze - Telefonia  \n",
       "4                      Utenze - Banca  \n",
       "6      Trasporti - Trasporto pubblico  \n",
       "8      Trasporti - Trasporto pubblico  \n",
       "..                                ...  \n",
       "93       Pagamenti esterni - Satispay  \n",
       "94       Pagamenti esterni - Satispay  \n",
       "95     Trasporti - Trasporto pubblico  \n",
       "97     Trasporti - Trasporto pubblico  \n",
       "101    Trasporti - Trasporto pubblico  \n",
       "\n",
       "[75 rows x 13 columns]"
      ]
     },
     "execution_count": 37,
     "metadata": {},
     "output_type": "execute_result"
    }
   ],
   "source": [
    "# Aggiungi le categorie predette al dataframe\n",
    "df_nan[\"Etichetta_predetta\"] = categorie_predette\n",
    "\n",
    "# Ora il tuo dataframe ha una nuova colonna 'Etichetta_predetta' con le categorie predette\n",
    "df_nan"
   ]
  },
  {
   "cell_type": "code",
   "execution_count": 41,
   "metadata": {},
   "outputs": [
    {
     "data": {
      "text/html": [
       "<div>\n",
       "<style scoped>\n",
       "    .dataframe tbody tr th:only-of-type {\n",
       "        vertical-align: middle;\n",
       "    }\n",
       "\n",
       "    .dataframe tbody tr th {\n",
       "        vertical-align: top;\n",
       "    }\n",
       "\n",
       "    .dataframe thead th {\n",
       "        text-align: right;\n",
       "    }\n",
       "</style>\n",
       "<table border=\"1\" class=\"dataframe\">\n",
       "  <thead>\n",
       "    <tr style=\"text-align: right;\">\n",
       "      <th></th>\n",
       "      <th>Data</th>\n",
       "      <th>Operazione</th>\n",
       "      <th>Dettagli</th>\n",
       "      <th>Conto o carta</th>\n",
       "      <th>Contabilizzazione</th>\n",
       "      <th>Categoria banca</th>\n",
       "      <th>Valuta</th>\n",
       "      <th>Importo</th>\n",
       "      <th>Categoria</th>\n",
       "      <th>Subcategoria</th>\n",
       "      <th>Commento</th>\n",
       "      <th>Descrizione</th>\n",
       "      <th>Etichetta_predetta</th>\n",
       "    </tr>\n",
       "  </thead>\n",
       "  <tbody>\n",
       "    <tr>\n",
       "      <th>0</th>\n",
       "      <td>2023-10-13T00:00:00</td>\n",
       "      <td>Pagamento Effettuato Su Pos Estero</td>\n",
       "      <td>Apple.com/bill Itunes.com 13/10/2023 18.51</td>\n",
       "      <td>Conto 1000/00071615</td>\n",
       "      <td>NON CONTABILIZZATO</td>\n",
       "      <td>Altre uscite</td>\n",
       "      <td>EUR</td>\n",
       "      <td>-26.49</td>\n",
       "      <td>NaN</td>\n",
       "      <td>NaN</td>\n",
       "      <td>NaN</td>\n",
       "      <td>Pagamento Effettuato Su Pos Estero - Apple.com...</td>\n",
       "      <td>NaN</td>\n",
       "    </tr>\n",
       "    <tr>\n",
       "      <th>1</th>\n",
       "      <td>2023-10-13T00:00:00</td>\n",
       "      <td>Stipendio O Pensione</td>\n",
       "      <td>COD. DISP. 0123101219839164 SALA 00908454 STIP...</td>\n",
       "      <td>Conto 1000/00071615</td>\n",
       "      <td>CONTABILIZZATO</td>\n",
       "      <td>Stipendi e pensioni</td>\n",
       "      <td>EUR</td>\n",
       "      <td>1680.92</td>\n",
       "      <td>Stipendi e pensioni</td>\n",
       "      <td>Stipendio</td>\n",
       "      <td>NaN</td>\n",
       "      <td>Stipendio O Pensione - COD. DISP. 012310121983...</td>\n",
       "      <td>NaN</td>\n",
       "    </tr>\n",
       "    <tr>\n",
       "      <th>2</th>\n",
       "      <td>2023-10-12T00:00:00</td>\n",
       "      <td>Pagamento Pos</td>\n",
       "      <td>Lidl 2552 Pinerolo 12/10/2023 18.21</td>\n",
       "      <td>Conto 1000/00071615</td>\n",
       "      <td>NON CONTABILIZZATO</td>\n",
       "      <td>Altre uscite</td>\n",
       "      <td>EUR</td>\n",
       "      <td>-4.77</td>\n",
       "      <td>Alimentazione</td>\n",
       "      <td>Spesa alimentare</td>\n",
       "      <td>NaN</td>\n",
       "      <td>Pagamento Pos - Lidl 2552 Pinerolo 12/10/2023 ...</td>\n",
       "      <td>NaN</td>\n",
       "    </tr>\n",
       "    <tr>\n",
       "      <th>3</th>\n",
       "      <td>2023-10-12T00:00:00</td>\n",
       "      <td>Pagamento Pos</td>\n",
       "      <td>Iliad Italia Milano 12/10/2023 02.52</td>\n",
       "      <td>Conto 1000/00071615</td>\n",
       "      <td>NON CONTABILIZZATO</td>\n",
       "      <td>Altre uscite</td>\n",
       "      <td>EUR</td>\n",
       "      <td>-5.99</td>\n",
       "      <td>NaN</td>\n",
       "      <td>NaN</td>\n",
       "      <td>NaN</td>\n",
       "      <td>Pagamento Pos - Iliad Italia Milano 12/10/2023...</td>\n",
       "      <td>NaN</td>\n",
       "    </tr>\n",
       "    <tr>\n",
       "      <th>4</th>\n",
       "      <td>2023-09-30T00:00:00</td>\n",
       "      <td>Canone Mensile Base E Servizi Aggiuntivi</td>\n",
       "      <td>Canone Mensile Mese Di Settembre</td>\n",
       "      <td>Conto 1000/00071615</td>\n",
       "      <td>CONTABILIZZATO</td>\n",
       "      <td>Imposte, bolli e commissioni</td>\n",
       "      <td>EUR</td>\n",
       "      <td>-5.50</td>\n",
       "      <td>NaN</td>\n",
       "      <td>NaN</td>\n",
       "      <td>NaN</td>\n",
       "      <td>Canone Mensile Base E Servizi Aggiuntivi - Can...</td>\n",
       "      <td>NaN</td>\n",
       "    </tr>\n",
       "  </tbody>\n",
       "</table>\n",
       "</div>"
      ],
      "text/plain": [
       "                  Data                                Operazione  \\\n",
       "0  2023-10-13T00:00:00        Pagamento Effettuato Su Pos Estero   \n",
       "1  2023-10-13T00:00:00                      Stipendio O Pensione   \n",
       "2  2023-10-12T00:00:00                             Pagamento Pos   \n",
       "3  2023-10-12T00:00:00                             Pagamento Pos   \n",
       "4  2023-09-30T00:00:00  Canone Mensile Base E Servizi Aggiuntivi   \n",
       "\n",
       "                                            Dettagli        Conto o carta  \\\n",
       "0         Apple.com/bill Itunes.com 13/10/2023 18.51  Conto 1000/00071615   \n",
       "1  COD. DISP. 0123101219839164 SALA 00908454 STIP...  Conto 1000/00071615   \n",
       "2                Lidl 2552 Pinerolo 12/10/2023 18.21  Conto 1000/00071615   \n",
       "3               Iliad Italia Milano 12/10/2023 02.52  Conto 1000/00071615   \n",
       "4                   Canone Mensile Mese Di Settembre  Conto 1000/00071615   \n",
       "\n",
       "    Contabilizzazione               Categoria banca Valuta  Importo  \\\n",
       "0  NON CONTABILIZZATO                  Altre uscite    EUR   -26.49   \n",
       "1      CONTABILIZZATO           Stipendi e pensioni    EUR  1680.92   \n",
       "2  NON CONTABILIZZATO                  Altre uscite    EUR    -4.77   \n",
       "3  NON CONTABILIZZATO                  Altre uscite    EUR    -5.99   \n",
       "4      CONTABILIZZATO  Imposte, bolli e commissioni    EUR    -5.50   \n",
       "\n",
       "             Categoria      Subcategoria  Commento  \\\n",
       "0                  NaN               NaN       NaN   \n",
       "1  Stipendi e pensioni         Stipendio       NaN   \n",
       "2        Alimentazione  Spesa alimentare       NaN   \n",
       "3                  NaN               NaN       NaN   \n",
       "4                  NaN               NaN       NaN   \n",
       "\n",
       "                                         Descrizione Etichetta_predetta  \n",
       "0  Pagamento Effettuato Su Pos Estero - Apple.com...                NaN  \n",
       "1  Stipendio O Pensione - COD. DISP. 012310121983...                NaN  \n",
       "2  Pagamento Pos - Lidl 2552 Pinerolo 12/10/2023 ...                NaN  \n",
       "3  Pagamento Pos - Iliad Italia Milano 12/10/2023...                NaN  \n",
       "4  Canone Mensile Base E Servizi Aggiuntivi - Can...                NaN  "
      ]
     },
     "execution_count": 41,
     "metadata": {},
     "output_type": "execute_result"
    }
   ],
   "source": [
    "# Unisci i dataframe di addestramento e di previsione\n",
    "df_completo = pd.concat([df, df_nan])\n",
    "\n",
    "# Ora df_completo contiene sia i dati di addestramento che i risultati delle previsioni\n",
    "df_completo.head()"
   ]
  },
  {
   "cell_type": "code",
   "execution_count": 40,
   "metadata": {},
   "outputs": [],
   "source": [
    "# Salva il dataframe in un file CSV\n",
    "df_completo.to_csv(\"../data/dataframev2.csv\", index=False)"
   ]
  },
  {
   "cell_type": "markdown",
   "metadata": {},
   "source": [
    "## codice compatto"
   ]
  },
  {
   "cell_type": "code",
   "execution_count": 48,
   "metadata": {},
   "outputs": [
    {
     "name": "stderr",
     "output_type": "stream",
     "text": [
      "C:\\Users\\Admin\\AppData\\Local\\Temp\\ipykernel_23936\\2295175777.py:13: SettingWithCopyWarning: \n",
      "A value is trying to be set on a copy of a slice from a DataFrame.\n",
      "Try using .loc[row_indexer,col_indexer] = value instead\n",
      "\n",
      "See the caveats in the documentation: https://pandas.pydata.org/pandas-docs/stable/user_guide/indexing.html#returning-a-view-versus-a-copy\n",
      "  df_training[\"Etichetta\"] = (\n",
      "C:\\Users\\Admin\\AppData\\Local\\Temp\\ipykernel_23936\\2295175777.py:41: SettingWithCopyWarning: \n",
      "A value is trying to be set on a copy of a slice from a DataFrame.\n",
      "Try using .loc[row_indexer,col_indexer] = value instead\n",
      "\n",
      "See the caveats in the documentation: https://pandas.pydata.org/pandas-docs/stable/user_guide/indexing.html#returning-a-view-versus-a-copy\n",
      "  df_nan[\"Etichetta_predetta\"] = categorie_predette\n"
     ]
    }
   ],
   "source": [
    "import pandas as pd\n",
    "import numpy as np\n",
    "from sklearn.feature_extraction.text import CountVectorizer\n",
    "from sklearn.naive_bayes import MultinomialNB\n",
    "from sklearn.preprocessing import LabelEncoder\n",
    "\n",
    "df = pd.read_csv(\"../data/dataframe.csv\")\n",
    "df[\"Descrizione\"] = (\n",
    "    df[\"Operazione\"] + \" - \" + df[\"Dettagli\"] + \" - \" + df[\"Categoria banca\"]\n",
    ")\n",
    "df_training = df.dropna(subset=[\"Categoria\", \"Subcategoria\"])\n",
    "df_nan = df[df[\"Categoria\"].isna() | df[\"Subcategoria\"].isna()]\n",
    "df_training[\"Etichetta\"] = (\n",
    "    df_training[\"Categoria\"] + \" - \" + df_training[\"Subcategoria\"]\n",
    ")\n",
    "transazioni = df_training[\"Descrizione\"].tolist()\n",
    "categorie = df_training[\"Etichetta\"].tolist()\n",
    "\n",
    "encoder = LabelEncoder()\n",
    "y = encoder.fit_transform(categorie)\n",
    "\n",
    "vectorizer = CountVectorizer()\n",
    "X = vectorizer.fit_transform(transazioni)\n",
    "\n",
    "model = MultinomialNB()\n",
    "model.fit(X, y)\n",
    "\n",
    "nuove_transazioni = df_nan[\"Dettagli\"].tolist()\n",
    "X_nuovo = vectorizer.transform(nuove_transazioni)\n",
    "\n",
    "probabilita_predizioni = model.predict_proba(X_nuovo)\n",
    "soglia_confidenza = 0.7\n",
    "categorie_predette = []\n",
    "\n",
    "for probabilita in probabilita_predizioni:\n",
    "    if max(probabilita) > soglia_confidenza:\n",
    "        categorie_predette.append(encoder.inverse_transform([probabilita.argmax()])[0])\n",
    "    else:\n",
    "        categorie_predette.append(np.nan)\n",
    "\n",
    "df_nan[\"Etichetta_predetta\"] = categorie_predette\n",
    "\n",
    "df_completo = pd.concat([df.reset_index(drop=True), df_nan.reset_index(drop=True)])\n",
    "\n",
    "df_completo[\"Etichetta_predetta\"] = df_completo[\"Etichetta_predetta\"].replace(\n",
    "    np.nan, \"\", regex=True\n",
    ")\n",
    "df_completo[[\"Categoria_temp\", \"Subcategoria_temp\"]] = df_completo[\n",
    "    \"Etichetta_predetta\"\n",
    "].str.split(\" - \", expand=True)\n",
    "\n",
    "df_completo[\"Categoria\"] = df_completo[\"Categoria\"].where(\n",
    "    df_completo[\"Etichetta_predetta\"] == \"\", df_completo[\"Categoria_temp\"]\n",
    ")\n",
    "df_completo[\"Subcategoria\"] = df_completo[\"Subcategoria\"].where(\n",
    "    df_completo[\"Etichetta_predetta\"] == \"\", df_completo[\"Subcategoria_temp\"]\n",
    ")\n",
    "\n",
    "df_completo = df_completo.drop([\"Categoria_temp\", \"Subcategoria_temp\"], axis=1)\n",
    "# Supponendo che 'Data' sia la colonna che contiene le date\n",
    "df_completo = df_completo.sort_values(\"Data\")\n",
    "# Resetta l'indice del DataFrame\n",
    "df_completo = df_completo.reset_index(drop=True)"
   ]
  },
  {
   "cell_type": "code",
   "execution_count": 50,
   "metadata": {},
   "outputs": [
    {
     "data": {
      "text/html": [
       "<div>\n",
       "<style scoped>\n",
       "    .dataframe tbody tr th:only-of-type {\n",
       "        vertical-align: middle;\n",
       "    }\n",
       "\n",
       "    .dataframe tbody tr th {\n",
       "        vertical-align: top;\n",
       "    }\n",
       "\n",
       "    .dataframe thead th {\n",
       "        text-align: right;\n",
       "    }\n",
       "</style>\n",
       "<table border=\"1\" class=\"dataframe\">\n",
       "  <thead>\n",
       "    <tr style=\"text-align: right;\">\n",
       "      <th></th>\n",
       "      <th>Data</th>\n",
       "      <th>Operazione</th>\n",
       "      <th>Dettagli</th>\n",
       "      <th>Conto o carta</th>\n",
       "      <th>Contabilizzazione</th>\n",
       "      <th>Categoria banca</th>\n",
       "      <th>Valuta</th>\n",
       "      <th>Importo</th>\n",
       "      <th>Categoria</th>\n",
       "      <th>Subcategoria</th>\n",
       "      <th>Commento</th>\n",
       "      <th>Descrizione</th>\n",
       "      <th>Etichetta_predetta</th>\n",
       "    </tr>\n",
       "  </thead>\n",
       "  <tbody>\n",
       "    <tr>\n",
       "      <th>0</th>\n",
       "      <td>2022-11-02T00:00:00</td>\n",
       "      <td>Trenit S721130bstazione Pinerolo</td>\n",
       "      <td>Effettuato Il 02/11/2022 Alle Ore 0740 Mediant...</td>\n",
       "      <td>Conto 1000/00071615</td>\n",
       "      <td>CONTABILIZZATO</td>\n",
       "      <td>Trasporti, noleggi, taxi e parcheggi</td>\n",
       "      <td>EUR</td>\n",
       "      <td>-42.00</td>\n",
       "      <td>Trasporti</td>\n",
       "      <td>Trasporto pubblico</td>\n",
       "      <td>NaN</td>\n",
       "      <td>Trenit S721130bstazione Pinerolo - Effettuato ...</td>\n",
       "      <td></td>\n",
       "    </tr>\n",
       "    <tr>\n",
       "      <th>1</th>\n",
       "      <td>2022-11-05T00:00:00</td>\n",
       "      <td>Lappetito Corso Torino 48 P</td>\n",
       "      <td>LAPPETITO CORSO TORINO 48 P05/112058 Carta N.5...</td>\n",
       "      <td>Conto 1000/00071615</td>\n",
       "      <td>CONTABILIZZATO</td>\n",
       "      <td>Ristoranti e bar</td>\n",
       "      <td>EUR</td>\n",
       "      <td>-14.00</td>\n",
       "      <td>Alimentazione</td>\n",
       "      <td>Ristorante</td>\n",
       "      <td>NaN</td>\n",
       "      <td>Lappetito Corso Torino 48 P - LAPPETITO CORSO ...</td>\n",
       "      <td></td>\n",
       "    </tr>\n",
       "    <tr>\n",
       "      <th>2</th>\n",
       "      <td>2022-11-12T00:00:00</td>\n",
       "      <td>ILIAD ITALIA Roma</td>\n",
       "      <td>EFFETTUATO IL 12/11/2022 ALLE ORE 0209 MEDIANT...</td>\n",
       "      <td>Conto 1000/00071615</td>\n",
       "      <td>CONTABILIZZATO</td>\n",
       "      <td>Cellulare</td>\n",
       "      <td>EUR</td>\n",
       "      <td>-5.99</td>\n",
       "      <td>Trasporti</td>\n",
       "      <td>Trasporto pubblico</td>\n",
       "      <td>NaN</td>\n",
       "      <td>ILIAD ITALIA Roma - EFFETTUATO IL 12/11/2022 A...</td>\n",
       "      <td>Trasporti - Trasporto pubblico</td>\n",
       "    </tr>\n",
       "    <tr>\n",
       "      <th>3</th>\n",
       "      <td>2022-11-12T00:00:00</td>\n",
       "      <td>ILIAD ITALIA Roma</td>\n",
       "      <td>EFFETTUATO IL 12/11/2022 ALLE ORE 0209 MEDIANT...</td>\n",
       "      <td>Conto 1000/00071615</td>\n",
       "      <td>CONTABILIZZATO</td>\n",
       "      <td>Cellulare</td>\n",
       "      <td>EUR</td>\n",
       "      <td>-5.99</td>\n",
       "      <td>NaN</td>\n",
       "      <td>NaN</td>\n",
       "      <td>NaN</td>\n",
       "      <td>ILIAD ITALIA Roma - EFFETTUATO IL 12/11/2022 A...</td>\n",
       "      <td></td>\n",
       "    </tr>\n",
       "    <tr>\n",
       "      <th>4</th>\n",
       "      <td>2022-12-01T00:00:00</td>\n",
       "      <td>Trenit S721130bstazione Pinerolo</td>\n",
       "      <td>Effettuato Il 01/12/2022 Alle Ore 0806 Mediant...</td>\n",
       "      <td>Conto 1000/00071615</td>\n",
       "      <td>CONTABILIZZATO</td>\n",
       "      <td>Trasporti, noleggi, taxi e parcheggi</td>\n",
       "      <td>EUR</td>\n",
       "      <td>-42.00</td>\n",
       "      <td>Trasporti</td>\n",
       "      <td>Trasporto pubblico</td>\n",
       "      <td>NaN</td>\n",
       "      <td>Trenit S721130bstazione Pinerolo - Effettuato ...</td>\n",
       "      <td></td>\n",
       "    </tr>\n",
       "    <tr>\n",
       "      <th>...</th>\n",
       "      <td>...</td>\n",
       "      <td>...</td>\n",
       "      <td>...</td>\n",
       "      <td>...</td>\n",
       "      <td>...</td>\n",
       "      <td>...</td>\n",
       "      <td>...</td>\n",
       "      <td>...</td>\n",
       "      <td>...</td>\n",
       "      <td>...</td>\n",
       "      <td>...</td>\n",
       "      <td>...</td>\n",
       "      <td>...</td>\n",
       "    </tr>\n",
       "    <tr>\n",
       "      <th>174</th>\n",
       "      <td>2023-10-12T00:00:00</td>\n",
       "      <td>Pagamento Pos</td>\n",
       "      <td>Iliad Italia Milano 12/10/2023 02.52</td>\n",
       "      <td>Conto 1000/00071615</td>\n",
       "      <td>NON CONTABILIZZATO</td>\n",
       "      <td>Altre uscite</td>\n",
       "      <td>EUR</td>\n",
       "      <td>-5.99</td>\n",
       "      <td>NaN</td>\n",
       "      <td>NaN</td>\n",
       "      <td>NaN</td>\n",
       "      <td>Pagamento Pos - Iliad Italia Milano 12/10/2023...</td>\n",
       "      <td></td>\n",
       "    </tr>\n",
       "    <tr>\n",
       "      <th>175</th>\n",
       "      <td>2023-10-12T00:00:00</td>\n",
       "      <td>Pagamento Pos</td>\n",
       "      <td>Lidl 2552 Pinerolo 12/10/2023 18.21</td>\n",
       "      <td>Conto 1000/00071615</td>\n",
       "      <td>NON CONTABILIZZATO</td>\n",
       "      <td>Altre uscite</td>\n",
       "      <td>EUR</td>\n",
       "      <td>-4.77</td>\n",
       "      <td>Alimentazione</td>\n",
       "      <td>Spesa alimentare</td>\n",
       "      <td>NaN</td>\n",
       "      <td>Pagamento Pos - Lidl 2552 Pinerolo 12/10/2023 ...</td>\n",
       "      <td></td>\n",
       "    </tr>\n",
       "    <tr>\n",
       "      <th>176</th>\n",
       "      <td>2023-10-13T00:00:00</td>\n",
       "      <td>Pagamento Effettuato Su Pos Estero</td>\n",
       "      <td>Apple.com/bill Itunes.com 13/10/2023 18.51</td>\n",
       "      <td>Conto 1000/00071615</td>\n",
       "      <td>NON CONTABILIZZATO</td>\n",
       "      <td>Altre uscite</td>\n",
       "      <td>EUR</td>\n",
       "      <td>-26.49</td>\n",
       "      <td>NaN</td>\n",
       "      <td>NaN</td>\n",
       "      <td>NaN</td>\n",
       "      <td>Pagamento Effettuato Su Pos Estero - Apple.com...</td>\n",
       "      <td></td>\n",
       "    </tr>\n",
       "    <tr>\n",
       "      <th>177</th>\n",
       "      <td>2023-10-13T00:00:00</td>\n",
       "      <td>Stipendio O Pensione</td>\n",
       "      <td>COD. DISP. 0123101219839164 SALA 00908454 STIP...</td>\n",
       "      <td>Conto 1000/00071615</td>\n",
       "      <td>CONTABILIZZATO</td>\n",
       "      <td>Stipendi e pensioni</td>\n",
       "      <td>EUR</td>\n",
       "      <td>1680.92</td>\n",
       "      <td>Stipendi e pensioni</td>\n",
       "      <td>Stipendio</td>\n",
       "      <td>NaN</td>\n",
       "      <td>Stipendio O Pensione - COD. DISP. 012310121983...</td>\n",
       "      <td></td>\n",
       "    </tr>\n",
       "    <tr>\n",
       "      <th>178</th>\n",
       "      <td>2023-10-13T00:00:00</td>\n",
       "      <td>Pagamento Effettuato Su Pos Estero</td>\n",
       "      <td>Apple.com/bill Itunes.com 13/10/2023 18.51</td>\n",
       "      <td>Conto 1000/00071615</td>\n",
       "      <td>NON CONTABILIZZATO</td>\n",
       "      <td>Altre uscite</td>\n",
       "      <td>EUR</td>\n",
       "      <td>-26.49</td>\n",
       "      <td>NaN</td>\n",
       "      <td>NaN</td>\n",
       "      <td>NaN</td>\n",
       "      <td>Pagamento Effettuato Su Pos Estero - Apple.com...</td>\n",
       "      <td></td>\n",
       "    </tr>\n",
       "  </tbody>\n",
       "</table>\n",
       "<p>179 rows × 13 columns</p>\n",
       "</div>"
      ],
      "text/plain": [
       "                    Data                          Operazione  \\\n",
       "0    2022-11-02T00:00:00    Trenit S721130bstazione Pinerolo   \n",
       "1    2022-11-05T00:00:00         Lappetito Corso Torino 48 P   \n",
       "2    2022-11-12T00:00:00                   ILIAD ITALIA Roma   \n",
       "3    2022-11-12T00:00:00                   ILIAD ITALIA Roma   \n",
       "4    2022-12-01T00:00:00    Trenit S721130bstazione Pinerolo   \n",
       "..                   ...                                 ...   \n",
       "174  2023-10-12T00:00:00                       Pagamento Pos   \n",
       "175  2023-10-12T00:00:00                       Pagamento Pos   \n",
       "176  2023-10-13T00:00:00  Pagamento Effettuato Su Pos Estero   \n",
       "177  2023-10-13T00:00:00                Stipendio O Pensione   \n",
       "178  2023-10-13T00:00:00  Pagamento Effettuato Su Pos Estero   \n",
       "\n",
       "                                              Dettagli        Conto o carta  \\\n",
       "0    Effettuato Il 02/11/2022 Alle Ore 0740 Mediant...  Conto 1000/00071615   \n",
       "1    LAPPETITO CORSO TORINO 48 P05/112058 Carta N.5...  Conto 1000/00071615   \n",
       "2    EFFETTUATO IL 12/11/2022 ALLE ORE 0209 MEDIANT...  Conto 1000/00071615   \n",
       "3    EFFETTUATO IL 12/11/2022 ALLE ORE 0209 MEDIANT...  Conto 1000/00071615   \n",
       "4    Effettuato Il 01/12/2022 Alle Ore 0806 Mediant...  Conto 1000/00071615   \n",
       "..                                                 ...                  ...   \n",
       "174               Iliad Italia Milano 12/10/2023 02.52  Conto 1000/00071615   \n",
       "175                Lidl 2552 Pinerolo 12/10/2023 18.21  Conto 1000/00071615   \n",
       "176         Apple.com/bill Itunes.com 13/10/2023 18.51  Conto 1000/00071615   \n",
       "177  COD. DISP. 0123101219839164 SALA 00908454 STIP...  Conto 1000/00071615   \n",
       "178         Apple.com/bill Itunes.com 13/10/2023 18.51  Conto 1000/00071615   \n",
       "\n",
       "      Contabilizzazione                        Categoria banca Valuta  \\\n",
       "0        CONTABILIZZATO  Trasporti, noleggi, taxi e parcheggi     EUR   \n",
       "1        CONTABILIZZATO                       Ristoranti e bar    EUR   \n",
       "2        CONTABILIZZATO                              Cellulare    EUR   \n",
       "3        CONTABILIZZATO                              Cellulare    EUR   \n",
       "4        CONTABILIZZATO  Trasporti, noleggi, taxi e parcheggi     EUR   \n",
       "..                  ...                                    ...    ...   \n",
       "174  NON CONTABILIZZATO                           Altre uscite    EUR   \n",
       "175  NON CONTABILIZZATO                           Altre uscite    EUR   \n",
       "176  NON CONTABILIZZATO                           Altre uscite    EUR   \n",
       "177      CONTABILIZZATO                    Stipendi e pensioni    EUR   \n",
       "178  NON CONTABILIZZATO                           Altre uscite    EUR   \n",
       "\n",
       "     Importo            Categoria        Subcategoria  Commento  \\\n",
       "0     -42.00            Trasporti  Trasporto pubblico       NaN   \n",
       "1     -14.00        Alimentazione          Ristorante       NaN   \n",
       "2      -5.99            Trasporti  Trasporto pubblico       NaN   \n",
       "3      -5.99                  NaN                 NaN       NaN   \n",
       "4     -42.00            Trasporti  Trasporto pubblico       NaN   \n",
       "..       ...                  ...                 ...       ...   \n",
       "174    -5.99                  NaN                 NaN       NaN   \n",
       "175    -4.77        Alimentazione    Spesa alimentare       NaN   \n",
       "176   -26.49                  NaN                 NaN       NaN   \n",
       "177  1680.92  Stipendi e pensioni           Stipendio       NaN   \n",
       "178   -26.49                  NaN                 NaN       NaN   \n",
       "\n",
       "                                           Descrizione  \\\n",
       "0    Trenit S721130bstazione Pinerolo - Effettuato ...   \n",
       "1    Lappetito Corso Torino 48 P - LAPPETITO CORSO ...   \n",
       "2    ILIAD ITALIA Roma - EFFETTUATO IL 12/11/2022 A...   \n",
       "3    ILIAD ITALIA Roma - EFFETTUATO IL 12/11/2022 A...   \n",
       "4    Trenit S721130bstazione Pinerolo - Effettuato ...   \n",
       "..                                                 ...   \n",
       "174  Pagamento Pos - Iliad Italia Milano 12/10/2023...   \n",
       "175  Pagamento Pos - Lidl 2552 Pinerolo 12/10/2023 ...   \n",
       "176  Pagamento Effettuato Su Pos Estero - Apple.com...   \n",
       "177  Stipendio O Pensione - COD. DISP. 012310121983...   \n",
       "178  Pagamento Effettuato Su Pos Estero - Apple.com...   \n",
       "\n",
       "                 Etichetta_predetta  \n",
       "0                                    \n",
       "1                                    \n",
       "2    Trasporti - Trasporto pubblico  \n",
       "3                                    \n",
       "4                                    \n",
       "..                              ...  \n",
       "174                                  \n",
       "175                                  \n",
       "176                                  \n",
       "177                                  \n",
       "178                                  \n",
       "\n",
       "[179 rows x 13 columns]"
      ]
     },
     "execution_count": 50,
     "metadata": {},
     "output_type": "execute_result"
    }
   ],
   "source": [
    "df_completo"
   ]
  },
  {
   "cell_type": "markdown",
   "metadata": {},
   "source": [
    "# Importare e tenere aggiornata la lista dei movimenti bancari"
   ]
  },
  {
   "cell_type": "code",
   "execution_count": 19,
   "metadata": {},
   "outputs": [],
   "source": [
    "import pandas as pd"
   ]
  },
  {
   "cell_type": "code",
   "execution_count": 20,
   "metadata": {},
   "outputs": [],
   "source": [
    "file_path = \"../data/lista_completa_15112023.xlsx\"\n",
    "dataframe = \"../data/dataframe.csv\""
   ]
  },
  {
   "cell_type": "code",
   "execution_count": 21,
   "metadata": {},
   "outputs": [],
   "source": [
    "\n",
    "def process_data(file_path):\n",
    "    # Carica il file xlsx in un DataFrame\n",
    "    df = pd.read_excel(file_path)\n",
    "    # Rimuovi le prime righe fino alla prima cella vuota nella prima colonna\n",
    "    df = df[df.iloc[:, 0].notna()]\n",
    "    # Imposta la prima riga come nuova intestazione\n",
    "    new_header = df.iloc[0]\n",
    "    # Rimuovi la prima riga dal DataFrame\n",
    "    df = df[1:]\n",
    "    # Rinomina gli indici del DataFrame con i valori della nuova intestazione\n",
    "    df = df.rename(columns=new_header)\n",
    "    # Resetta gli indici del DataFrame\n",
    "    df = df.reset_index(drop=True)\n",
    "    # Converte la colonna \"Data\" in formato datetime\n",
    "    df[\"Data\"] = pd.to_datetime(df[\"Data\"])\n",
    "    # Rinomina la colonna 'Categoria' in 'Categoria banca'\n",
    "    df = df.rename(columns={\"Categoria \": \"Categoria banca\"})\n",
    "    # Aggiungi le nuove colonne 'Categoria' e 'Subcategoria'\n",
    "    df[\"Categoria\"] = None\n",
    "    df[\"Subcategoria\"] = None\n",
    "    df[\"Commento\"] = None\n",
    "\n",
    "    return df"
   ]
  },
  {
   "cell_type": "code",
   "execution_count": 22,
   "metadata": {},
   "outputs": [
    {
     "data": {
      "text/html": [
       "<div>\n",
       "<style scoped>\n",
       "    .dataframe tbody tr th:only-of-type {\n",
       "        vertical-align: middle;\n",
       "    }\n",
       "\n",
       "    .dataframe tbody tr th {\n",
       "        vertical-align: top;\n",
       "    }\n",
       "\n",
       "    .dataframe thead th {\n",
       "        text-align: right;\n",
       "    }\n",
       "</style>\n",
       "<table border=\"1\" class=\"dataframe\">\n",
       "  <thead>\n",
       "    <tr style=\"text-align: right;\">\n",
       "      <th></th>\n",
       "      <th>Data</th>\n",
       "      <th>Operazione</th>\n",
       "      <th>Dettagli</th>\n",
       "      <th>Conto o carta</th>\n",
       "      <th>Contabilizzazione</th>\n",
       "      <th>Categoria banca</th>\n",
       "      <th>Valuta</th>\n",
       "      <th>Importo</th>\n",
       "      <th>Categoria</th>\n",
       "      <th>Subcategoria</th>\n",
       "      <th>Commento</th>\n",
       "    </tr>\n",
       "  </thead>\n",
       "  <tbody>\n",
       "    <tr>\n",
       "      <th>0</th>\n",
       "      <td>2023-11-14</td>\n",
       "      <td>Lco</td>\n",
       "      <td>Pagamento Su POS LCO 14/111746 Carta N.5167 XX...</td>\n",
       "      <td>Conto 1000/00071615</td>\n",
       "      <td>CONTABILIZZATO</td>\n",
       "      <td>Carburanti</td>\n",
       "      <td>EUR</td>\n",
       "      <td>-40.08</td>\n",
       "      <td>None</td>\n",
       "      <td>None</td>\n",
       "      <td>None</td>\n",
       "    </tr>\n",
       "    <tr>\n",
       "      <th>1</th>\n",
       "      <td>2023-11-14</td>\n",
       "      <td>Addebito Diretto Disposto A Favore Di Matteo G...</td>\n",
       "      <td>COD. DISP.0123111352382608 NOMEmatteo Griot MA...</td>\n",
       "      <td>Conto 1000/00071615</td>\n",
       "      <td>CONTABILIZZATO</td>\n",
       "      <td>Domiciliazioni e Utenze</td>\n",
       "      <td>EUR</td>\n",
       "      <td>-14.3</td>\n",
       "      <td>None</td>\n",
       "      <td>None</td>\n",
       "      <td>None</td>\n",
       "    </tr>\n",
       "    <tr>\n",
       "      <th>2</th>\n",
       "      <td>2023-11-14</td>\n",
       "      <td>Commissioni E Spese Adue</td>\n",
       "      <td>COD. DISP.0123111352382608 NOMEmatteo Griot MA...</td>\n",
       "      <td>Conto 1000/00071615</td>\n",
       "      <td>CONTABILIZZATO</td>\n",
       "      <td>Imposte, bolli e commissioni</td>\n",
       "      <td>EUR</td>\n",
       "      <td>-0.8</td>\n",
       "      <td>None</td>\n",
       "      <td>None</td>\n",
       "      <td>None</td>\n",
       "    </tr>\n",
       "    <tr>\n",
       "      <th>3</th>\n",
       "      <td>2023-11-14</td>\n",
       "      <td>Stipendio O Pensione</td>\n",
       "      <td>COD. DISP. 0123111353834605 SALA 00916427 STIP...</td>\n",
       "      <td>Conto 1000/00071615</td>\n",
       "      <td>CONTABILIZZATO</td>\n",
       "      <td>Stipendi e pensioni</td>\n",
       "      <td>EUR</td>\n",
       "      <td>1895.44</td>\n",
       "      <td>None</td>\n",
       "      <td>None</td>\n",
       "      <td>None</td>\n",
       "    </tr>\n",
       "    <tr>\n",
       "      <th>4</th>\n",
       "      <td>2023-11-12</td>\n",
       "      <td>ILIAD ITALIA Roma</td>\n",
       "      <td>EFFETTUATO IL 12/11/2023 ALLE ORE 0253 MEDIANT...</td>\n",
       "      <td>Conto 1000/00071615</td>\n",
       "      <td>CONTABILIZZATO</td>\n",
       "      <td>Cellulare</td>\n",
       "      <td>EUR</td>\n",
       "      <td>-5.99</td>\n",
       "      <td>None</td>\n",
       "      <td>None</td>\n",
       "      <td>None</td>\n",
       "    </tr>\n",
       "  </tbody>\n",
       "</table>\n",
       "</div>"
      ],
      "text/plain": [
       "        Data                                         Operazione  \\\n",
       "0 2023-11-14                                                Lco   \n",
       "1 2023-11-14  Addebito Diretto Disposto A Favore Di Matteo G...   \n",
       "2 2023-11-14                           Commissioni E Spese Adue   \n",
       "3 2023-11-14                               Stipendio O Pensione   \n",
       "4 2023-11-12                                  ILIAD ITALIA Roma   \n",
       "\n",
       "                                            Dettagli        Conto o carta  \\\n",
       "0  Pagamento Su POS LCO 14/111746 Carta N.5167 XX...  Conto 1000/00071615   \n",
       "1  COD. DISP.0123111352382608 NOMEmatteo Griot MA...  Conto 1000/00071615   \n",
       "2  COD. DISP.0123111352382608 NOMEmatteo Griot MA...  Conto 1000/00071615   \n",
       "3  COD. DISP. 0123111353834605 SALA 00916427 STIP...  Conto 1000/00071615   \n",
       "4  EFFETTUATO IL 12/11/2023 ALLE ORE 0253 MEDIANT...  Conto 1000/00071615   \n",
       "\n",
       "  Contabilizzazione               Categoria banca Valuta  Importo Categoria  \\\n",
       "0    CONTABILIZZATO                    Carburanti    EUR   -40.08      None   \n",
       "1    CONTABILIZZATO       Domiciliazioni e Utenze    EUR    -14.3      None   \n",
       "2    CONTABILIZZATO  Imposte, bolli e commissioni    EUR     -0.8      None   \n",
       "3    CONTABILIZZATO           Stipendi e pensioni    EUR  1895.44      None   \n",
       "4    CONTABILIZZATO                     Cellulare    EUR    -5.99      None   \n",
       "\n",
       "  Subcategoria Commento  \n",
       "0         None     None  \n",
       "1         None     None  \n",
       "2         None     None  \n",
       "3         None     None  \n",
       "4         None     None  "
      ]
     },
     "execution_count": 22,
     "metadata": {},
     "output_type": "execute_result"
    }
   ],
   "source": [
    "new_data = process_data(file_path)\n",
    "new_data.head()"
   ]
  },
  {
   "cell_type": "code",
   "execution_count": 26,
   "metadata": {},
   "outputs": [],
   "source": [
    "def merge_and_sort(df1, df2, columns):\n",
    "    # Unisci i due DataFrame\n",
    "    df = pd.concat([df1, df2], keys=[\"df1\", \"df2\"])\n",
    "\n",
    "    # Converte la colonna \"Data\" in formato datetime\n",
    "    df[\"Data\"] = pd.to_datetime(df[\"Data\"], errors=\"coerce\")\n",
    "\n",
    "    # Verifica se ci sono valori non validi nella colonna \"Data\"\n",
    "    if df[\"Data\"].isnull().any():\n",
    "        print(\n",
    "            \"Attenzione: ci sono valori non validi nella colonna 'Data' che non possono essere convertiti in datetime.\"\n",
    "        )\n",
    "        return df\n",
    "\n",
    "    # Rimuovi i duplicati basandoti su specifiche colonne, mantenendo la prima occorrenza (quella da df1)\n",
    "    df = df.loc[~df.duplicated(subset=columns, keep=\"first\")]\n",
    "\n",
    "    # Ordina il DataFrame in base alla colonna \"Data\"\n",
    "    df = df.sort_values(\"Data\")\n",
    "\n",
    "    # Resetta l'indice\n",
    "    df = df.reset_index(drop=True)\n",
    "\n",
    "    return df"
   ]
  },
  {
   "cell_type": "code",
   "execution_count": 24,
   "metadata": {},
   "outputs": [
    {
     "data": {
      "text/html": [
       "<div>\n",
       "<style scoped>\n",
       "    .dataframe tbody tr th:only-of-type {\n",
       "        vertical-align: middle;\n",
       "    }\n",
       "\n",
       "    .dataframe tbody tr th {\n",
       "        vertical-align: top;\n",
       "    }\n",
       "\n",
       "    .dataframe thead th {\n",
       "        text-align: right;\n",
       "    }\n",
       "</style>\n",
       "<table border=\"1\" class=\"dataframe\">\n",
       "  <thead>\n",
       "    <tr style=\"text-align: right;\">\n",
       "      <th></th>\n",
       "      <th>Unnamed: 0</th>\n",
       "      <th>Data</th>\n",
       "      <th>Operazione</th>\n",
       "      <th>Dettagli</th>\n",
       "      <th>Conto o carta</th>\n",
       "      <th>Contabilizzazione</th>\n",
       "      <th>Categoria banca</th>\n",
       "      <th>Valuta</th>\n",
       "      <th>Importo</th>\n",
       "      <th>Categoria</th>\n",
       "      <th>Subcategoria</th>\n",
       "      <th>Commento</th>\n",
       "    </tr>\n",
       "  </thead>\n",
       "  <tbody>\n",
       "    <tr>\n",
       "      <th>0</th>\n",
       "      <td>0</td>\n",
       "      <td>2023-10-13</td>\n",
       "      <td>Pagamento Effettuato Su Pos Estero</td>\n",
       "      <td>Apple.com/bill Itunes.com 13/10/2023 18.51</td>\n",
       "      <td>Conto 1000/00071615</td>\n",
       "      <td>NON CONTABILIZZATO</td>\n",
       "      <td>Altre uscite</td>\n",
       "      <td>EUR</td>\n",
       "      <td>-26.49</td>\n",
       "      <td>NaN</td>\n",
       "      <td>NaN</td>\n",
       "      <td>NaN</td>\n",
       "    </tr>\n",
       "    <tr>\n",
       "      <th>1</th>\n",
       "      <td>1</td>\n",
       "      <td>2023-10-13</td>\n",
       "      <td>Stipendio O Pensione</td>\n",
       "      <td>COD. DISP. 0123101219839164 SALA 00908454 STIP...</td>\n",
       "      <td>Conto 1000/00071615</td>\n",
       "      <td>CONTABILIZZATO</td>\n",
       "      <td>Stipendi e pensioni</td>\n",
       "      <td>EUR</td>\n",
       "      <td>1680.92</td>\n",
       "      <td>NaN</td>\n",
       "      <td>NaN</td>\n",
       "      <td>NaN</td>\n",
       "    </tr>\n",
       "    <tr>\n",
       "      <th>2</th>\n",
       "      <td>2</td>\n",
       "      <td>2023-10-12</td>\n",
       "      <td>Pagamento Pos</td>\n",
       "      <td>Lidl 2552 Pinerolo 12/10/2023 18.21</td>\n",
       "      <td>Conto 1000/00071615</td>\n",
       "      <td>NON CONTABILIZZATO</td>\n",
       "      <td>Altre uscite</td>\n",
       "      <td>EUR</td>\n",
       "      <td>-4.77</td>\n",
       "      <td>NaN</td>\n",
       "      <td>NaN</td>\n",
       "      <td>NaN</td>\n",
       "    </tr>\n",
       "    <tr>\n",
       "      <th>3</th>\n",
       "      <td>3</td>\n",
       "      <td>2023-10-12</td>\n",
       "      <td>Pagamento Pos</td>\n",
       "      <td>Iliad Italia Milano 12/10/2023 02.52</td>\n",
       "      <td>Conto 1000/00071615</td>\n",
       "      <td>NON CONTABILIZZATO</td>\n",
       "      <td>Altre uscite</td>\n",
       "      <td>EUR</td>\n",
       "      <td>-5.99</td>\n",
       "      <td>NaN</td>\n",
       "      <td>NaN</td>\n",
       "      <td>NaN</td>\n",
       "    </tr>\n",
       "    <tr>\n",
       "      <th>4</th>\n",
       "      <td>4</td>\n",
       "      <td>2023-09-30</td>\n",
       "      <td>Canone Mensile Base E Servizi Aggiuntivi</td>\n",
       "      <td>Canone Mensile Mese Di Settembre</td>\n",
       "      <td>Conto 1000/00071615</td>\n",
       "      <td>CONTABILIZZATO</td>\n",
       "      <td>Imposte, bolli e commissioni</td>\n",
       "      <td>EUR</td>\n",
       "      <td>-5.50</td>\n",
       "      <td>NaN</td>\n",
       "      <td>NaN</td>\n",
       "      <td>NaN</td>\n",
       "    </tr>\n",
       "  </tbody>\n",
       "</table>\n",
       "</div>"
      ],
      "text/plain": [
       "   Unnamed: 0        Data                                Operazione  \\\n",
       "0           0  2023-10-13        Pagamento Effettuato Su Pos Estero   \n",
       "1           1  2023-10-13                      Stipendio O Pensione   \n",
       "2           2  2023-10-12                             Pagamento Pos   \n",
       "3           3  2023-10-12                             Pagamento Pos   \n",
       "4           4  2023-09-30  Canone Mensile Base E Servizi Aggiuntivi   \n",
       "\n",
       "                                            Dettagli        Conto o carta  \\\n",
       "0         Apple.com/bill Itunes.com 13/10/2023 18.51  Conto 1000/00071615   \n",
       "1  COD. DISP. 0123101219839164 SALA 00908454 STIP...  Conto 1000/00071615   \n",
       "2                Lidl 2552 Pinerolo 12/10/2023 18.21  Conto 1000/00071615   \n",
       "3               Iliad Italia Milano 12/10/2023 02.52  Conto 1000/00071615   \n",
       "4                   Canone Mensile Mese Di Settembre  Conto 1000/00071615   \n",
       "\n",
       "    Contabilizzazione               Categoria banca Valuta  Importo  \\\n",
       "0  NON CONTABILIZZATO                  Altre uscite    EUR   -26.49   \n",
       "1      CONTABILIZZATO           Stipendi e pensioni    EUR  1680.92   \n",
       "2  NON CONTABILIZZATO                  Altre uscite    EUR    -4.77   \n",
       "3  NON CONTABILIZZATO                  Altre uscite    EUR    -5.99   \n",
       "4      CONTABILIZZATO  Imposte, bolli e commissioni    EUR    -5.50   \n",
       "\n",
       "   Categoria  Subcategoria  Commento  \n",
       "0        NaN           NaN       NaN  \n",
       "1        NaN           NaN       NaN  \n",
       "2        NaN           NaN       NaN  \n",
       "3        NaN           NaN       NaN  \n",
       "4        NaN           NaN       NaN  "
      ]
     },
     "execution_count": 24,
     "metadata": {},
     "output_type": "execute_result"
    }
   ],
   "source": [
    "pd.read_csv(dataframe).head()"
   ]
  },
  {
   "cell_type": "code",
   "execution_count": 27,
   "metadata": {},
   "outputs": [
    {
     "data": {
      "text/html": [
       "<div>\n",
       "<style scoped>\n",
       "    .dataframe tbody tr th:only-of-type {\n",
       "        vertical-align: middle;\n",
       "    }\n",
       "\n",
       "    .dataframe tbody tr th {\n",
       "        vertical-align: top;\n",
       "    }\n",
       "\n",
       "    .dataframe thead th {\n",
       "        text-align: right;\n",
       "    }\n",
       "</style>\n",
       "<table border=\"1\" class=\"dataframe\">\n",
       "  <thead>\n",
       "    <tr style=\"text-align: right;\">\n",
       "      <th></th>\n",
       "      <th>Unnamed: 0</th>\n",
       "      <th>Data</th>\n",
       "      <th>Operazione</th>\n",
       "      <th>Dettagli</th>\n",
       "      <th>Conto o carta</th>\n",
       "      <th>Contabilizzazione</th>\n",
       "      <th>Categoria banca</th>\n",
       "      <th>Valuta</th>\n",
       "      <th>Importo</th>\n",
       "      <th>Categoria</th>\n",
       "      <th>Subcategoria</th>\n",
       "      <th>Commento</th>\n",
       "    </tr>\n",
       "  </thead>\n",
       "  <tbody>\n",
       "    <tr>\n",
       "      <th>0</th>\n",
       "      <td>103.0</td>\n",
       "      <td>2022-11-02</td>\n",
       "      <td>Trenit S721130bstazione Pinerolo</td>\n",
       "      <td>Effettuato Il 02/11/2022 Alle Ore 0740 Mediant...</td>\n",
       "      <td>Conto 1000/00071615</td>\n",
       "      <td>CONTABILIZZATO</td>\n",
       "      <td>Trasporti, noleggi, taxi e parcheggi</td>\n",
       "      <td>EUR</td>\n",
       "      <td>-42.0</td>\n",
       "      <td>NaN</td>\n",
       "      <td>NaN</td>\n",
       "      <td>NaN</td>\n",
       "    </tr>\n",
       "    <tr>\n",
       "      <th>1</th>\n",
       "      <td>102.0</td>\n",
       "      <td>2022-11-05</td>\n",
       "      <td>Lappetito Corso Torino 48 P</td>\n",
       "      <td>LAPPETITO CORSO TORINO 48 P05/112058 Carta N.5...</td>\n",
       "      <td>Conto 1000/00071615</td>\n",
       "      <td>CONTABILIZZATO</td>\n",
       "      <td>Ristoranti e bar</td>\n",
       "      <td>EUR</td>\n",
       "      <td>-14.0</td>\n",
       "      <td>NaN</td>\n",
       "      <td>NaN</td>\n",
       "      <td>NaN</td>\n",
       "    </tr>\n",
       "    <tr>\n",
       "      <th>2</th>\n",
       "      <td>101.0</td>\n",
       "      <td>2022-11-12</td>\n",
       "      <td>ILIAD ITALIA Roma</td>\n",
       "      <td>EFFETTUATO IL 12/11/2022 ALLE ORE 0209 MEDIANT...</td>\n",
       "      <td>Conto 1000/00071615</td>\n",
       "      <td>CONTABILIZZATO</td>\n",
       "      <td>Cellulare</td>\n",
       "      <td>EUR</td>\n",
       "      <td>-5.99</td>\n",
       "      <td>NaN</td>\n",
       "      <td>NaN</td>\n",
       "      <td>NaN</td>\n",
       "    </tr>\n",
       "    <tr>\n",
       "      <th>3</th>\n",
       "      <td>100.0</td>\n",
       "      <td>2022-12-01</td>\n",
       "      <td>Trenit S721130bstazione Pinerolo</td>\n",
       "      <td>Effettuato Il 01/12/2022 Alle Ore 0806 Mediant...</td>\n",
       "      <td>Conto 1000/00071615</td>\n",
       "      <td>CONTABILIZZATO</td>\n",
       "      <td>Trasporti, noleggi, taxi e parcheggi</td>\n",
       "      <td>EUR</td>\n",
       "      <td>-42.0</td>\n",
       "      <td>NaN</td>\n",
       "      <td>NaN</td>\n",
       "      <td>NaN</td>\n",
       "    </tr>\n",
       "    <tr>\n",
       "      <th>4</th>\n",
       "      <td>99.0</td>\n",
       "      <td>2022-12-07</td>\n",
       "      <td>263806013007357#the Space Cinema Beinasco</td>\n",
       "      <td>Effettuato Il 07/12/2022 Alle Ore 1331 Mediant...</td>\n",
       "      <td>Conto 1000/00071615</td>\n",
       "      <td>CONTABILIZZATO</td>\n",
       "      <td>Spettacoli e musei</td>\n",
       "      <td>EUR</td>\n",
       "      <td>-71.4</td>\n",
       "      <td>NaN</td>\n",
       "      <td>NaN</td>\n",
       "      <td>NaN</td>\n",
       "    </tr>\n",
       "  </tbody>\n",
       "</table>\n",
       "</div>"
      ],
      "text/plain": [
       "   Unnamed: 0       Data                                 Operazione  \\\n",
       "0       103.0 2022-11-02           Trenit S721130bstazione Pinerolo   \n",
       "1       102.0 2022-11-05                Lappetito Corso Torino 48 P   \n",
       "2       101.0 2022-11-12                          ILIAD ITALIA Roma   \n",
       "3       100.0 2022-12-01           Trenit S721130bstazione Pinerolo   \n",
       "4        99.0 2022-12-07  263806013007357#the Space Cinema Beinasco   \n",
       "\n",
       "                                            Dettagli        Conto o carta  \\\n",
       "0  Effettuato Il 02/11/2022 Alle Ore 0740 Mediant...  Conto 1000/00071615   \n",
       "1  LAPPETITO CORSO TORINO 48 P05/112058 Carta N.5...  Conto 1000/00071615   \n",
       "2  EFFETTUATO IL 12/11/2022 ALLE ORE 0209 MEDIANT...  Conto 1000/00071615   \n",
       "3  Effettuato Il 01/12/2022 Alle Ore 0806 Mediant...  Conto 1000/00071615   \n",
       "4  Effettuato Il 07/12/2022 Alle Ore 1331 Mediant...  Conto 1000/00071615   \n",
       "\n",
       "  Contabilizzazione                        Categoria banca Valuta Importo  \\\n",
       "0    CONTABILIZZATO  Trasporti, noleggi, taxi e parcheggi     EUR   -42.0   \n",
       "1    CONTABILIZZATO                       Ristoranti e bar    EUR   -14.0   \n",
       "2    CONTABILIZZATO                              Cellulare    EUR   -5.99   \n",
       "3    CONTABILIZZATO  Trasporti, noleggi, taxi e parcheggi     EUR   -42.0   \n",
       "4    CONTABILIZZATO                     Spettacoli e musei    EUR   -71.4   \n",
       "\n",
       "  Categoria Subcategoria Commento  \n",
       "0       NaN          NaN      NaN  \n",
       "1       NaN          NaN      NaN  \n",
       "2       NaN          NaN      NaN  \n",
       "3       NaN          NaN      NaN  \n",
       "4       NaN          NaN      NaN  "
      ]
     },
     "execution_count": 27,
     "metadata": {},
     "output_type": "execute_result"
    }
   ],
   "source": [
    "df_final = merge_and_sort(df1=pd.read_csv(dataframe), df2=new_data, columns=[\"Data\",\"Operazione\",\"Dettagli\",\"Conto o carta\",\"Contabilizzazione\",\"Categoria banca\",\"Valuta\",\"Importo\"])\n",
    "df_final.head()"
   ]
  },
  {
   "cell_type": "code",
   "execution_count": 26,
   "metadata": {},
   "outputs": [],
   "source": [
    "df_final.to_csv(\"../data/dataframe.csv\", index=False)"
   ]
  },
  {
   "cell_type": "code",
   "execution_count": 28,
   "metadata": {},
   "outputs": [],
   "source": [
    "import datetime\n",
    "\n",
    "today = datetime.datetime.now()\n",
    "df_final.to_csv(\n",
    "    f'C:/Users/Admin/Documents/GitHub/Banca/data/dataframe_{today.strftime(\"%Y%m%d_%H%M%S\")}.csv',\n",
    "    index=False,\n",
    ")"
   ]
  },
  {
   "cell_type": "markdown",
   "metadata": {},
   "source": [
    "# Dash"
   ]
  },
  {
   "cell_type": "code",
   "execution_count": 35,
   "metadata": {},
   "outputs": [],
   "source": [
    "from datetime import timedelta, datetime\n",
    "import numpy as np\n",
    "import pandas as pd\n",
    "from pandas.tseries.offsets import DateOffset"
   ]
  },
  {
   "cell_type": "code",
   "execution_count": 37,
   "metadata": {},
   "outputs": [
    {
     "data": {
      "text/html": [
       "<div>\n",
       "<style scoped>\n",
       "    .dataframe tbody tr th:only-of-type {\n",
       "        vertical-align: middle;\n",
       "    }\n",
       "\n",
       "    .dataframe tbody tr th {\n",
       "        vertical-align: top;\n",
       "    }\n",
       "\n",
       "    .dataframe thead th {\n",
       "        text-align: right;\n",
       "    }\n",
       "</style>\n",
       "<table border=\"1\" class=\"dataframe\">\n",
       "  <thead>\n",
       "    <tr style=\"text-align: right;\">\n",
       "      <th></th>\n",
       "      <th>Unnamed: 0</th>\n",
       "      <th>Data</th>\n",
       "      <th>Operazione</th>\n",
       "      <th>Dettagli</th>\n",
       "      <th>Conto o carta</th>\n",
       "      <th>Contabilizzazione</th>\n",
       "      <th>Categoria banca</th>\n",
       "      <th>Valuta</th>\n",
       "      <th>Importo</th>\n",
       "      <th>Categoria</th>\n",
       "      <th>Subcategoria</th>\n",
       "      <th>Commento</th>\n",
       "    </tr>\n",
       "  </thead>\n",
       "  <tbody>\n",
       "    <tr>\n",
       "      <th>0</th>\n",
       "      <td>103.0</td>\n",
       "      <td>2022-11-02</td>\n",
       "      <td>Trenit S721130bstazione Pinerolo</td>\n",
       "      <td>Effettuato Il 02/11/2022 Alle Ore 0740 Mediant...</td>\n",
       "      <td>Conto 1000/00071615</td>\n",
       "      <td>CONTABILIZZATO</td>\n",
       "      <td>Trasporti, noleggi, taxi e parcheggi</td>\n",
       "      <td>EUR</td>\n",
       "      <td>-42.0</td>\n",
       "      <td>NaN</td>\n",
       "      <td>NaN</td>\n",
       "      <td>NaN</td>\n",
       "    </tr>\n",
       "  </tbody>\n",
       "</table>\n",
       "</div>"
      ],
      "text/plain": [
       "   Unnamed: 0        Data                        Operazione  \\\n",
       "0       103.0  2022-11-02  Trenit S721130bstazione Pinerolo   \n",
       "\n",
       "                                            Dettagli        Conto o carta  \\\n",
       "0  Effettuato Il 02/11/2022 Alle Ore 0740 Mediant...  Conto 1000/00071615   \n",
       "\n",
       "  Contabilizzazione                        Categoria banca Valuta  Importo  \\\n",
       "0    CONTABILIZZATO  Trasporti, noleggi, taxi e parcheggi     EUR    -42.0   \n",
       "\n",
       "   Categoria  Subcategoria  Commento  \n",
       "0        NaN           NaN       NaN  "
      ]
     },
     "execution_count": 37,
     "metadata": {},
     "output_type": "execute_result"
    }
   ],
   "source": [
    "df = pd.read_csv(\n",
    "    \"C:/Users/Admin/Documents/GitHub/MoneyMinder/data/dataframe_20231202_194450.csv\"\n",
    ")\n",
    "df.head(1)"
   ]
  },
  {
   "cell_type": "code",
   "execution_count": 38,
   "metadata": {},
   "outputs": [
    {
     "data": {
      "text/plain": [
       "0    2022-11-02\n",
       "1    2022-11-05\n",
       "2    2022-11-12\n",
       "3    2022-12-01\n",
       "4    2022-12-07\n",
       "Name: Data, dtype: object"
      ]
     },
     "execution_count": 38,
     "metadata": {},
     "output_type": "execute_result"
    }
   ],
   "source": [
    "data=df[\"Data\"]\n",
    "data.head()"
   ]
  },
  {
   "cell_type": "code",
   "execution_count": 39,
   "metadata": {},
   "outputs": [
    {
     "data": {
      "text/plain": [
       "0   2022-11-02 00:00:00+00:00\n",
       "1   2022-11-05 00:00:00+00:00\n",
       "2   2022-11-12 00:00:00+00:00\n",
       "3   2022-12-01 00:00:00+00:00\n",
       "4   2022-12-07 00:00:00+00:00\n",
       "Name: Data_time, dtype: datetime64[ns, UTC]"
      ]
     },
     "execution_count": 39,
     "metadata": {},
     "output_type": "execute_result"
    }
   ],
   "source": [
    "# Converti la colonna 'Data' in datetime\n",
    "df[\"Data\"] = pd.to_datetime(df[\"Data\"])\n",
    "\n",
    "# Converti in UTC\n",
    "df[\"Data_time\"] = df[\"Data\"].dt.tz_localize(\"UTC\")\n",
    "\n",
    "df[\"Data_time\"].head()"
   ]
  },
  {
   "cell_type": "code",
   "execution_count": 42,
   "metadata": {},
   "outputs": [
    {
     "data": {
      "text/plain": [
       "Timestamp('2023-11-14 00:00:00')"
      ]
     },
     "execution_count": 42,
     "metadata": {},
     "output_type": "execute_result"
    }
   ],
   "source": [
    "# Trova la data più grande\n",
    "df[\"Data\"].max()"
   ]
  },
  {
   "cell_type": "code",
   "execution_count": 40,
   "metadata": {},
   "outputs": [
    {
     "name": "stdout",
     "output_type": "stream",
     "text": [
      "DatetimeIndex(['2023-11-14 00:00:00+00:00', '2023-11-15 00:00:00+00:00',\n",
      "               '2023-11-16 00:00:00+00:00', '2023-11-17 00:00:00+00:00',\n",
      "               '2023-11-18 00:00:00+00:00', '2023-11-19 00:00:00+00:00',\n",
      "               '2023-11-20 00:00:00+00:00', '2023-11-21 00:00:00+00:00',\n",
      "               '2023-11-22 00:00:00+00:00', '2023-11-23 00:00:00+00:00',\n",
      "               '2023-11-24 00:00:00+00:00', '2023-11-25 00:00:00+00:00',\n",
      "               '2023-11-26 00:00:00+00:00', '2023-11-27 00:00:00+00:00',\n",
      "               '2023-11-28 00:00:00+00:00', '2023-11-29 00:00:00+00:00',\n",
      "               '2023-11-30 00:00:00+00:00', '2023-12-01 00:00:00+00:00',\n",
      "               '2023-12-02 00:00:00+00:00', '2023-12-03 00:00:00+00:00',\n",
      "               '2023-12-04 00:00:00+00:00', '2023-12-05 00:00:00+00:00',\n",
      "               '2023-12-06 00:00:00+00:00', '2023-12-07 00:00:00+00:00',\n",
      "               '2023-12-08 00:00:00+00:00', '2023-12-09 00:00:00+00:00',\n",
      "               '2023-12-10 00:00:00+00:00', '2023-12-11 00:00:00+00:00',\n",
      "               '2023-12-12 00:00:00+00:00', '2023-12-13 00:00:00+00:00',\n",
      "               '2023-12-14 00:00:00+00:00'],\n",
      "              dtype='datetime64[ns, UTC]', freq='<DateOffset: days=1>')\n"
     ]
    }
   ],
   "source": [
    "# Trova la data più grande\n",
    "data_max = df[\"Data\"].max()\n",
    "\n",
    "# Crea un array con le 30 date successive\n",
    "date_range = pd.date_range(start=data_max, periods=31, freq=DateOffset(days=1))\n",
    "\n",
    "# Converti l'array in UTC\n",
    "date_range = date_range.tz_localize(\"UTC\")\n",
    "\n",
    "# Stampa l'array\n",
    "print(date_range)"
   ]
  },
  {
   "cell_type": "code",
   "execution_count": null,
   "metadata": {},
   "outputs": [],
   "source": [
    "# forecaste il saldo del conto dopo ogni transaz\n",
    "# Converte la colonna \"Data\" in timestamp\n",
    "df[\"Day\"] = df[\"Data\"].apply(lambda x: x.timestamp())\n",
    "\n",
    "X = df[\"Day\"].values.reshape(-1, 1)\n",
    "y = df[\"Balance\"].values.reshape(-1, 1)\n",
    "X_train, X_test, y_train, y_test = train_test_split(X, y, test_size=0.2, random_state=0)\n",
    "regressor = LinearRegression()\n",
    "regressor.fit(X_train, y_train)  # addestramento del modello\n",
    "\n",
    "# previsione\n",
    "x_pred = date_for_forecast(date=df[\"Data\"])\n",
    "x_pred = pd.Series(x_pred)\n",
    "# Converti gli oggetti Timestamp in giorni dall'epoca\n",
    "x_pred = x_pred.apply(\n",
    "    lambda x: (x - pd.Timestamp(\"1970-01-01\").tz_localize(\"UTC\")) // pd.Timedelta(\"1D\")\n",
    ")\n",
    "# Trasforma x_pred in un array numpy per l'uso con il tuo modello\n",
    "x_pred = np.array(x_pred).reshape(-1, 1)\n",
    "# Fai previsioni sul saldo del conto per i prossimi 30 giorni\n",
    "y_pred = regressor.predict(x_pred)"
   ]
  }
 ],
 "metadata": {
  "kernelspec": {
   "display_name": "chemtools",
   "language": "python",
   "name": "python3"
  },
  "language_info": {
   "codemirror_mode": {
    "name": "ipython",
    "version": 3
   },
   "file_extension": ".py",
   "mimetype": "text/x-python",
   "name": "python",
   "nbconvert_exporter": "python",
   "pygments_lexer": "ipython3",
   "version": "3.11.2"
  },
  "orig_nbformat": 4
 },
 "nbformat": 4,
 "nbformat_minor": 2
}
